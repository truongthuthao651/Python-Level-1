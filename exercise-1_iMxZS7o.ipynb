{
 "cells": [
  {
   "cell_type": "markdown",
   "id": "growing-perfume",
   "metadata": {
    "heading_collapsed": "true",
    "tags": []
   },
   "source": [
    "# Exercises"
   ]
  },
  {
   "cell_type": "markdown",
   "id": "altered-ukraine",
   "metadata": {
    "tags": []
   },
   "source": [
    "Python program to find the sum of the digits of an integer using for loop"
   ]
  },
  {
   "cell_type": "code",
   "execution_count": null,
   "id": "posted-mercy",
   "metadata": {},
   "outputs": [],
   "source": []
  },
  {
   "cell_type": "markdown",
   "id": "informal-worst",
   "metadata": {
    "tags": []
   },
   "source": [
    "Python program to check whether the given number is even or not."
   ]
  },
  {
   "cell_type": "code",
   "execution_count": null,
   "id": "atomic-mongolia",
   "metadata": {},
   "outputs": [],
   "source": []
  },
  {
   "cell_type": "markdown",
   "id": "forced-tsunami",
   "metadata": {
    "tags": []
   },
   "source": [
    "Python program to find the area of a triangle whose sides are given\n",
    "\n",
    "$$p = (a + b + c)/2$$\n",
    "\n",
    "$$S = \\sqrt{p (p-a) (p-b) (p-c)}$$"
   ]
  },
  {
   "cell_type": "code",
   "execution_count": null,
   "id": "empirical-security",
   "metadata": {},
   "outputs": [],
   "source": []
  },
  {
   "cell_type": "markdown",
   "id": "desperate-brother",
   "metadata": {
    "tags": []
   },
   "source": [
    "Python program to find out the average of a set of integers"
   ]
  },
  {
   "cell_type": "code",
   "execution_count": null,
   "id": "russian-webster",
   "metadata": {},
   "outputs": [],
   "source": []
  },
  {
   "cell_type": "markdown",
   "id": "proprietary-delta",
   "metadata": {},
   "source": [
    "# Slicing"
   ]
  },
  {
   "cell_type": "code",
   "execution_count": null,
   "id": "ruled-emergency",
   "metadata": {},
   "outputs": [],
   "source": [
    "a = [1,2,3,4,5,3,3,3,8,9,10]\n",
    "\n",
    "a[...] == [3,3,3]"
   ]
  },
  {
   "cell_type": "markdown",
   "id": "caring-attendance",
   "metadata": {},
   "source": [
    "---"
   ]
  },
  {
   "cell_type": "code",
   "execution_count": null,
   "id": "hearing-kansas",
   "metadata": {},
   "outputs": [],
   "source": [
    "a = [1,2,3,4,5,6,7,8]\n",
    "a[...] == [1,3,5,7]"
   ]
  },
  {
   "cell_type": "markdown",
   "id": "velvet-norman",
   "metadata": {},
   "source": [
    "---"
   ]
  },
  {
   "cell_type": "code",
   "execution_count": null,
   "id": "grateful-drove",
   "metadata": {},
   "outputs": [],
   "source": [
    "a = [1,2,3,4,5,6,7,8]\n",
    "\n",
    "a[...] == [2,4,6,8]"
   ]
  },
  {
   "cell_type": "markdown",
   "id": "convenient-kitty",
   "metadata": {},
   "source": [
    "---"
   ]
  },
  {
   "cell_type": "code",
   "execution_count": null,
   "id": "toxic-projector",
   "metadata": {},
   "outputs": [],
   "source": [
    "s = 'Python is an interpreted high-level general-purpose programming language'\n",
    "\n",
    "s[...] == 'general-purpose'"
   ]
  }
 ],
 "metadata": {
  "kernelspec": {
   "display_name": "Python 3 (ipykernel)",
   "language": "python",
   "name": "python3"
  },
  "language_info": {
   "codemirror_mode": {
    "name": "ipython",
    "version": 3
   },
   "file_extension": ".py",
   "mimetype": "text/x-python",
   "name": "python",
   "nbconvert_exporter": "python",
   "pygments_lexer": "ipython3",
   "version": "3.8.10"
  }
 },
 "nbformat": 4,
 "nbformat_minor": 5
}
