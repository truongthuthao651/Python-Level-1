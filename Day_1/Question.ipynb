{
 "cells": [
  {
   "cell_type": "markdown",
   "id": "amber-harris",
   "metadata": {},
   "source": [
    "# Hoàn thành code"
   ]
  },
  {
   "cell_type": "code",
   "execution_count": null,
   "id": "level-crawford",
   "metadata": {},
   "outputs": [],
   "source": [
    "a = 2\n",
    "b = ...\n",
    "a + b == 10"
   ]
  },
  {
   "cell_type": "code",
   "execution_count": null,
   "id": "related-title",
   "metadata": {},
   "outputs": [],
   "source": [
    "a = 'Hello'\n",
    "b = ...\n",
    "a + b == 'Hello everybody!'"
   ]
  },
  {
   "cell_type": "code",
   "execution_count": null,
   "id": "pediatric-destruction",
   "metadata": {},
   "outputs": [],
   "source": [
    "a = [..., 2, 3, ...]  # list  # indices: 0, 1, 2, 3,...\n",
    "a[0] == 100"
   ]
  },
  {
   "cell_type": "code",
   "execution_count": null,
   "id": "vocal-tiffany",
   "metadata": {},
   "outputs": [],
   "source": [
    "a = [..., 2, 3, 4, ...]  # list []\n",
    "a[0] == 100 and a[-1] == -100  # index"
   ]
  },
  {
   "cell_type": "code",
   "execution_count": null,
   "id": "small-secret",
   "metadata": {},
   "outputs": [],
   "source": [
    "a = 50\n",
    "b = 50\n",
    "\n",
    "f'a + b = {...}' == 'a + b = 100'"
   ]
  },
  {
   "cell_type": "code",
   "execution_count": null,
   "id": "latter-remove",
   "metadata": {},
   "outputs": [],
   "source": [
    "import ...\n",
    "\n",
    "math.sin(2.5)"
   ]
  },
  {
   "cell_type": "code",
   "execution_count": null,
   "id": "restricted-province",
   "metadata": {},
   "outputs": [],
   "source": [
    "from random import ...\n",
    "\n",
    "randint(0, 9)   # random integer"
   ]
  }
 ],
 "metadata": {
  "kernelspec": {
   "display_name": "Python 3",
   "language": "python",
   "name": "python3"
  },
  "language_info": {
   "codemirror_mode": {
    "name": "ipython",
    "version": 3
   },
   "file_extension": ".py",
   "mimetype": "text/x-python",
   "name": "python",
   "nbconvert_exporter": "python",
   "pygments_lexer": "ipython3",
   "version": "3.8.10"
  },
  "toc-autonumbering": false
 },
 "nbformat": 4,
 "nbformat_minor": 5
}
