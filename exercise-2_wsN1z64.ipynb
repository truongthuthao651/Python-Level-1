{
 "cells": [
  {
   "cell_type": "markdown",
   "id": "aware-hierarchy",
   "metadata": {
    "tags": []
   },
   "source": [
    "# Homework"
   ]
  },
  {
   "cell_type": "markdown",
   "id": "honest-trunk",
   "metadata": {},
   "source": [
    "## 1"
   ]
  },
  {
   "cell_type": "code",
   "execution_count": null,
   "id": "biological-election",
   "metadata": {},
   "outputs": [],
   "source": [
    "a = range(1,6)\n",
    "[...] == '| a_1 -- a_2 -- a_3 -- a_4 -- a_5 |'"
   ]
  },
  {
   "cell_type": "markdown",
   "id": "flexible-fundamentals",
   "metadata": {},
   "source": [
    "## 2"
   ]
  },
  {
   "cell_type": "code",
   "execution_count": null,
   "id": "revised-return",
   "metadata": {},
   "outputs": [],
   "source": [
    "a = range(1,8,2)\n",
    "[...] == '| a_1 -- a_3 -- a_5 -- a_7 |'"
   ]
  },
  {
   "cell_type": "markdown",
   "id": "double-noise",
   "metadata": {},
   "source": [
    "## 3"
   ]
  },
  {
   "cell_type": "code",
   "execution_count": null,
   "id": "disturbed-japanese",
   "metadata": {},
   "outputs": [],
   "source": [
    "def f(x):\n",
    "    ...\n",
    "\n",
    "a = range(1,6)\n",
    "[f(i) for i in a] == ['.', '..', '...', '....', '.....']"
   ]
  },
  {
   "cell_type": "markdown",
   "id": "floating-experience",
   "metadata": {},
   "source": [
    "## 4"
   ]
  },
  {
   "cell_type": "code",
   "execution_count": null,
   "id": "convertible-thesaurus",
   "metadata": {},
   "outputs": [],
   "source": [
    "s = \"In 2021, we are celebrating the 90th anniversary of Kurt Gödel's groundbreaking 1931 paper which laid the foundations of theoretical computer science and the theory of artificial intelligence\"\n",
    "\n",
    "s[...:...] == 'Kurt Gödel'"
   ]
  }
 ],
 "metadata": {
  "kernelspec": {
   "display_name": "Python 3 (ipykernel)",
   "language": "python",
   "name": "python3"
  },
  "language_info": {
   "codemirror_mode": {
    "name": "ipython",
    "version": 3
   },
   "file_extension": ".py",
   "mimetype": "text/x-python",
   "name": "python",
   "nbconvert_exporter": "python",
   "pygments_lexer": "ipython3",
   "version": "3.8.10"
  }
 },
 "nbformat": 4,
 "nbformat_minor": 5
}
