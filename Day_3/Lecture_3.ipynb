{
 "cells": [
  {
   "cell_type": "markdown",
   "metadata": {},
   "source": [
    "# Day_3"
   ]
  },
  {
   "cell_type": "markdown",
   "metadata": {},
   "source": [
    "# List"
   ]
  },
  {
   "cell_type": "code",
   "execution_count": 2,
   "metadata": {},
   "outputs": [
    {
     "data": {
      "text/plain": [
       "[1, 2, 3, 4, 5, 6]"
      ]
     },
     "execution_count": 2,
     "metadata": {},
     "output_type": "execute_result"
    }
   ],
   "source": [
    "a = [1, 2, 3]\n",
    "b = [4, 5, 6]\n",
    "a + b"
   ]
  },
  {
   "cell_type": "code",
   "execution_count": 71,
   "metadata": {},
   "outputs": [
    {
     "data": {
      "text/plain": [
       "[1, 1, 1, 2, 'a', 6, 8, 7, 7, 9, 4, 5, 6, 123]"
      ]
     },
     "execution_count": 71,
     "metadata": {},
     "output_type": "execute_result"
    }
   ],
   "source": [
    "c = a + b\n",
    "c.append(123)                        # thêm ptu vào cuối\n",
    "c"
   ]
  },
  {
   "cell_type": "code",
   "execution_count": 8,
   "metadata": {},
   "outputs": [
    {
     "data": {
      "text/plain": [
       "[1, 2, 3, 4, 5, 6, 123, 'vnbn', 'vnbn']"
      ]
     },
     "execution_count": 8,
     "metadata": {},
     "output_type": "execute_result"
    }
   ],
   "source": [
    "c.append('vnbn')\n",
    "c"
   ]
  },
  {
   "cell_type": "code",
   "execution_count": 73,
   "metadata": {},
   "outputs": [
    {
     "data": {
      "text/plain": [
       "[1, 1, 1, 2, 'a', 6, 8, 7, 7, 9, 4, 5, 6, 123, [5, 8, 6]]"
      ]
     },
     "execution_count": 73,
     "metadata": {},
     "output_type": "execute_result"
    }
   ],
   "source": [
    "c.append([5, 8, 6])\n",
    "c"
   ]
  },
  {
   "cell_type": "code",
   "execution_count": 16,
   "metadata": {},
   "outputs": [
    {
     "data": {
      "text/plain": [
       "[1, 2, 3, 5, 123]"
      ]
     },
     "execution_count": 16,
     "metadata": {},
     "output_type": "execute_result"
    }
   ],
   "source": [
    "c.pop(3)                              # xóa ptu cuối c.pop()\n",
    "c                                     # xóa ở index 5 c.pop(5)"
   ]
  },
  {
   "cell_type": "code",
   "execution_count": 17,
   "metadata": {},
   "outputs": [
    {
     "data": {
      "text/plain": [
       "([1, 2, 3, 5, 123], [123, 5, 3, 2, 1])"
      ]
     },
     "execution_count": 17,
     "metadata": {},
     "output_type": "execute_result"
    }
   ],
   "source": [
    "c, sorted(c, reverse = True)          # sắp xếp từ lớn đến bé"
   ]
  },
  {
   "cell_type": "code",
   "execution_count": 18,
   "metadata": {},
   "outputs": [
    {
     "data": {
      "text/plain": [
       "[1, 2, 3, 5, 123]"
      ]
     },
     "execution_count": 18,
     "metadata": {},
     "output_type": "execute_result"
    }
   ],
   "source": [
    "sorted(c)                             # bé đến lớn"
   ]
  },
  {
   "cell_type": "code",
   "execution_count": 26,
   "metadata": {},
   "outputs": [],
   "source": [
    "a = [1, 5, 8, 6, 5, 7]"
   ]
  },
  {
   "cell_type": "code",
   "execution_count": 20,
   "metadata": {},
   "outputs": [
    {
     "data": {
      "text/plain": [
       "[1, 8, 6, 5, 7]"
      ]
     },
     "execution_count": 20,
     "metadata": {},
     "output_type": "execute_result"
    }
   ],
   "source": [
    "del a[1]                              # xóa index\n",
    "a"
   ]
  },
  {
   "cell_type": "code",
   "execution_count": 24,
   "metadata": {},
   "outputs": [
    {
     "data": {
      "text/plain": [
       "[6, 5, 7, 10]"
      ]
     },
     "execution_count": 24,
     "metadata": {},
     "output_type": "execute_result"
    }
   ],
   "source": [
    "a.remove(1)                           # xóa 1 gtri\n",
    "a"
   ]
  },
  {
   "cell_type": "code",
   "execution_count": 27,
   "metadata": {},
   "outputs": [
    {
     "data": {
      "text/plain": [
       "[1, 'new', 5, 8, 6, 5, 7]"
      ]
     },
     "execution_count": 27,
     "metadata": {},
     "output_type": "execute_result"
    }
   ],
   "source": [
    "a.insert(1, 'new')                    # replace(index, gtri)\n",
    "a"
   ]
  },
  {
   "cell_type": "markdown",
   "metadata": {},
   "source": [
    "# set"
   ]
  },
  {
   "cell_type": "code",
   "execution_count": 28,
   "metadata": {},
   "outputs": [],
   "source": [
    "a = [1, 1, 1, 2, 'a', 6, 8, 7, 7, 9]"
   ]
  },
  {
   "cell_type": "code",
   "execution_count": 29,
   "metadata": {},
   "outputs": [
    {
     "data": {
      "text/plain": [
       "{1, 2, 6, 7, 8, 9, 'a'}"
      ]
     },
     "execution_count": 29,
     "metadata": {},
     "output_type": "execute_result"
    }
   ],
   "source": [
    "A = set(a)                            # in ra các phần tử k trùng nhau\n",
    "A"
   ]
  },
  {
   "cell_type": "code",
   "execution_count": 30,
   "metadata": {},
   "outputs": [
    {
     "data": {
      "text/plain": [
       "[1, 2, 6, 7, 8, 9, 'a']"
      ]
     },
     "execution_count": 30,
     "metadata": {},
     "output_type": "execute_result"
    }
   ],
   "source": [
    "list(A)"
   ]
  },
  {
   "cell_type": "markdown",
   "metadata": {},
   "source": [
    "# loop"
   ]
  },
  {
   "cell_type": "code",
   "execution_count": 20,
   "metadata": {},
   "outputs": [
    {
     "data": {
      "text/plain": [
       "range(0, 10)"
      ]
     },
     "execution_count": 20,
     "metadata": {},
     "output_type": "execute_result"
    }
   ],
   "source": [
    "range(10)"
   ]
  },
  {
   "cell_type": "code",
   "execution_count": 21,
   "metadata": {},
   "outputs": [
    {
     "data": {
      "text/plain": [
       "[0, 1, 2, 3, 4, 5, 6, 7, 8, 9]"
      ]
     },
     "execution_count": 21,
     "metadata": {},
     "output_type": "execute_result"
    }
   ],
   "source": [
    "list(range(10))"
   ]
  },
  {
   "cell_type": "code",
   "execution_count": 24,
   "metadata": {},
   "outputs": [
    {
     "name": "stdout",
     "output_type": "stream",
     "text": [
      "0 + 1 = 1\n",
      "1 + 1 = 2\n",
      "2 + 1 = 3\n",
      "3 + 1 = 4\n",
      "4 + 1 = 5\n",
      "5 + 1 = 6\n",
      "6 + 1 = 7\n",
      "7 + 1 = 8\n",
      "8 + 1 = 9\n",
      "9 + 1 = 10\n"
     ]
    }
   ],
   "source": [
    "for i in range(10):\n",
    "    print(f'{i} + 1 = {i + 1}')"
   ]
  },
  {
   "cell_type": "code",
   "execution_count": 31,
   "metadata": {},
   "outputs": [
    {
     "name": "stdout",
     "output_type": "stream",
     "text": [
      "1\n",
      "----------\n",
      "3\n",
      "----------\n",
      "5\n",
      "----------\n",
      "7\n",
      "----------\n",
      "9\n",
      "----------\n",
      "11\n",
      "----------\n",
      "13\n",
      "----------\n",
      "15\n",
      "----------\n",
      "17\n",
      "----------\n",
      "19\n",
      "----------\n"
     ]
    }
   ],
   "source": [
    "for i in range(20):\n",
    "    if not i % 2 == 0:                # != : khác\n",
    "        print(i)\n",
    "        print('-'*10)"
   ]
  },
  {
   "cell_type": "code",
   "execution_count": 26,
   "metadata": {},
   "outputs": [
    {
     "name": "stdout",
     "output_type": "stream",
     "text": [
      "4\n",
      "6\n",
      "6\n"
     ]
    }
   ],
   "source": [
    "a = [3, 4, 6, 1, 5, 6]\n",
    "for i in a:\n",
    "    if i % 2 == 0:\n",
    "        print(i)"
   ]
  },
  {
   "cell_type": "markdown",
   "metadata": {},
   "source": [
    "# list comprehension"
   ]
  },
  {
   "cell_type": "code",
   "execution_count": 27,
   "metadata": {},
   "outputs": [
    {
     "data": {
      "text/plain": [
       "[1, 2, 3, 4]"
      ]
     },
     "execution_count": 27,
     "metadata": {},
     "output_type": "execute_result"
    }
   ],
   "source": [
    "a = [1, 2, 3, 4]\n",
    "[x for x in a]                         # C2 của for basic"
   ]
  },
  {
   "cell_type": "code",
   "execution_count": 29,
   "metadata": {},
   "outputs": [
    {
     "data": {
      "text/plain": [
       "[2, 4]"
      ]
     },
     "execution_count": 29,
     "metadata": {},
     "output_type": "execute_result"
    }
   ],
   "source": [
    "a = [1, 2, 3, 4]\n",
    "[i for i in a if i % 2 == 0]"
   ]
  },
  {
   "cell_type": "code",
   "execution_count": 30,
   "metadata": {},
   "outputs": [
    {
     "data": {
      "text/plain": [
       "['67', '6']"
      ]
     },
     "execution_count": 30,
     "metadata": {},
     "output_type": "execute_result"
    }
   ],
   "source": [
    "a = [2, 4, 67, 6, 3, 5]\n",
    "[str(i) for i in a if i>5]"
   ]
  },
  {
   "cell_type": "code",
   "execution_count": 32,
   "metadata": {},
   "outputs": [
    {
     "data": {
      "text/plain": [
       "[1, 0]"
      ]
     },
     "execution_count": 32,
     "metadata": {},
     "output_type": "execute_result"
    }
   ],
   "source": [
    "A = []                                 ### C1:\n",
    "for i in a:\n",
    "    if i > 5:\n",
    "        A.append(i % 2)\n",
    "A"
   ]
  },
  {
   "cell_type": "code",
   "execution_count": 33,
   "metadata": {},
   "outputs": [
    {
     "data": {
      "text/plain": [
       "[1, 0]"
      ]
     },
     "execution_count": 33,
     "metadata": {},
     "output_type": "execute_result"
    }
   ],
   "source": [
    "[i % 2 for i in a if i>5]              ### C2:"
   ]
  },
  {
   "cell_type": "markdown",
   "metadata": {},
   "source": [
    "# dictionary"
   ]
  },
  {
   "cell_type": "code",
   "execution_count": 35,
   "metadata": {},
   "outputs": [],
   "source": [
    "### keys, values, items, update"
   ]
  },
  {
   "cell_type": "code",
   "execution_count": 2,
   "metadata": {},
   "outputs": [],
   "source": [
    "d = {'a': 'this is a',\n",
    "     'b': 'this is b'}"
   ]
  },
  {
   "cell_type": "code",
   "execution_count": 4,
   "metadata": {},
   "outputs": [
    {
     "data": {
      "text/plain": [
       "{'b': 'this is b'}"
      ]
     },
     "execution_count": 4,
     "metadata": {},
     "output_type": "execute_result"
    }
   ],
   "source": [
    "d.pop('a')\n",
    "d"
   ]
  },
  {
   "cell_type": "code",
   "execution_count": 37,
   "metadata": {},
   "outputs": [
    {
     "data": {
      "text/plain": [
       "'this is a'"
      ]
     },
     "execution_count": 37,
     "metadata": {},
     "output_type": "execute_result"
    }
   ],
   "source": [
    "d['a']"
   ]
  },
  {
   "cell_type": "code",
   "execution_count": 40,
   "metadata": {},
   "outputs": [
    {
     "data": {
      "text/plain": [
       "{'a': 1, 'b': 2, (1, 2, 3): 'my tuple', 2: [1, 2, 3, 4, 5]}"
      ]
     },
     "execution_count": 40,
     "metadata": {},
     "output_type": "execute_result"
    }
   ],
   "source": [
    "d = {'a': 1,\n",
    "     'b': 2,\n",
    "     (1, 2, 3): 'my tuple',\n",
    "     2: [1, 2, 3, 4, 5]}\n",
    "d"
   ]
  },
  {
   "cell_type": "code",
   "execution_count": 41,
   "metadata": {},
   "outputs": [
    {
     "data": {
      "text/plain": [
       "5"
      ]
     },
     "execution_count": 41,
     "metadata": {},
     "output_type": "execute_result"
    }
   ],
   "source": [
    "d[2][-1]"
   ]
  },
  {
   "cell_type": "code",
   "execution_count": 47,
   "metadata": {},
   "outputs": [
    {
     "data": {
      "text/plain": [
       "'tuple'"
      ]
     },
     "execution_count": 47,
     "metadata": {},
     "output_type": "execute_result"
    }
   ],
   "source": [
    "d[(1,2,3)][-5:]"
   ]
  },
  {
   "cell_type": "code",
   "execution_count": 39,
   "metadata": {},
   "outputs": [
    {
     "data": {
      "text/plain": [
       "{'id': [1, 2, 3, 4], 'name': ['a', 'b', 'c', 'null'], 'new': 123}"
      ]
     },
     "execution_count": 39,
     "metadata": {},
     "output_type": "execute_result"
    }
   ],
   "source": [
    "d = {\n",
    "    'id': [1,2,3,4],\n",
    "    'name': ['a', 'b', 'c', 'null'],\n",
    "    'new' : 123\n",
    "}\n",
    "d"
   ]
  },
  {
   "cell_type": "code",
   "execution_count": 50,
   "metadata": {},
   "outputs": [
    {
     "data": {
      "text/plain": [
       "{'a': {'name': 'Thao', 'age': '20'},\n",
       " 'b': {'city': 'Nam Dinh', 'country': 'Viet Nam'}}"
      ]
     },
     "execution_count": 50,
     "metadata": {},
     "output_type": "execute_result"
    }
   ],
   "source": [
    "student = {\n",
    "    'a': {\n",
    "        'name': 'Thao',\n",
    "        'age': '20'\n",
    "    },\n",
    "    'b': {\n",
    "        'city': 'Nam Dinh', \n",
    "        'country': 'Viet Nam'\n",
    "    }\n",
    "}\n",
    "student"
   ]
  },
  {
   "cell_type": "code",
   "execution_count": 33,
   "metadata": {},
   "outputs": [
    {
     "data": {
      "text/plain": [
       "dict_keys(['id', 'name'])"
      ]
     },
     "execution_count": 33,
     "metadata": {},
     "output_type": "execute_result"
    }
   ],
   "source": [
    "d.keys()                               # find keys"
   ]
  },
  {
   "cell_type": "code",
   "execution_count": 34,
   "metadata": {},
   "outputs": [
    {
     "data": {
      "text/plain": [
       "dict_values([[1, 2, 3, 4], ['a', 'b', 'c', 'null']])"
      ]
     },
     "execution_count": 34,
     "metadata": {},
     "output_type": "execute_result"
    }
   ],
   "source": [
    "d.values()                             # find values"
   ]
  },
  {
   "cell_type": "code",
   "execution_count": 40,
   "metadata": {},
   "outputs": [
    {
     "name": "stdout",
     "output_type": "stream",
     "text": [
      "id -- [1, 2, 3, 4]\n",
      "name -- ['a', 'b', 'c', 'null']\n",
      "new -- 123\n",
      "@--@\n",
      "15129\n",
      "@--@\n"
     ]
    }
   ],
   "source": [
    "for key, value in d.items():\n",
    "    print(f'{key} -- {value}')\n",
    "    if isinstance(value, int):         # check values int/str or not\n",
    "        print('@--@')\n",
    "        print(value**2)\n",
    "        print('@--@')"
   ]
  },
  {
   "cell_type": "code",
   "execution_count": 41,
   "metadata": {},
   "outputs": [
    {
     "name": "stdout",
     "output_type": "stream",
     "text": [
      "id -- [1, 2, 3, 4]\n",
      "name -- ['a', 'b', 'c', 'null']\n",
      "new -- 123\n"
     ]
    }
   ],
   "source": [
    "for key, value in d.items():\n",
    "    print(f'{key} -- {value}')\n",
    "    if isinstance(value, str):  \n",
    "        print('@--@')\n",
    "        print(value**2)\n",
    "        print('@--@')"
   ]
  },
  {
   "cell_type": "code",
   "execution_count": 52,
   "metadata": {},
   "outputs": [
    {
     "data": {
      "text/plain": [
       "{'a': 1, 'b': 2, 'c': 10, 'd': 20}"
      ]
     },
     "execution_count": 52,
     "metadata": {},
     "output_type": "execute_result"
    }
   ],
   "source": [
    "d1 = {'a': 1, 'b': 2}\n",
    "d2 = {'c': 10, 'd': 20}\n",
    "d1.update(d2)                          # nối ~ append()\n",
    "d1"
   ]
  },
  {
   "cell_type": "code",
   "execution_count": 53,
   "metadata": {},
   "outputs": [
    {
     "data": {
      "text/plain": [
       "{'b': 2, 'c': 10, 'd': 20}"
      ]
     },
     "execution_count": 53,
     "metadata": {},
     "output_type": "execute_result"
    }
   ],
   "source": [
    "del d1['a']\n",
    "d1"
   ]
  },
  {
   "cell_type": "code",
   "execution_count": 44,
   "metadata": {},
   "outputs": [
    {
     "data": {
      "text/plain": [
       "True"
      ]
     },
     "execution_count": 44,
     "metadata": {},
     "output_type": "execute_result"
    }
   ],
   "source": [
    "'a' in d1                              # check key exists in dict or not"
   ]
  },
  {
   "cell_type": "code",
   "execution_count": 46,
   "metadata": {},
   "outputs": [
    {
     "data": {
      "text/plain": [
       "[('a', 1), ('b', 2), ('c', 10), ('d', 20)]"
      ]
     },
     "execution_count": 46,
     "metadata": {},
     "output_type": "execute_result"
    }
   ],
   "source": [
    "list(d1.items())"
   ]
  },
  {
   "cell_type": "markdown",
   "metadata": {},
   "source": [
    "# tách String --> Dict"
   ]
  },
  {
   "cell_type": "code",
   "execution_count": 75,
   "metadata": {},
   "outputs": [
    {
     "name": "stdout",
     "output_type": "stream",
     "text": [
      "\n",
      "product/productId: B003AI2VGA\n",
      "review/userId: AQJVNDW6YZFQS\n",
      "review/profileName: Charles R. Williams\n",
      "review/helpfulness: 3/11\n",
      "review/score: 1.0\n",
      "review/time: 1164153600\n",
      "review/summary: This is junk, stay away\n",
      "review/text: Mexican men are macho rapists, gangsters or ineffective bureaucrats. Mexican women are semi-pagan, pious fools. There are self-serving corporate types and even a pushy, culturally-insensitive liberal female reporter.<br /><br />The story is absurd, the characters are unbelievable, the stereotypes are offensive.\n",
      "\n"
     ]
    }
   ],
   "source": [
    "s = '''\n",
    "product/productId: B003AI2VGA\n",
    "review/userId: AQJVNDW6YZFQS\n",
    "review/profileName: Charles R. Williams\n",
    "review/helpfulness: 3/11\n",
    "review/score: 1.0\n",
    "review/time: 1164153600\n",
    "review/summary: This is junk, stay away\n",
    "review/text: Mexican men are macho rapists, gangsters or ineffective bureaucrats. Mexican women are semi-pagan, pious fools. There are self-serving corporate types and even a pushy, culturally-insensitive liberal female reporter.<br /><br />The story is absurd, the characters are unbelievable, the stereotypes are offensive.\n",
    "'''\n",
    "print(s)"
   ]
  },
  {
   "cell_type": "code",
   "execution_count": 66,
   "metadata": {},
   "outputs": [
    {
     "data": {
      "text/plain": [
       "['product/productId: B003AI2VGA',\n",
       " 'review/userId: AQJVNDW6YZFQS',\n",
       " 'review/profileName: Charles R. Williams',\n",
       " 'review/helpfulness: 3/11',\n",
       " 'review/score: 1.0',\n",
       " 'review/time: 1164153600',\n",
       " 'review/summary: This is junk, stay away',\n",
       " 'review/text: Mexican men are macho rapists, gangsters or ineffective bureaucrats. Mexican women are semi-pagan, pious fools. There are self-serving corporate types and even a pushy, culturally-insensitive liberal female reporter.<br /><br />The story is absurd, the characters are unbelievable, the stereotypes are offensive.']"
      ]
     },
     "execution_count": 66,
     "metadata": {},
     "output_type": "execute_result"
    }
   ],
   "source": [
    "l = [line for line in s.split('\\n') if line.strip()]\n",
    "l"
   ]
  },
  {
   "cell_type": "code",
   "execution_count": 54,
   "metadata": {},
   "outputs": [
    {
     "data": {
      "text/plain": [
       "'product/productId: B003AI2VGA'"
      ]
     },
     "execution_count": 54,
     "metadata": {},
     "output_type": "execute_result"
    }
   ],
   "source": [
    "line = l[0]\n",
    "line"
   ]
  },
  {
   "cell_type": "code",
   "execution_count": 57,
   "metadata": {},
   "outputs": [
    {
     "data": {
      "text/plain": [
       "['product/productId', 'B003AI2VGA']"
      ]
     },
     "execution_count": 57,
     "metadata": {},
     "output_type": "execute_result"
    }
   ],
   "source": [
    "dict1 = line.split(': ')\n",
    "dict1"
   ]
  },
  {
   "cell_type": "code",
   "execution_count": 59,
   "metadata": {},
   "outputs": [
    {
     "data": {
      "text/plain": [
       "{'product/productId': 'B003AI2VGA'}"
      ]
     },
     "execution_count": 59,
     "metadata": {},
     "output_type": "execute_result"
    }
   ],
   "source": [
    "{dict1[0]: dict1[1]}                    # chuyển sang dict"
   ]
  },
  {
   "cell_type": "code",
   "execution_count": 76,
   "metadata": {},
   "outputs": [
    {
     "name": "stdout",
     "output_type": "stream",
     "text": [
      "{'product/productId': 'B003AI2VGA'}\n",
      "{'review/userId': 'AQJVNDW6YZFQS'}\n",
      "{'review/profileName': 'Charles R. Williams'}\n",
      "{'review/helpfulness': '3/11'}\n",
      "{'review/score': '1.0'}\n",
      "{'review/time': '1164153600'}\n",
      "{'review/summary': 'This is junk, stay away'}\n",
      "{'review/text': 'Mexican men are macho rapists, gangsters or ineffective bureaucrats. Mexican women are semi-pagan, pious fools. There are self-serving corporate types and even a pushy, culturally-insensitive liberal female reporter.<br /><br />The story is absurd, the characters are unbelievable, the stereotypes are offensive.'}\n"
     ]
    },
    {
     "data": {
      "text/plain": [
       "{'product/productId': 'B003AI2VGA',\n",
       " 'review/userId': 'AQJVNDW6YZFQS',\n",
       " 'review/profileName': 'Charles R. Williams',\n",
       " 'review/helpfulness': '3/11',\n",
       " 'review/score': '1.0',\n",
       " 'review/time': '1164153600',\n",
       " 'review/summary': 'This is junk, stay away',\n",
       " 'review/text': 'Mexican men are macho rapists, gangsters or ineffective bureaucrats. Mexican women are semi-pagan, pious fools. There are self-serving corporate types and even a pushy, culturally-insensitive liberal female reporter.<br /><br />The story is absurd, the characters are unbelievable, the stereotypes are offensive.'}"
      ]
     },
     "execution_count": 76,
     "metadata": {},
     "output_type": "execute_result"
    }
   ],
   "source": [
    "result = {}\n",
    "for line in l:\n",
    "    dict1 = line.split(': ')\n",
    "    out1 = {dict1[0]: dict1[1]}  \n",
    "    print(out1)\n",
    "    result.update(out1)\n",
    "result"
   ]
  },
  {
   "cell_type": "code",
   "execution_count": 79,
   "metadata": {},
   "outputs": [
    {
     "data": {
      "text/plain": [
       "'Mexican men are macho rapists, gangsters or ineffective bureaucrats. Mexican women are semi-pagan, pious fools. There are self-serving corporate types and even a pushy, culturally-insensitive liberal female reporter.<br /><br />The story is absurd, the characters are unbelievable, the stereotypes are offensive.'"
      ]
     },
     "execution_count": 79,
     "metadata": {},
     "output_type": "execute_result"
    }
   ],
   "source": [
    "result['review/text']"
   ]
  },
  {
   "cell_type": "markdown",
   "metadata": {},
   "source": [
    "# Conditional"
   ]
  },
  {
   "cell_type": "raw",
   "metadata": {},
   "source": [
    "Phân loại học sinh\n",
    "Nếu điểm dưới 5 => trung bình.\n",
    "Nếu từ 5 đến dưới 8 => khá.\n",
    "Nếu từ 8 đến dưới 9 => giỏi.\n",
    "Nếu trên 9 => xuất sắc."
   ]
  },
  {
   "cell_type": "code",
   "execution_count": 56,
   "metadata": {},
   "outputs": [
    {
     "name": "stdout",
     "output_type": "stream",
     "text": [
      "diem sai\n"
     ]
    }
   ],
   "source": [
    "score = 11.5\n",
    "\n",
    "if 0 <= score < 5:\n",
    "    print('trung binh')\n",
    "elif 5 <= score < 8:\n",
    "    print('kha')\n",
    "elif 8 <= score < 9:\n",
    "    print('gioi')\n",
    "elif 9 <= score <= 10:\n",
    "    print('xuat sac')\n",
    "else:\n",
    "    print('diem sai')"
   ]
  },
  {
   "cell_type": "raw",
   "metadata": {},
   "source": [
    "Một game đơn giản với \"if - else\"\n",
    "Chọn một cửa trong ba cửa.\n",
    "Nếu chọn cửa 1 => cửa may mắn. Chọn thêm phần quà 1 hoặc 2. Nếu chọn 1 => xe    hơi, nếu chọn 2 => xe đồ chơi.\n",
    "Nếu chọn cửa 2 hoặc 3 => thua trò chơi."
   ]
  },
  {
   "cell_type": "code",
   "execution_count": 92,
   "metadata": {},
   "outputs": [
    {
     "name": "stdout",
     "output_type": "stream",
     "text": [
      "Nhap: 1\n",
      "Thang\n",
      "Nhap qua (1 or 2): 2\n",
      "do choi\n"
     ]
    }
   ],
   "source": [
    "door = int(input('Nhap: '))\n",
    "if door == 1:\n",
    "    print('Thang')\n",
    "    prize = int(input('Nhap qua (1 or 2): '))\n",
    "    if prize == 1:\n",
    "        print('xe hoi')\n",
    "    elif prize == 2:\n",
    "        print('do choi')\n",
    "elif door in [2, 3]:\n",
    "    print('Thua')\n",
    "else:\n",
    "    print('Sai')"
   ]
  },
  {
   "cell_type": "code",
   "execution_count": 96,
   "metadata": {},
   "outputs": [
    {
     "name": "stdout",
     "output_type": "stream",
     "text": [
      "Nhap: 1\n",
      "Thang\n",
      "Nhap qua (1 or 2): 3\n",
      "Nhap qua (1 or 2): 5\n",
      "Nhap qua (1 or 2): 2\n",
      "do choi\n"
     ]
    }
   ],
   "source": [
    "door = int(input('Nhap: '))\n",
    "if door == 1:\n",
    "    print('Thang')\n",
    "    prize = None\n",
    "    while prize not in [1,2]:\n",
    "        prize = int(input('Nhap qua (1 or 2): '))\n",
    "    if prize == 1:\n",
    "        print('xe hoi')\n",
    "    elif prize == 2:\n",
    "        print('do choi')\n",
    "elif door in [2, 3]:\n",
    "    print('Thua')\n",
    "else:\n",
    "    print('Sai')"
   ]
  },
  {
   "cell_type": "markdown",
   "metadata": {},
   "source": [
    "# full progmamme"
   ]
  },
  {
   "cell_type": "code",
   "execution_count": 27,
   "metadata": {},
   "outputs": [
    {
     "name": "stdout",
     "output_type": "stream",
     "text": [
      "Let me know your choice:1\n",
      "Hey, you're lucky!\n",
      "Let's choose the prize.\n",
      "Which one would you want? 1 or 2?: 3\n",
      "Which one would you want? 1 or 2?: 5\n",
      "Which one would you want? 1 or 2?: 2\n",
      "Wow, you got a toy car!\n"
     ]
    }
   ],
   "source": [
    "choice = input('Let me know your choice:')\n",
    "choice = int(choice)\n",
    "\n",
    "if choice not in [1, 2, 3]:\n",
    "    print('Hey, there are only door 1, 2 or 3!')\n",
    "\n",
    "elif choice == 1:\n",
    "    print('Hey, you\\'re lucky!')\n",
    "    print(\"Let's choose the prize.\")\n",
    "    prize_choice = None\n",
    "    while prize_choice not in [1, 2]:\n",
    "\n",
    "        prize_choice = int(input('Which one would you want? 1 or 2?: '))\n",
    "\n",
    "    if prize_choice == 1:\n",
    "        print('Wow, you got a car!')\n",
    "    elif prize_choice == 2:\n",
    "        print('Wow, you got a toy car!')\n",
    "elif choice == 2:\n",
    "    print(\"Hehe, bad luck! I'll take all your money!\")\n",
    "elif choice == 3:\n",
    "    print(\"Hehe, bad luck! I'll take all your money and your soul!\")"
   ]
  },
  {
   "cell_type": "markdown",
   "metadata": {},
   "source": [
    "# random"
   ]
  },
  {
   "cell_type": "code",
   "execution_count": 89,
   "metadata": {},
   "outputs": [
    {
     "name": "stdout",
     "output_type": "stream",
     "text": [
      "Hey, you're lucky!\n",
      "Let's choose the prize.\n",
      "Which one would you want? 1 or 2?2\n",
      "Wow, you got a toy car!\n"
     ]
    }
   ],
   "source": [
    "import random\n",
    "\n",
    "choice = random.randint(1, 3)   # <-- changed here!\n",
    "\n",
    "if choice not in [1, 2, 3]:\n",
    "    print('Hey, there are only door 1, 2 or 3!')\n",
    "\n",
    "if choice == 1:\n",
    "    print('Hey, you\\'re lucky!')\n",
    "    print(\"Let's choose the prize.\")\n",
    "    prize_choice = int(input('Which one would you want? 1 or 2?'))\n",
    "\n",
    "    if prize_choice == 1:\n",
    "        print('Wow, you got a car!')\n",
    "    elif prize_choice == 2:\n",
    "        print('Wow, you got a toy car!')\n",
    "    else:\n",
    "        print('Hey, choose 1 or 2 only!')\n",
    "if choice == 2:\n",
    "    print(\"Hehe, bad luck! I'll take all your money!\")\n",
    "if choice == 3:\n",
    "    print(\"Hehe, bad luck! I'll take all your money and your soul!\")"
   ]
  },
  {
   "cell_type": "markdown",
   "metadata": {},
   "source": [
    "# Loop"
   ]
  },
  {
   "cell_type": "raw",
   "metadata": {},
   "source": [
    "The gambler\n",
    "Chọn một số.\n",
    "Nếu số đó nằm trong 1 list 10 số (ngẫu nhiên cho trước) => thắng, nếu không thì thua."
   ]
  },
  {
   "cell_type": "code",
   "execution_count": 46,
   "metadata": {},
   "outputs": [
    {
     "data": {
      "text/plain": [
       "7"
      ]
     },
     "execution_count": 46,
     "metadata": {},
     "output_type": "execute_result"
    }
   ],
   "source": [
    "import random\n",
    "random.randint(0, 9)"
   ]
  },
  {
   "cell_type": "code",
   "execution_count": 60,
   "metadata": {},
   "outputs": [
    {
     "data": {
      "text/plain": [
       "[4, 6, 2, 4, 6, 7, 4, 8, 8, 4]"
      ]
     },
     "execution_count": 60,
     "metadata": {},
     "output_type": "execute_result"
    }
   ],
   "source": [
    "# C1:\n",
    "random_nums = []            \n",
    "for i in range(10):                     # 0->9     \n",
    "    random_num = random.randint(0, 9)\n",
    "    random_nums.append(random_num)\n",
    "random_nums"
   ]
  },
  {
   "cell_type": "code",
   "execution_count": 49,
   "metadata": {},
   "outputs": [
    {
     "data": {
      "text/plain": [
       "[0, 7, 8, 7, 7, 5, 2, 7, 6, 9]"
      ]
     },
     "execution_count": 49,
     "metadata": {},
     "output_type": "execute_result"
    }
   ],
   "source": [
    "# C2:\n",
    "random_nums = [random.randint(0, 9) for i in range(10)]\n",
    "random_nums"
   ]
  },
  {
   "cell_type": "code",
   "execution_count": 55,
   "metadata": {},
   "outputs": [
    {
     "name": "stdout",
     "output_type": "stream",
     "text": [
      "Nhap: 6\n",
      "Thang\n"
     ]
    }
   ],
   "source": [
    "### FULL:\n",
    "num = int(input('Nhap: '))\n",
    "random_nums = [random.randint(0, 9) for i in range(10)]\n",
    "if num in random_nums:\n",
    "    print('Thang')\n",
    "else:\n",
    "    print('Thua')"
   ]
  },
  {
   "cell_type": "raw",
   "metadata": {},
   "source": [
    "The gambler 2.0\n",
    "Chọn một số và 1 cửa, mỗi cửa sẽ là một list chứa các số ngẫu nhiên.\n",
    "Nếu số nằm trong cửa đã chọn => thắng."
   ]
  },
  {
   "cell_type": "code",
   "execution_count": 57,
   "metadata": {},
   "outputs": [
    {
     "name": "stdout",
     "output_type": "stream",
     "text": [
      "Nhap cua (1 or 2): 3\n",
      "Nhap lai (1 or 2): 5\n",
      "Nhap lai (1 or 2): 1\n",
      "num? 2\n",
      "You won\n"
     ]
    }
   ],
   "source": [
    "door = int(input('Nhap cua (1 or 2): '))\n",
    "door_choice = None\n",
    "while door_choice not in [1, 2]:\n",
    "    door_choice = int(input('Nhap lai (1 or 2): '))\n",
    "if door_choice == 1:\n",
    "    pick = int(input('num? '))\n",
    "    rd = [random.randint(0, 9) for i in range(10)]\n",
    "    if pick in rd:\n",
    "        print('You won')\n",
    "    else: \n",
    "        print('You lost')\n",
    "elif door_choice == 2:\n",
    "    pick = int(input('num? '))\n",
    "    rd = [random.randint(0, 9) for i in range(10)]\n",
    "    if pick in rd:\n",
    "        print('You won')\n",
    "    else: \n",
    "        print('You lost')"
   ]
  }
 ],
 "metadata": {
  "kernelspec": {
   "display_name": "Python 3",
   "language": "python",
   "name": "python3"
  },
  "language_info": {
   "codemirror_mode": {
    "name": "ipython",
    "version": 3
   },
   "file_extension": ".py",
   "mimetype": "text/x-python",
   "name": "python",
   "nbconvert_exporter": "python",
   "pygments_lexer": "ipython3",
   "version": "3.8.3"
  }
 },
 "nbformat": 4,
 "nbformat_minor": 4
}
