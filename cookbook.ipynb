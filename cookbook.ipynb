{
 "cells": [
  {
   "cell_type": "markdown",
   "id": "freelance-ecuador",
   "metadata": {
    "tags": []
   },
   "source": [
    "### update variable outside loop"
   ]
  },
  {
   "cell_type": "code",
   "execution_count": null,
   "id": "soviet-bible",
   "metadata": {},
   "outputs": [],
   "source": [
    "s = 0\n",
    "\n",
    "for i in range(3):\n",
    "    s += i\n",
    "s"
   ]
  },
  {
   "cell_type": "markdown",
   "id": "extended-indicator",
   "metadata": {
    "tags": []
   },
   "source": [
    "### append results to a list"
   ]
  },
  {
   "cell_type": "code",
   "execution_count": null,
   "id": "radio-beatles",
   "metadata": {},
   "outputs": [],
   "source": [
    "a = []\n",
    "\n",
    "for i in range(10):\n",
    "    a.append(i**3)\n",
    "a"
   ]
  },
  {
   "cell_type": "code",
   "execution_count": null,
   "id": "confirmed-patent",
   "metadata": {},
   "outputs": [],
   "source": [
    "a = []\n",
    "\n",
    "for i in range(10):\n",
    "    if i % 2 == 0:\n",
    "        a.append(i)\n",
    "a"
   ]
  },
  {
   "cell_type": "markdown",
   "id": "duplicate-microwave",
   "metadata": {
    "tags": []
   },
   "source": [
    "### stop loop if condition met"
   ]
  },
  {
   "cell_type": "code",
   "execution_count": null,
   "id": "honest-platinum",
   "metadata": {},
   "outputs": [],
   "source": [
    "for i in range(10):\n",
    "    if i > 5 and i % 2 == 0: \n",
    "        print(i) \n",
    "        break"
   ]
  },
  {
   "cell_type": "markdown",
   "id": "norman-merchant",
   "metadata": {
    "tags": []
   },
   "source": [
    "### list comprehension for filtering items"
   ]
  },
  {
   "cell_type": "markdown",
   "id": "informative-dairy",
   "metadata": {},
   "source": [
    "$$\\{ f(i): i \\in A \\}$$"
   ]
  },
  {
   "cell_type": "code",
   "execution_count": null,
   "id": "religious-triple",
   "metadata": {},
   "outputs": [],
   "source": [
    "a = [i for i in range(10)]"
   ]
  },
  {
   "cell_type": "code",
   "execution_count": null,
   "id": "accurate-faith",
   "metadata": {},
   "outputs": [],
   "source": [
    "a = [] \n",
    "for i in range(10):\n",
    "    a.append(i) "
   ]
  },
  {
   "cell_type": "code",
   "execution_count": null,
   "id": "turned-management",
   "metadata": {},
   "outputs": [],
   "source": [
    "[i for i in range(10) if i % 2 == 0]"
   ]
  },
  {
   "cell_type": "markdown",
   "id": "aboriginal-yukon",
   "metadata": {
    "tags": []
   },
   "source": [
    "### list comprehension for applying a function to a list"
   ]
  },
  {
   "cell_type": "code",
   "execution_count": null,
   "id": "senior-religion",
   "metadata": {},
   "outputs": [],
   "source": [
    "from math import sin, pi\n",
    "\n",
    "[sin(k*pi) for k in range(10)]"
   ]
  },
  {
   "cell_type": "markdown",
   "id": "japanese-insertion",
   "metadata": {
    "tags": []
   },
   "source": [
    "### list comprehension for doing something multiple times"
   ]
  },
  {
   "cell_type": "code",
   "execution_count": null,
   "id": "skilled-possible",
   "metadata": {},
   "outputs": [],
   "source": [
    "from random import randint\n",
    "\n",
    "[randint(0, 9) for _ in range(10)]"
   ]
  },
  {
   "cell_type": "code",
   "execution_count": null,
   "id": "cheap-little",
   "metadata": {},
   "outputs": [],
   "source": [
    "from random import randint\n",
    "\n",
    "[randint(0, 9)*i for i in range(5)]"
   ]
  },
  {
   "cell_type": "markdown",
   "id": "monetary-midwest",
   "metadata": {
    "tags": []
   },
   "source": [
    "### get non-null items"
   ]
  },
  {
   "cell_type": "code",
   "execution_count": null,
   "id": "differential-observation",
   "metadata": {},
   "outputs": [],
   "source": [
    "a = ['', False, 1, 2, 3, '', 0, None, [], 'a']\n",
    "[item for item in a if item]"
   ]
  },
  {
   "cell_type": "markdown",
   "id": "elder-underground",
   "metadata": {
    "tags": []
   },
   "source": [
    "### reverse an iterable"
   ]
  },
  {
   "cell_type": "markdown",
   "id": "characteristic-fossil",
   "metadata": {},
   "source": [
    "a:b:c  # 1:9:2"
   ]
  },
  {
   "cell_type": "code",
   "execution_count": null,
   "id": "permanent-animal",
   "metadata": {},
   "outputs": [],
   "source": [
    "s = '123456'\n",
    "s[::-1]"
   ]
  },
  {
   "cell_type": "code",
   "execution_count": null,
   "id": "fifteen-benchmark",
   "metadata": {},
   "outputs": [],
   "source": [
    "a = [1, 2, 3]\n",
    "a[::-1]"
   ]
  },
  {
   "cell_type": "markdown",
   "id": "timely-assessment",
   "metadata": {
    "tags": []
   },
   "source": [
    "### get items at even/ odd indices"
   ]
  },
  {
   "cell_type": "code",
   "execution_count": null,
   "id": "approved-subsection",
   "metadata": {},
   "outputs": [],
   "source": [
    "a = list(range(10))\n",
    "a = [i + 1 for i in a]\n",
    "print(a)\n",
    "a[::3]"
   ]
  },
  {
   "cell_type": "code",
   "execution_count": null,
   "id": "expensive-process",
   "metadata": {},
   "outputs": [],
   "source": [
    "a[1::2]"
   ]
  },
  {
   "cell_type": "markdown",
   "id": "authorized-jaguar",
   "metadata": {
    "tags": []
   },
   "source": [
    "### read file content"
   ]
  },
  {
   "cell_type": "code",
   "execution_count": null,
   "id": "related-ecuador",
   "metadata": {},
   "outputs": [],
   "source": [
    "open('content.txt').read()"
   ]
  },
  {
   "cell_type": "markdown",
   "id": "impressive-kelly",
   "metadata": {
    "tags": []
   },
   "source": [
    "### read each line"
   ]
  },
  {
   "cell_type": "code",
   "execution_count": null,
   "id": "orange-production",
   "metadata": {},
   "outputs": [],
   "source": [
    "for line in open('content.txt'):\n",
    "    print(line)"
   ]
  },
  {
   "cell_type": "markdown",
   "id": "considered-council",
   "metadata": {
    "tags": []
   },
   "source": [
    "### check if a string is an integer"
   ]
  },
  {
   "cell_type": "code",
   "execution_count": null,
   "id": "perfect-tourism",
   "metadata": {},
   "outputs": [],
   "source": [
    "s = '1a'\n",
    "\n",
    "try:\n",
    "    int(s)\n",
    "    print('int!')\n",
    "except:\n",
    "    print('not int')"
   ]
  },
  {
   "cell_type": "markdown",
   "id": "fundamental-genealogy",
   "metadata": {
    "tags": []
   },
   "source": [
    "### string formatting"
   ]
  },
  {
   "cell_type": "code",
   "execution_count": null,
   "id": "seasonal-clause",
   "metadata": {},
   "outputs": [],
   "source": [
    "from math import pi\n",
    "\n",
    "f'{pi:.3f}'  # float"
   ]
  },
  {
   "cell_type": "code",
   "execution_count": null,
   "id": "orange-robert",
   "metadata": {},
   "outputs": [],
   "source": [
    "from math import pi\n",
    "\n",
    "f'{pi:.3f}'"
   ]
  },
  {
   "cell_type": "code",
   "execution_count": null,
   "id": "intensive-reputation",
   "metadata": {},
   "outputs": [],
   "source": [
    "f'{pi:.2e}'  # scientific  3.14xe^0"
   ]
  }
 ],
 "metadata": {
  "interpreter": {
   "hash": "1468a58c3a7b2a29ea27cc814e39aad725289df0de9a34481ce3ba03a92d3788"
  },
  "kernelspec": {
   "display_name": "Python 3 (ipykernel)",
   "language": "python",
   "name": "python3"
  },
  "language_info": {
   "codemirror_mode": {
    "name": "ipython",
    "version": 3
   },
   "file_extension": ".py",
   "mimetype": "text/x-python",
   "name": "python",
   "nbconvert_exporter": "python",
   "pygments_lexer": "ipython3",
   "version": "3.8.10"
  }
 },
 "nbformat": 4,
 "nbformat_minor": 5
}
