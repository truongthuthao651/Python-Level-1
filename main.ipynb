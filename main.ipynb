{
 "cells": [
  {
   "cell_type": "code",
   "execution_count": null,
   "id": "constitutional-information",
   "metadata": {
    "jupyter": {
     "source_hidden": true
    },
    "tags": []
   },
   "outputs": [],
   "source": [
    "%%html\n",
    "<style>\n",
    "    table, th, td {\n",
    "        font-size: 18px;\n",
    "    }\n",
    "    \n",
    "    .data {\n",
    "        color: #fb6f84;\n",
    "    }\n",
    "    \n",
    "    .basic {\n",
    "        color: #5dead5;\n",
    "    }\n",
    "    \n",
    "    .title {\n",
    "        color: #7c3bed;\n",
    "        font-weight: bold;\n",
    "    }\n",
    "    \n",
    "</style>"
   ]
  },
  {
   "cell_type": "markdown",
   "id": "stylish-nebraska",
   "metadata": {
    "jp-MarkdownHeadingCollapsed": true,
    "tags": []
   },
   "source": [
    "# <center> Giới thiệu </center>"
   ]
  },
  {
   "cell_type": "markdown",
   "id": "olympic-sweden",
   "metadata": {
    "tags": []
   },
   "source": [
    "# Tại sao nên dùng Python?"
   ]
  },
  {
   "cell_type": "markdown",
   "id": "floral-arrest",
   "metadata": {},
   "source": [
    "- #### Dễ dùng, dễ học và miễn phí.\n",
    "- #### Nhiều thư viện / code được làm sẵn, chỉ việc dùng.\n",
    "- #### Cộng đồng lớn, cả về người dùng và lập trình viên (là ngôn ngữ phổ biến nhất).\n",
    "- #### Hỗ trợ rất nhiều lĩnh vực khác nhau: AI, data, scientific computing, web, game, automation, hacking..."
   ]
  },
  {
   "cell_type": "markdown",
   "id": "greater-chamber",
   "metadata": {
    "tags": []
   },
   "source": [
    "# Mục tiêu khóa học"
   ]
  },
  {
   "cell_type": "markdown",
   "id": "seven-release",
   "metadata": {
    "heading_collapsed": "true",
    "tags": []
   },
   "source": [
    "#### $\\Rightarrow$ Dùng *python* để xử lý các tác vụ **phân tích dữ liệu**."
   ]
  },
  {
   "cell_type": "markdown",
   "id": "executive-flash",
   "metadata": {
    "heading_collapsed": "true",
    "tags": []
   },
   "source": [
    "### Định hướng:\n",
    "- #### Python phục vụ **data analysis**.\n",
    "- #### \"Vừa đủ\" khái niệm để thực hành.\n",
    "- #### Thực hành và thực hành."
   ]
  },
  {
   "cell_type": "markdown",
   "id": "square-norwegian",
   "metadata": {
    "tags": []
   },
   "source": [
    "# Nội dung"
   ]
  },
  {
   "cell_type": "markdown",
   "id": "italian-chile",
   "metadata": {},
   "source": [
    "| <div class='title'>Buổi</div> | <div class='title'>Nội dung</div> |\n",
    "|:---:|---|\n",
    "| **1** | Giới thiệu, cài đặt và một số khái niệm với Python. |\n",
    "| <div class='basic'>**2**</div> | Python cơ bản 1 |\n",
    "| <div class='basic'>**3**</div> | Python cơ bản 2 |\n",
    "| <div class='basic'>**4**</div> | `numpy` |\n",
    "| <div class='data'>**5**</div> | `pandas` 1 |\n",
    "| <div class='data'>**6**</div> | `pandas` 2 |\n",
    "| <div class='data'>**7**</div> | `pandas` 3 |\n",
    "| <div class='data'>**8**</div> | Visualization |\n",
    "| **9** | Data Analysis |\n",
    "| **10** | Tổng kết |"
   ]
  },
  {
   "cell_type": "markdown",
   "id": "juvenile-chambers",
   "metadata": {
    "tags": []
   },
   "source": [
    "# Cài đặt"
   ]
  },
  {
   "cell_type": "markdown",
   "id": "bridal-headset",
   "metadata": {
    "tags": []
   },
   "source": [
    "## Cần cài những gì?\n",
    "- #### Python interpreter (console).\n",
    "- #### Code editor (Jupyter Notebook/Lab, VSCode).\n",
    "- #### Libraries."
   ]
  },
  {
   "cell_type": "markdown",
   "id": "supreme-suicide",
   "metadata": {
    "tags": []
   },
   "source": [
    "## Anaconda\n",
    "#### ➡ Tải về: https://www.anaconda.com/products/individual\n",
    "#### ➡ Set path (không nên set path khi dùng macOS hay linux).\n",
    "#### ➡ Cài thêm một số gói."
   ]
  },
  {
   "cell_type": "markdown",
   "id": "southern-trainer",
   "metadata": {
    "tags": []
   },
   "source": [
    "## Jupyter\n",
    "#### ➡ Jupyter notebook.\n",
    "#### ➡ Jupyter lab."
   ]
  },
  {
   "cell_type": "markdown",
   "id": "revolutionary-stereo",
   "metadata": {
    "tags": []
   },
   "source": [
    "## Google Colab (cloud)\n",
    "https://colab.research.google.com/"
   ]
  },
  {
   "cell_type": "markdown",
   "id": "grave-tulsa",
   "metadata": {
    "tags": []
   },
   "source": [
    "# Demo"
   ]
  },
  {
   "cell_type": "markdown",
   "id": "measured-monday",
   "metadata": {
    "tags": []
   },
   "source": [
    "## In thông tin ra console"
   ]
  },
  {
   "cell_type": "code",
   "execution_count": null,
   "id": "85f5fb28-9a8b-438e-8c9b-8d789f55ff7b",
   "metadata": {},
   "outputs": [],
   "source": [
    "'whatever'"
   ]
  },
  {
   "cell_type": "code",
   "execution_count": null,
   "id": "c82a3e9d-cac2-4431-8027-01e4b0351e76",
   "metadata": {},
   "outputs": [],
   "source": [
    "'wont be printed'\n",
    "'whatever'"
   ]
  },
  {
   "cell_type": "code",
   "execution_count": null,
   "id": "patent-detective",
   "metadata": {
    "tags": []
   },
   "outputs": [],
   "source": [
    "print('wont be printed')\n",
    "'whatever'"
   ]
  },
  {
   "cell_type": "code",
   "execution_count": null,
   "id": "sharing-washer",
   "metadata": {
    "tags": []
   },
   "outputs": [],
   "source": [
    "n = 15\n",
    "\n",
    "for i in range(n):\n",
    "    num_spaces = n - i - 1\n",
    "    num_dots = 2*i + 1\n",
    "    print(' '*num_spaces, '+'*num_dots)"
   ]
  },
  {
   "cell_type": "markdown",
   "id": "educated-reduction",
   "metadata": {
    "tags": []
   },
   "source": [
    "## Tính toán"
   ]
  },
  {
   "cell_type": "code",
   "execution_count": null,
   "id": "hundred-commitment",
   "metadata": {
    "tags": []
   },
   "outputs": [],
   "source": [
    "from math import sin, cos, pi\n",
    "\n",
    "x = 5*pi/3\n",
    "print(f\"sin({x/pi:.1f}π) + cos({x/pi:.1f}π) = {sin(x) + cos(x):.2f}\")"
   ]
  },
  {
   "cell_type": "markdown",
   "id": "excited-concrete",
   "metadata": {
    "tags": []
   },
   "source": [
    "## Vẽ hình và thiết kế giao diện"
   ]
  },
  {
   "cell_type": "code",
   "execution_count": null,
   "id": "stylish-telephone",
   "metadata": {
    "tags": []
   },
   "outputs": [],
   "source": [
    "import matplotlib.pyplot as plt\n",
    "import matplotlib.animation\n",
    "import numpy as np\n",
    "from IPython.display import HTML\n",
    "\n",
    "t = np.linspace(0,2*np.pi)\n",
    "x = np.sin(t)\n",
    "\n",
    "fig, ax = plt.subplots()\n",
    "ax.axis([0,2*np.pi,-1,1])\n",
    "l, = ax.plot([],[], 'b')\n",
    "\n",
    "def animate(i): \n",
    "    l.set_data(t[:i], x[:i])\n",
    "\n",
    "ani = matplotlib.animation.FuncAnimation(fig, animate, frames=len(t))\n",
    "HTML(ani.to_jshtml())"
   ]
  },
  {
   "cell_type": "markdown",
   "id": "lovely-duncan",
   "metadata": {
    "tags": []
   },
   "source": [
    "## Lấy thông tin từ internet"
   ]
  },
  {
   "cell_type": "code",
   "execution_count": null,
   "id": "gorgeous-slovakia",
   "metadata": {},
   "outputs": [],
   "source": [
    "import requests\n",
    "from bs4 import BeautifulSoup\n",
    "\n",
    "url = 'https://news.google.com/topstories?hl=vi&gl=VN&ceid=VN:vi'\n",
    "page = requests.get(url).content\n",
    "soup = BeautifulSoup(page, 'html.parser')\n",
    "t = soup.select('a.DY5T1d.RZIKme')\n",
    "titles = [item.text for item in t]\n",
    "\n",
    "print(*titles, sep='\\n' + '---'*30 + '\\n')"
   ]
  },
  {
   "cell_type": "markdown",
   "id": "regular-production",
   "metadata": {
    "tags": []
   },
   "source": [
    "## Tổng hợp và phân tích dữ liệu"
   ]
  },
  {
   "cell_type": "code",
   "execution_count": null,
   "id": "cellular-retro",
   "metadata": {},
   "outputs": [],
   "source": [
    "from underthesea import word_tokenize\n",
    "from collections import Counter\n",
    "\n",
    "text = ' '.join(titles)\n",
    "\n",
    "counts = Counter([token for token in word_tokenize(text) if token not in [',', '.', ':']])\n",
    "counts.most_common()[:15]"
   ]
  },
  {
   "cell_type": "markdown",
   "id": "close-pharmacology",
   "metadata": {
    "tags": []
   },
   "source": [
    "# Một số tác vụ thường dùng"
   ]
  },
  {
   "cell_type": "markdown",
   "id": "cognitive-dividend",
   "metadata": {
    "tags": []
   },
   "source": [
    "## Mở `jupyter notebook` trong một thư mục"
   ]
  },
  {
   "cell_type": "markdown",
   "id": "understanding-malawi",
   "metadata": {},
   "source": [
    "- Mở thư mục bằng Windows Explorer.\n",
    "\n",
    "- Mở PowerShell: chuột phải vào vùng trống (giữ Shift), chọn \"Open PowerShell...\"\n",
    "\n",
    "- Gõ vào \"jupyter lab\", nhấn Enter."
   ]
  },
  {
   "cell_type": "markdown",
   "id": "violent-scheduling",
   "metadata": {
    "tags": []
   },
   "source": [
    "## Cấu trúc của `jupyter notebook`"
   ]
  },
  {
   "cell_type": "markdown",
   "id": "multiple-savage",
   "metadata": {
    "tags": []
   },
   "source": [
    "## Chạy code trên `jupyter notebook`"
   ]
  },
  {
   "cell_type": "markdown",
   "id": "ef02145b-aa03-46a2-8572-42b58bbd5590",
   "metadata": {},
   "source": [
    "## Một số phím tắt"
   ]
  },
  {
   "cell_type": "markdown",
   "id": "136e3262-a8d4-4c7b-8e18-9f323279fd5b",
   "metadata": {},
   "source": [
    "__Run__: Ctrl+Enter\n",
    "\n",
    "__Run and advance__: Shift+Enter\n",
    "\n",
    "__Command mode__: Esc\n",
    "\n",
    "__Markdown__: Esc m\n",
    "\n",
    "__Code__: Esc y\n",
    "\n",
    "__Copy__: Esc c\n",
    "\n",
    "__Cut__: Esc x\n",
    "\n",
    "__Paste__: Esc v\n",
    "\n",
    "__Add cell below__: Esc b\n",
    "\n",
    "__Add cell above__: Esc a"
   ]
  },
  {
   "cell_type": "markdown",
   "id": "damaged-pledge",
   "metadata": {
    "tags": []
   },
   "source": [
    "## Cài đặt thêm thư viện"
   ]
  },
  {
   "cell_type": "code",
   "execution_count": null,
   "id": "mexican-hungarian",
   "metadata": {},
   "outputs": [],
   "source": [
    "pip install library_name\n",
    "conda install library_name"
   ]
  },
  {
   "cell_type": "markdown",
   "id": "amateur-office",
   "metadata": {
    "tags": []
   },
   "source": [
    "# Hàm `print` và `input`"
   ]
  },
  {
   "cell_type": "code",
   "execution_count": null,
   "id": "prostate-still",
   "metadata": {
    "tags": []
   },
   "outputs": [],
   "source": [
    "print('This content will be printed')  # print a string"
   ]
  },
  {
   "cell_type": "code",
   "execution_count": null,
   "id": "db5eb564-28c8-4d76-895f-ae109a0d79d0",
   "metadata": {},
   "outputs": [],
   "source": [
    "print(\"This content will be printed\")"
   ]
  },
  {
   "cell_type": "code",
   "execution_count": null,
   "id": "crude-wellington",
   "metadata": {
    "tags": []
   },
   "outputs": [],
   "source": [
    "print(This content will be printed)"
   ]
  },
  {
   "cell_type": "code",
   "execution_count": null,
   "id": "continent-thunder",
   "metadata": {
    "tags": []
   },
   "outputs": [],
   "source": [
    "print('aa', 'bb', \"cc\")"
   ]
  },
  {
   "cell_type": "code",
   "execution_count": null,
   "id": "posted-scottish",
   "metadata": {
    "tags": []
   },
   "outputs": [],
   "source": [
    "print('This is the first line')\n",
    "print('\\tThis is the second line')  # backslash t(ab)\n",
    "print()\n",
    "print('\\tThis is the \\nthird line')  # backslash n(ewline) / r(eturn)"
   ]
  },
  {
   "cell_type": "code",
   "execution_count": null,
   "id": "weekly-relationship",
   "metadata": {
    "tags": []
   },
   "outputs": [],
   "source": [
    "a = input('Nhap vao query: ')\n",
    "a  # print(a)"
   ]
  },
  {
   "cell_type": "code",
   "execution_count": null,
   "id": "statewide-italy",
   "metadata": {
    "tags": []
   },
   "outputs": [],
   "source": [
    "a = input('Nhap vao query: ')\n",
    "print(a, '<--- this is from input')"
   ]
  },
  {
   "cell_type": "code",
   "execution_count": null,
   "id": "earned-speaker",
   "metadata": {
    "tags": []
   },
   "outputs": [],
   "source": [
    "int(a) / 2  # integer"
   ]
  },
  {
   "cell_type": "markdown",
   "id": "b3d7b737-9622-4fb8-875e-962f494567f2",
   "metadata": {
    "heading_collapsed": "true",
    "tags": []
   },
   "source": [
    "# Đọc code"
   ]
  },
  {
   "cell_type": "code",
   "execution_count": null,
   "id": "fc367478-e930-4d4b-a83b-7e8bfc6b4a72",
   "metadata": {
    "tags": []
   },
   "outputs": [],
   "source": [
    "1 + 1"
   ]
  },
  {
   "cell_type": "code",
   "execution_count": null,
   "id": "9440dde1-3158-4480-81a2-d1c3d9efb63a",
   "metadata": {
    "tags": []
   },
   "outputs": [],
   "source": [
    "a = 2\n",
    "b = 3\n",
    "a + b"
   ]
  },
  {
   "cell_type": "code",
   "execution_count": null,
   "id": "9d19b4e6-b7da-4716-8917-da5d449a90aa",
   "metadata": {},
   "outputs": [],
   "source": [
    "a, b = 2, 3\n",
    "a, b"
   ]
  },
  {
   "cell_type": "code",
   "execution_count": null,
   "id": "351a7cd2-fcf2-4e97-bf27-424aaaedd002",
   "metadata": {
    "tags": []
   },
   "outputs": [],
   "source": [
    "a_1 = 2\n",
    "b = 3\n",
    "a_1*b"
   ]
  },
  {
   "cell_type": "code",
   "execution_count": null,
   "id": "52c88127-6964-4b0f-be53-46717774dde6",
   "metadata": {},
   "outputs": [],
   "source": [
    "a_b_c_1_2_3 = 1  # underscore\n",
    "a_b_c_1_2_3"
   ]
  },
  {
   "cell_type": "code",
   "execution_count": null,
   "id": "7bbbab25-a3e0-40f5-a763-35efedbd8e1f",
   "metadata": {},
   "outputs": [],
   "source": [
    "a = 2\n",
    "b = 3\n",
    "a**b"
   ]
  },
  {
   "cell_type": "code",
   "execution_count": null,
   "id": "050b501f-b7ee-43d9-ab70-8934f4e32557",
   "metadata": {},
   "outputs": [],
   "source": [
    "a = 'a'\n",
    "b = 'b'\n",
    "a + b"
   ]
  },
  {
   "cell_type": "code",
   "execution_count": null,
   "id": "d2b22c68-2191-41fc-9df3-8cbfcabc52a2",
   "metadata": {},
   "outputs": [],
   "source": [
    "a = 'ab'\n",
    "a*5"
   ]
  },
  {
   "cell_type": "code",
   "execution_count": null,
   "id": "4ffbceef-8eac-4250-940a-249bba4d4248",
   "metadata": {},
   "outputs": [],
   "source": [
    "a = 'a'\n",
    "b = 'b'\n",
    "a*b"
   ]
  },
  {
   "cell_type": "code",
   "execution_count": null,
   "id": "37eb6ea8-971a-454b-8101-a8defa5e48d0",
   "metadata": {},
   "outputs": [],
   "source": [
    "a = 2\n",
    "b = 0\n",
    "a/b"
   ]
  },
  {
   "cell_type": "code",
   "execution_count": null,
   "id": "bcdc7f8b-fb02-4add-a82e-10b820c2a64f",
   "metadata": {},
   "outputs": [],
   "source": [
    "s = 100\n",
    "f's is {s**2}--{a}'  # f-string"
   ]
  },
  {
   "cell_type": "code",
   "execution_count": null,
   "id": "48d3b1a5-b82a-4404-9c7d-bbe5d4836449",
   "metadata": {},
   "outputs": [],
   "source": [
    "name = 'Mr. A'\n",
    "my_name = 'Mr. B'\n",
    "\n",
    "s = f'''Dear {name}\n",
    "Bla bla bla...\n",
    "Best regards,\n",
    "{my_name}.'''  # '''...''' <=> doc-string\n",
    "\n",
    "print(s)"
   ]
  },
  {
   "cell_type": "code",
   "execution_count": null,
   "id": "498f20c9-4b00-43f6-8806-a0a050104803",
   "metadata": {},
   "outputs": [],
   "source": [
    "def f(x):   # def <=> define\n",
    "    num = x*3\n",
    "    num += 2  # num = num + 2\n",
    "    return num\n",
    "\n",
    "f(10)"
   ]
  },
  {
   "cell_type": "code",
   "execution_count": null,
   "id": "19ac4c35-77e6-41ef-a150-69533621d5a1",
   "metadata": {},
   "outputs": [],
   "source": [
    "numbers = [2,3,4,5]\n",
    "\n",
    "mysum = 0\n",
    "for i in numbers:\n",
    "    mysum = mysum + i\n",
    "\n",
    "mysum"
   ]
  },
  {
   "cell_type": "code",
   "execution_count": null,
   "id": "f53f636a-88aa-4246-bad8-2cb8f091f382",
   "metadata": {},
   "outputs": [],
   "source": [
    "numbers = [2,3,4,5]\n",
    "my_sum = 0\n",
    "\n",
    "for i in numbers:\n",
    "    my_sum = my_sum + i\n",
    "    my_sum = my_sum * 2\n",
    "\n",
    "print(my_sum)"
   ]
  },
  {
   "cell_type": "code",
   "execution_count": null,
   "id": "bf7c7724-9988-48ab-8196-e548a4b406c9",
   "metadata": {},
   "outputs": [],
   "source": [
    "from math import pi\n",
    "\n",
    "r = float(input(\"Input the radius of the circle : \"))   # float = real number\n",
    "print(\"The area of the circle with radius \" + str(r) + \" is: \" + str(pi * r**2))\n",
    "print(\"The area of the circle with radius\", r, \"is:\", pi * r**2)\n",
    "print(f'The area of the circle with radius {r} is: {pi * r**2}')"
   ]
  },
  {
   "cell_type": "code",
   "execution_count": null,
   "id": "f72d87c5-8529-4865-b055-71d83b8584e9",
   "metadata": {},
   "outputs": [],
   "source": [
    "print(f'The area of the circle with radius {r} is: {round(pi * r**2, 2)}')"
   ]
  },
  {
   "cell_type": "code",
   "execution_count": null,
   "id": "1887fa2c-d56a-4689-9930-8f2e44306f0f",
   "metadata": {},
   "outputs": [],
   "source": [
    "print(f'The area of the circle with radius {r} is: {pi * r**2:.4f}')"
   ]
  },
  {
   "cell_type": "code",
   "execution_count": null,
   "id": "ad016914-0377-4689-8cc9-071034aa3dd8",
   "metadata": {},
   "outputs": [],
   "source": [
    "color_list = [\"Red\", \"Green\", \"White\", \"Black\"]  # list\n",
    "print(color_list[0], color_list[-1])  # index {0,1,2,3,...}"
   ]
  },
  {
   "cell_type": "markdown",
   "id": "freelance-camera",
   "metadata": {
    "heading_collapsed": "true",
    "tags": []
   },
   "source": [
    "# Cách gọi hàm từ thư viện"
   ]
  },
  {
   "cell_type": "code",
   "execution_count": null,
   "id": "referenced-radical",
   "metadata": {},
   "outputs": [],
   "source": [
    "import math"
   ]
  },
  {
   "cell_type": "code",
   "execution_count": null,
   "id": "73278e7b-8c30-447f-a36d-c633fbb50907",
   "metadata": {},
   "outputs": [],
   "source": [
    "math.sin(3.1415)\n",
    "math.log(2.7)"
   ]
  },
  {
   "cell_type": "code",
   "execution_count": null,
   "id": "careful-portland",
   "metadata": {},
   "outputs": [],
   "source": [
    "from math import sin, cos, log, pi"
   ]
  },
  {
   "cell_type": "code",
   "execution_count": null,
   "id": "76a56ae0-240d-43ad-bde8-373de3ff02cb",
   "metadata": {},
   "outputs": [],
   "source": [
    "import math as m\n",
    "\n",
    "m.sin(m.pi)"
   ]
  },
  {
   "cell_type": "code",
   "execution_count": null,
   "id": "d19541e2-6849-46b6-af3c-29bc4aab3003",
   "metadata": {},
   "outputs": [],
   "source": [
    "from math import *\n",
    "\n",
    "log10(e + sin(pi))"
   ]
  },
  {
   "cell_type": "code",
   "execution_count": null,
   "id": "fd3aa08b-b957-402e-a0ca-766d17d87f46",
   "metadata": {},
   "outputs": [],
   "source": [
    "from pylab import *\n",
    "\n",
    "plot(sin(linspace(-5,5,100)))"
   ]
  },
  {
   "cell_type": "markdown",
   "id": "dated-laser",
   "metadata": {
    "tags": []
   },
   "source": [
    "# Một số \"jupyter magic\" thường dùng"
   ]
  },
  {
   "cell_type": "markdown",
   "id": "gentle-wound",
   "metadata": {
    "heading_collapsed": "true",
    "tags": []
   },
   "source": [
    "## Đo thời gian (time, timeit)"
   ]
  },
  {
   "cell_type": "code",
   "execution_count": null,
   "id": "german-baker",
   "metadata": {},
   "outputs": [],
   "source": [
    "%%time\n",
    "from time import sleep\n",
    "\n",
    "sleep(2)"
   ]
  },
  {
   "cell_type": "code",
   "execution_count": null,
   "id": "chubby-aquarium",
   "metadata": {},
   "outputs": [],
   "source": [
    "%time from time import sleep\n",
    "\n",
    "sleep(2)"
   ]
  },
  {
   "cell_type": "code",
   "execution_count": null,
   "id": "d450dc61-3cfe-4cc8-b250-7f7e18c882b7",
   "metadata": {},
   "outputs": [],
   "source": [
    "from time import sleep\n",
    "\n",
    "%time sleep(2)"
   ]
  },
  {
   "cell_type": "code",
   "execution_count": null,
   "id": "legitimate-stream",
   "metadata": {},
   "outputs": [],
   "source": [
    "%timeit -n 10 -r 1 print('Hello')"
   ]
  },
  {
   "cell_type": "markdown",
   "id": "multiple-stretch",
   "metadata": {
    "heading_collapsed": "true",
    "tags": []
   },
   "source": [
    "## Ghi file và đọc nội dung file vào cell (writefile, load)"
   ]
  },
  {
   "cell_type": "code",
   "execution_count": null,
   "id": "70775ee2-e94a-40fd-a0dc-dfe72fc873a7",
   "metadata": {},
   "outputs": [],
   "source": [
    "%%writefile ...\n",
    "Lorem Ipsum is simply dummy text of the printing and typesetting industry. Lorem Ipsum has been the industry's standard dummy text ever since the 1500s, when an unknown printer took a galley of type and scrambled it to make a type specimen book. It has survived not only five centuries, but also the leap into electronic typesetting, remaining essentially unchanged. It was popularised in the 1960s with the release of Letraset sheets containing Lorem Ipsum passages, and more recently with desktop publishing software like Aldus PageMaker including versions of Lorem Ipsum."
   ]
  },
  {
   "cell_type": "code",
   "execution_count": null,
   "id": "dd7b980d-4d1a-41ef-a007-537915b303a6",
   "metadata": {},
   "outputs": [],
   "source": [
    "# %load ..."
   ]
  }
 ],
 "metadata": {
  "kernelspec": {
   "display_name": "Python 3 (ipykernel)",
   "language": "python",
   "name": "python3"
  },
  "language_info": {
   "codemirror_mode": {
    "name": "ipython",
    "version": 3
   },
   "file_extension": ".py",
   "mimetype": "text/x-python",
   "name": "python",
   "nbconvert_exporter": "python",
   "pygments_lexer": "ipython3",
   "version": "3.8.10"
  },
  "toc-autonumbering": false,
  "toc-showmarkdowntxt": false,
  "toc-showtags": false
 },
 "nbformat": 4,
 "nbformat_minor": 5
}
