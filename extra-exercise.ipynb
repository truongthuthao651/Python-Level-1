{
 "cells": [
  {
   "cell_type": "markdown",
   "id": "altered-ukraine",
   "metadata": {
    "tags": []
   },
   "source": [
    "Python program to find the sum of the digits of an integer using for loop"
   ]
  },
  {
   "cell_type": "markdown",
   "id": "informal-worst",
   "metadata": {
    "tags": []
   },
   "source": [
    "Python program to check whether the given number is even or not."
   ]
  },
  {
   "cell_type": "markdown",
   "id": "forced-tsunami",
   "metadata": {
    "tags": []
   },
   "source": [
    "Python program to find the area of a triangle whose sides are given\n",
    "\n",
    "$p = \\frac{a + b + c}{2}$\n",
    "\n",
    "$S = \\sqrt{p (p-a) (p-b) (p-c)}$"
   ]
  },
  {
   "cell_type": "markdown",
   "id": "desperate-brother",
   "metadata": {
    "tags": []
   },
   "source": [
    "Python program to find out the average of a set of integers"
   ]
  },
  {
   "cell_type": "markdown",
   "id": "continuing-canvas",
   "metadata": {
    "tags": []
   },
   "source": [
    "Python program to find the product of a set of real numbers"
   ]
  },
  {
   "cell_type": "markdown",
   "id": "vocational-nashville",
   "metadata": {
    "heading_collapsed": "true",
    "tags": []
   },
   "source": [
    "Python program to check whether the given integer is a multiple of 5"
   ]
  },
  {
   "cell_type": "markdown",
   "id": "mature-operation",
   "metadata": {
    "heading_collapsed": "true",
    "tags": []
   },
   "source": [
    "Python program to check whether the given integer is a multiple of both 5 and 7"
   ]
  },
  {
   "cell_type": "markdown",
   "id": "talented-disaster",
   "metadata": {},
   "source": [
    "Python program to find the average of 10 numbers using for loop"
   ]
  },
  {
   "cell_type": "markdown",
   "id": "tender-insulin",
   "metadata": {},
   "source": [
    "Python program to display the given integer in reverse manner"
   ]
  },
  {
   "cell_type": "markdown",
   "id": "mobile-garden",
   "metadata": {},
   "source": [
    "Python program to display all integers within the range 100-200 whose sum of digits is an even number"
   ]
  },
  {
   "cell_type": "markdown",
   "id": "prostate-consequence",
   "metadata": {},
   "source": [
    "Python program to check whether the given integer is a prime number or not"
   ]
  },
  {
   "cell_type": "markdown",
   "id": "forty-employee",
   "metadata": {},
   "source": [
    "Python program to generate the prime numbers from 1 to N"
   ]
  },
  {
   "cell_type": "markdown",
   "id": "challenging-helping",
   "metadata": {},
   "source": [
    "Python program to calculate difference of a list"
   ]
  },
  {
   "cell_type": "markdown",
   "id": "proprietary-payday",
   "metadata": {
    "heading_collapsed": "true",
    "tags": []
   },
   "source": [
    "Python program to find the largest number in a list "
   ]
  },
  {
   "cell_type": "markdown",
   "id": "pursuant-anniversary",
   "metadata": {
    "heading_collapsed": "true",
    "tags": []
   },
   "source": [
    "Python program to calculate mean of a list"
   ]
  },
  {
   "cell_type": "markdown",
   "id": "formed-render",
   "metadata": {},
   "source": [
    "Python program to calculate median of a list"
   ]
  },
  {
   "cell_type": "markdown",
   "id": "personalized-family",
   "metadata": {},
   "source": [
    "Python program to check whether a string is palindrome or not"
   ]
  },
  {
   "cell_type": "markdown",
   "id": "centered-transmission",
   "metadata": {},
   "source": [
    "Least Frequent Character in String"
   ]
  },
  {
   "cell_type": "markdown",
   "id": "motivated-participation",
   "metadata": {},
   "source": [
    "Odd Frequency Characters"
   ]
  },
  {
   "cell_type": "markdown",
   "id": "handmade-separate",
   "metadata": {},
   "source": [
    "Find all words starts with a substring"
   ]
  },
  {
   "cell_type": "markdown",
   "id": "spare-mechanism",
   "metadata": {},
   "source": [
    "Python program to implement matrix addition"
   ]
  },
  {
   "cell_type": "markdown",
   "id": "southern-landing",
   "metadata": {},
   "source": [
    "Python program to implement matrix multiplication"
   ]
  },
  {
   "cell_type": "markdown",
   "id": "friendly-premises",
   "metadata": {
    "heading_collapsed": "true",
    "tags": []
   },
   "source": [
    "# Filtering and applying"
   ]
  },
  {
   "cell_type": "code",
   "execution_count": null,
   "id": "australian-consumer",
   "metadata": {},
   "outputs": [],
   "source": [
    "a = range(10)\n",
    "\n",
    "[...] == [0,2,4,6,8]"
   ]
  },
  {
   "cell_type": "code",
   "execution_count": null,
   "id": "voluntary-baghdad",
   "metadata": {},
   "outputs": [],
   "source": [
    "a = ['a_1', 'b_1', 'a_2', 'b_3', 'a_3', 'b_2']\n",
    "\n",
    "[...] == ['a_1', 'a_2', 'a_3']"
   ]
  },
  {
   "cell_type": "code",
   "execution_count": null,
   "id": "upset-broad",
   "metadata": {},
   "outputs": [],
   "source": [
    "a = ['a', 0, 1, 2, 'b', 'c', 'd']\n",
    "\n",
    "[...] == [0,1,2]"
   ]
  },
  {
   "cell_type": "code",
   "execution_count": null,
   "id": "brown-discretion",
   "metadata": {},
   "outputs": [],
   "source": [
    "a = ['a', 0, 1, 2, 'b', 'c', 'd']\n",
    "\n",
    "[...] == ['a', 'b', 'c', 'd']"
   ]
  },
  {
   "cell_type": "code",
   "execution_count": null,
   "id": "biblical-franchise",
   "metadata": {},
   "outputs": [],
   "source": [
    "a = ['a', 0, 1, 2, 'b', 'c', 'd']\n",
    "\n",
    "[...] == [str, int, int, int, str, str, str]"
   ]
  },
  {
   "cell_type": "code",
   "execution_count": null,
   "id": "compound-flashing",
   "metadata": {},
   "outputs": [],
   "source": [
    "[...] == ['A', 0, 1, 4, 'B', 'C', 'D']"
   ]
  },
  {
   "cell_type": "markdown",
   "id": "grand-holly",
   "metadata": {
    "heading_collapsed": "true",
    "tags": []
   },
   "source": [
    "# String splitting and joining"
   ]
  },
  {
   "cell_type": "code",
   "execution_count": null,
   "id": "quarterly-reward",
   "metadata": {},
   "outputs": [],
   "source": [
    "s = 'this is a string  '\n",
    "\n",
    "... == 'this-is-a-string'"
   ]
  },
  {
   "cell_type": "code",
   "execution_count": null,
   "id": "monthly-bicycle",
   "metadata": {},
   "outputs": [],
   "source": [
    "a = range(5)\n",
    "\n",
    "[] == ['a_0', 'a_1', 'a_2', 'a_3', 'a_4']"
   ]
  },
  {
   "cell_type": "code",
   "execution_count": null,
   "id": "detected-mounting",
   "metadata": {},
   "outputs": [],
   "source": [
    "... == ['a_1', 'a_2', 'a_3', 'a_4', 'a_5']"
   ]
  },
  {
   "cell_type": "code",
   "execution_count": null,
   "id": "listed-torture",
   "metadata": {},
   "outputs": [],
   "source": [
    "a = range(1, 6)\n",
    "\n",
    "[] == ['a_1', 'a_2', 'a_3', 'a_4', 'a_5']"
   ]
  },
  {
   "cell_type": "code",
   "execution_count": null,
   "id": "german-thursday",
   "metadata": {},
   "outputs": [],
   "source": [
    "... == '| a_1 | a_2 | a_3 | a_4 | a_5 |'"
   ]
  },
  {
   "cell_type": "code",
   "execution_count": null,
   "id": "sustained-given",
   "metadata": {},
   "outputs": [],
   "source": [
    "... == '| a_1 | a_2 | a_3 | a_4 | a_5 |'"
   ]
  }
 ],
 "metadata": {
  "kernelspec": {
   "display_name": "Python 3 (ipykernel)",
   "language": "python",
   "name": "python3"
  },
  "language_info": {
   "codemirror_mode": {
    "name": "ipython",
    "version": 3
   },
   "file_extension": ".py",
   "mimetype": "text/x-python",
   "name": "python",
   "nbconvert_exporter": "python",
   "pygments_lexer": "ipython3",
   "version": "3.8.10"
  }
 },
 "nbformat": 4,
 "nbformat_minor": 5
}
