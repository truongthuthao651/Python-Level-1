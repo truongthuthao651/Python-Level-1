{
 "cells": [
  {
   "cell_type": "markdown",
   "id": "da14fe85",
   "metadata": {
    "tags": []
   },
   "source": [
    "# int, float"
   ]
  },
  {
   "cell_type": "code",
   "execution_count": 4,
   "id": "de25b2c3",
   "metadata": {},
   "outputs": [
    {
     "data": {
      "text/plain": [
       "1.4142135623730951"
      ]
     },
     "execution_count": 4,
     "metadata": {},
     "output_type": "execute_result"
    }
   ],
   "source": [
    "x = 2\n",
    "x**0.5"
   ]
  },
  {
   "cell_type": "code",
   "execution_count": 5,
   "id": "55056860",
   "metadata": {},
   "outputs": [
    {
     "data": {
      "text/plain": [
       "1.4142135623730951"
      ]
     },
     "execution_count": 5,
     "metadata": {},
     "output_type": "execute_result"
    }
   ],
   "source": [
    "from math import sqrt   # square root\n",
    "\n",
    "sqrt(x)"
   ]
  },
  {
   "cell_type": "code",
   "execution_count": 8,
   "id": "c90b3eae",
   "metadata": {},
   "outputs": [
    {
     "data": {
      "text/plain": [
       "(4.4816890703380645, 4.605170185988092)"
      ]
     },
     "execution_count": 8,
     "metadata": {},
     "output_type": "execute_result"
    }
   ],
   "source": [
    "import math\n",
    "\n",
    "math.exp(1.5), math.log(100)"
   ]
  },
  {
   "cell_type": "code",
   "execution_count": 9,
   "id": "6e86ac97",
   "metadata": {},
   "outputs": [
    {
     "data": {
      "text/plain": [
       "['__doc__',\n",
       " '__file__',\n",
       " '__loader__',\n",
       " '__name__',\n",
       " '__package__',\n",
       " '__spec__',\n",
       " 'acos',\n",
       " 'acosh',\n",
       " 'asin',\n",
       " 'asinh',\n",
       " 'atan',\n",
       " 'atan2',\n",
       " 'atanh',\n",
       " 'ceil',\n",
       " 'comb',\n",
       " 'copysign',\n",
       " 'cos',\n",
       " 'cosh',\n",
       " 'degrees',\n",
       " 'dist',\n",
       " 'e',\n",
       " 'erf',\n",
       " 'erfc',\n",
       " 'exp',\n",
       " 'expm1',\n",
       " 'fabs',\n",
       " 'factorial',\n",
       " 'floor',\n",
       " 'fmod',\n",
       " 'frexp',\n",
       " 'fsum',\n",
       " 'gamma',\n",
       " 'gcd',\n",
       " 'hypot',\n",
       " 'inf',\n",
       " 'isclose',\n",
       " 'isfinite',\n",
       " 'isinf',\n",
       " 'isnan',\n",
       " 'isqrt',\n",
       " 'ldexp',\n",
       " 'lgamma',\n",
       " 'log',\n",
       " 'log10',\n",
       " 'log1p',\n",
       " 'log2',\n",
       " 'modf',\n",
       " 'nan',\n",
       " 'perm',\n",
       " 'pi',\n",
       " 'pow',\n",
       " 'prod',\n",
       " 'radians',\n",
       " 'remainder',\n",
       " 'sin',\n",
       " 'sinh',\n",
       " 'sqrt',\n",
       " 'tan',\n",
       " 'tanh',\n",
       " 'tau',\n",
       " 'trunc']"
      ]
     },
     "execution_count": 9,
     "metadata": {},
     "output_type": "execute_result"
    }
   ],
   "source": [
    "dir(math)"
   ]
  },
  {
   "cell_type": "code",
   "execution_count": 10,
   "id": "72ecbec7",
   "metadata": {},
   "outputs": [
    {
     "data": {
      "text/plain": [
       "2"
      ]
     },
     "execution_count": 10,
     "metadata": {},
     "output_type": "execute_result"
    }
   ],
   "source": [
    "math.ceil(1.2)"
   ]
  },
  {
   "cell_type": "code",
   "execution_count": 11,
   "id": "3e87c1eb",
   "metadata": {},
   "outputs": [
    {
     "name": "stdout",
     "output_type": "stream",
     "text": [
      "Help on built-in function ceil in module math:\n",
      "\n",
      "ceil(x, /)\n",
      "    Return the ceiling of x as an Integral.\n",
      "    \n",
      "    This is the smallest integer >= x.\n",
      "\n"
     ]
    }
   ],
   "source": [
    "help(math.ceil)"
   ]
  },
  {
   "cell_type": "code",
   "execution_count": 12,
   "id": "6fc1e921",
   "metadata": {},
   "outputs": [
    {
     "data": {
      "text/plain": [
       "\u001b[0;31mSignature:\u001b[0m \u001b[0mmath\u001b[0m\u001b[0;34m.\u001b[0m\u001b[0mceil\u001b[0m\u001b[0;34m(\u001b[0m\u001b[0mx\u001b[0m\u001b[0;34m,\u001b[0m \u001b[0;34m/\u001b[0m\u001b[0;34m)\u001b[0m\u001b[0;34m\u001b[0m\u001b[0;34m\u001b[0m\u001b[0m\n",
       "\u001b[0;31mDocstring:\u001b[0m\n",
       "Return the ceiling of x as an Integral.\n",
       "\n",
       "This is the smallest integer >= x.\n",
       "\u001b[0;31mType:\u001b[0m      builtin_function_or_method\n"
      ]
     },
     "metadata": {},
     "output_type": "display_data"
    }
   ],
   "source": [
    "?math.ceil"
   ]
  },
  {
   "cell_type": "code",
   "execution_count": 13,
   "id": "7c6055ab",
   "metadata": {},
   "outputs": [
    {
     "data": {
      "text/plain": [
       "1"
      ]
     },
     "execution_count": 13,
     "metadata": {},
     "output_type": "execute_result"
    }
   ],
   "source": [
    "5 % 2  # modulo"
   ]
  },
  {
   "cell_type": "code",
   "execution_count": 14,
   "id": "a3d3ac9d",
   "metadata": {},
   "outputs": [
    {
     "data": {
      "text/plain": [
       "0"
      ]
     },
     "execution_count": 14,
     "metadata": {},
     "output_type": "execute_result"
    }
   ],
   "source": [
    "10 % 2"
   ]
  },
  {
   "cell_type": "code",
   "execution_count": 15,
   "id": "432a3ef6",
   "metadata": {},
   "outputs": [
    {
     "data": {
      "text/plain": [
       "2"
      ]
     },
     "execution_count": 15,
     "metadata": {},
     "output_type": "execute_result"
    }
   ],
   "source": [
    "5 // 2"
   ]
  },
  {
   "cell_type": "code",
   "execution_count": 16,
   "id": "c7843764",
   "metadata": {},
   "outputs": [
    {
     "data": {
      "text/plain": [
       "(2, 1)"
      ]
     },
     "execution_count": 16,
     "metadata": {},
     "output_type": "execute_result"
    }
   ],
   "source": [
    "5 // 2, 5 % 2"
   ]
  },
  {
   "cell_type": "code",
   "execution_count": 17,
   "id": "b366143b-b780-4140-bc07-61900a8c76dc",
   "metadata": {},
   "outputs": [
    {
     "data": {
      "text/plain": [
       "1.6094379124341003"
      ]
     },
     "execution_count": 17,
     "metadata": {},
     "output_type": "execute_result"
    }
   ],
   "source": [
    "from math import log\n",
    "\n",
    "log(5)"
   ]
  },
  {
   "cell_type": "markdown",
   "id": "fe7f0e26",
   "metadata": {
    "tags": []
   },
   "source": [
    "## Kiểm tra một số là số lẻ"
   ]
  },
  {
   "cell_type": "code",
   "execution_count": 19,
   "id": "9cdcd797",
   "metadata": {},
   "outputs": [
    {
     "data": {
      "text/plain": [
       "False"
      ]
     },
     "execution_count": 19,
     "metadata": {},
     "output_type": "execute_result"
    }
   ],
   "source": [
    "x = 4\n",
    "\n",
    "x % 2 == 1"
   ]
  },
  {
   "cell_type": "markdown",
   "id": "13c3b6ba",
   "metadata": {},
   "source": [
    "## Kiểm tra một số là lẻ và lớn hơn 5"
   ]
  },
  {
   "cell_type": "code",
   "execution_count": 23,
   "id": "c0a408f2",
   "metadata": {},
   "outputs": [
    {
     "data": {
      "text/plain": [
       "True"
      ]
     },
     "execution_count": 23,
     "metadata": {},
     "output_type": "execute_result"
    }
   ],
   "source": [
    "x = 7\n",
    "\n",
    "(x % 2 == 1) and (x > 5)"
   ]
  },
  {
   "cell_type": "code",
   "execution_count": 1,
   "id": "66461a46-f22c-45d5-9302-695911d567a5",
   "metadata": {},
   "outputs": [
    {
     "name": "stdin",
     "output_type": "stream",
     "text": [
      "Nhap gia tri cua x:  2\n"
     ]
    },
    {
     "data": {
      "text/plain": [
       "False"
      ]
     },
     "execution_count": 1,
     "metadata": {},
     "output_type": "execute_result"
    }
   ],
   "source": [
    "x = input('Nhap gia tri cua x: ')\n",
    "# x = int(x)\n",
    "\n",
    "# (x % 2 == 1) and (x > 5)\n",
    "(int(x) % 2 == 1) and (int(x) > 5)"
   ]
  },
  {
   "cell_type": "markdown",
   "id": "afcc0548",
   "metadata": {
    "tags": []
   },
   "source": [
    "# boolean "
   ]
  },
  {
   "cell_type": "code",
   "execution_count": 3,
   "id": "d9ae0dc8",
   "metadata": {},
   "outputs": [
    {
     "data": {
      "text/plain": [
       "True"
      ]
     },
     "execution_count": 3,
     "metadata": {},
     "output_type": "execute_result"
    }
   ],
   "source": [
    "True"
   ]
  },
  {
   "cell_type": "code",
   "execution_count": 4,
   "id": "ffec92e3",
   "metadata": {},
   "outputs": [
    {
     "data": {
      "text/plain": [
       "False"
      ]
     },
     "execution_count": 4,
     "metadata": {},
     "output_type": "execute_result"
    }
   ],
   "source": [
    "False"
   ]
  },
  {
   "cell_type": "code",
   "execution_count": 2,
   "id": "05ecc2ee",
   "metadata": {},
   "outputs": [
    {
     "data": {
      "text/plain": [
       "True"
      ]
     },
     "execution_count": 2,
     "metadata": {},
     "output_type": "execute_result"
    }
   ],
   "source": [
    "True and True"
   ]
  },
  {
   "cell_type": "code",
   "execution_count": 6,
   "id": "335cc6d2",
   "metadata": {},
   "outputs": [
    {
     "data": {
      "text/plain": [
       "False"
      ]
     },
     "execution_count": 6,
     "metadata": {},
     "output_type": "execute_result"
    }
   ],
   "source": [
    "True and False"
   ]
  },
  {
   "cell_type": "code",
   "execution_count": 7,
   "id": "73d713b5",
   "metadata": {},
   "outputs": [
    {
     "data": {
      "text/plain": [
       "True"
      ]
     },
     "execution_count": 7,
     "metadata": {},
     "output_type": "execute_result"
    }
   ],
   "source": [
    "True or False"
   ]
  },
  {
   "cell_type": "code",
   "execution_count": 8,
   "id": "420f0fb3",
   "metadata": {},
   "outputs": [
    {
     "data": {
      "text/plain": [
       "True"
      ]
     },
     "execution_count": 8,
     "metadata": {},
     "output_type": "execute_result"
    }
   ],
   "source": [
    "1 == 1"
   ]
  },
  {
   "cell_type": "code",
   "execution_count": 9,
   "id": "f02c42ef",
   "metadata": {},
   "outputs": [
    {
     "data": {
      "text/plain": [
       "True"
      ]
     },
     "execution_count": 9,
     "metadata": {},
     "output_type": "execute_result"
    }
   ],
   "source": [
    "# True or False\n",
    "1 == 1 or False"
   ]
  },
  {
   "cell_type": "code",
   "execution_count": 10,
   "id": "5be73abd",
   "metadata": {},
   "outputs": [
    {
     "data": {
      "text/plain": [
       "True"
      ]
     },
     "execution_count": 10,
     "metadata": {},
     "output_type": "execute_result"
    }
   ],
   "source": [
    "1 == 1 or 1 == 0"
   ]
  },
  {
   "cell_type": "code",
   "execution_count": 11,
   "id": "ca8b659a",
   "metadata": {},
   "outputs": [
    {
     "data": {
      "text/plain": [
       "True"
      ]
     },
     "execution_count": 11,
     "metadata": {},
     "output_type": "execute_result"
    }
   ],
   "source": [
    "1 < 2 and 3 < 4  # True and True"
   ]
  },
  {
   "cell_type": "code",
   "execution_count": 14,
   "id": "0341b7e5",
   "metadata": {},
   "outputs": [
    {
     "data": {
      "text/plain": [
       "False"
      ]
     },
     "execution_count": 14,
     "metadata": {},
     "output_type": "execute_result"
    }
   ],
   "source": [
    "1 < 2 and (3 < 4 and 1 == 0)  # True and True or False"
   ]
  },
  {
   "cell_type": "markdown",
   "id": "64a5eabe",
   "metadata": {},
   "source": [
    "## Cấu trúc rẽ nhánh (conditional)"
   ]
  },
  {
   "cell_type": "code",
   "execution_count": 28,
   "id": "1168e3a9",
   "metadata": {},
   "outputs": [],
   "source": [
    "x = 6\n",
    "\n",
    "if x % 2 == 1:\n",
    "    print('1. Gia tri cua x la:', x)\n",
    "    print('2. Gia tri cua x la:', x)\n",
    "    print('3. Gia tri cua x la:', x)"
   ]
  },
  {
   "cell_type": "code",
   "execution_count": 32,
   "id": "d6401017",
   "metadata": {},
   "outputs": [
    {
     "name": "stdout",
     "output_type": "stream",
     "text": [
      "Gia tri cua x la: 5\n",
      "Gia tri cua x la (ngoai if): 5\n"
     ]
    }
   ],
   "source": [
    "x = 5\n",
    "\n",
    "if 0 < x < 10:\n",
    "    print('Gia tri cua x la:', x)\n",
    "    # print(f'Gia tri cua x la: {x}')\n",
    " \n",
    "print('Gia tri cua x la (ngoai if):', x)"
   ]
  },
  {
   "cell_type": "code",
   "execution_count": 40,
   "id": "92f663b0",
   "metadata": {},
   "outputs": [
    {
     "name": "stdout",
     "output_type": "stream",
     "text": [
      "5 is in (0, 10)   (1)\n"
     ]
    }
   ],
   "source": [
    "x = 5\n",
    "\n",
    "if 0 < x < 10:\n",
    "    # print('{x} is in (0, 10)   (1)')      # (1)\n",
    "    print(x, 'is in (0, 10)   (1)')\n",
    "else:\n",
    "    print(f'{x} is not in (0, 10)   (2)')  # (2)"
   ]
  },
  {
   "cell_type": "code",
   "execution_count": 35,
   "id": "ce08cae7",
   "metadata": {},
   "outputs": [
    {
     "name": "stdout",
     "output_type": "stream",
     "text": [
      "5 in (0, 10)\n"
     ]
    }
   ],
   "source": [
    "x = 5\n",
    "\n",
    "if 0 < x < 10:\n",
    "    print(f\"{x} in (0, 10)\")\n",
    "elif x < 0:  # else if\n",
    "    print(x)\n",
    "elif x > 100:  # new case\n",
    "    print('fjlaksjdf')\n",
    "else:\n",
    "    print(f'{x} is not in (0, 10)')"
   ]
  },
  {
   "cell_type": "markdown",
   "id": "a809d9f4",
   "metadata": {},
   "source": [
    "### Cho một số, nếu số đó chẵn thì in ra \"chẵn\", nếu số đó lẻ thì in ra \"lẻ\"."
   ]
  },
  {
   "cell_type": "code",
   "execution_count": 42,
   "id": "b7975251",
   "metadata": {},
   "outputs": [
    {
     "name": "stdout",
     "output_type": "stream",
     "text": [
      "Chẵn\n"
     ]
    }
   ],
   "source": [
    "x = 50\n",
    "\n",
    "if x % 2 == 0:\n",
    "    print('Chẵn')\n",
    "else:\n",
    "    print('Lẻ')"
   ]
  },
  {
   "cell_type": "markdown",
   "id": "46851ecf",
   "metadata": {},
   "source": [
    "### Cho 3 cạnh của một tam giác, nếu tam giác vuông thì in ra \"vuông\", nếu không thì in ra \"không vuông\"."
   ]
  },
  {
   "cell_type": "code",
   "execution_count": 46,
   "id": "302b0f10",
   "metadata": {},
   "outputs": [
    {
     "name": "stdout",
     "output_type": "stream",
     "text": [
      "Không vuông\n"
     ]
    }
   ],
   "source": [
    "a, b, c = 3, 4, 6\n",
    "\n",
    "if c**2 == a**2 + b**2:\n",
    "    print('Vuông')\n",
    "else:\n",
    "    print('Không vuông')"
   ]
  },
  {
   "cell_type": "code",
   "execution_count": 51,
   "id": "0665fed0-12ab-466a-8328-bf6ccf98044e",
   "metadata": {},
   "outputs": [
    {
     "name": "stdin",
     "output_type": "stream",
     "text": [
      "a:  3\n",
      "b:  4\n",
      "c:  5\n"
     ]
    },
    {
     "name": "stdout",
     "output_type": "stream",
     "text": [
      "Vuông\n"
     ]
    }
   ],
   "source": [
    "a = int(input('a: '))\n",
    "b = int(input('b: '))\n",
    "c = int(input('c: '))\n",
    "\n",
    "if c**2 == a**2 + b**2:\n",
    "    print('Vuông')\n",
    "else:\n",
    "    print('Không vuông')"
   ]
  },
  {
   "cell_type": "code",
   "execution_count": 52,
   "id": "59ab2645-0798-4b1b-80c6-a1ee40962062",
   "metadata": {},
   "outputs": [
    {
     "name": "stdin",
     "output_type": "stream",
     "text": [
      "a:  5\n",
      "b:  3\n",
      "c:  4\n"
     ]
    },
    {
     "name": "stdout",
     "output_type": "stream",
     "text": [
      "vuông\n"
     ]
    }
   ],
   "source": [
    "# a, b, c = 5, 3, 4\n",
    "a = int(input('a: '))\n",
    "b = int(input('b: '))\n",
    "c = int(input('c: '))\n",
    "\n",
    "if (a**2 + b**2) == c**2: \n",
    "    print('vuông') \n",
    "elif (b**2 + c**2) == a**2: \n",
    "    print('vuông') \n",
    "elif (a**2 + c**2 == b**2):\n",
    "    print('vuông') \n",
    "else: \n",
    "    print('không vuông') "
   ]
  },
  {
   "cell_type": "code",
   "execution_count": 53,
   "id": "1d5eb857-e04f-430e-9d3a-80fa9b52e1a8",
   "metadata": {},
   "outputs": [
    {
     "data": {
      "text/plain": [
       "5"
      ]
     },
     "execution_count": 53,
     "metadata": {},
     "output_type": "execute_result"
    }
   ],
   "source": [
    "a, b, c = 5, 3, 4\n",
    "max(a, b, c)"
   ]
  },
  {
   "cell_type": "markdown",
   "id": "703df36a",
   "metadata": {
    "tags": []
   },
   "source": [
    "## string"
   ]
  },
  {
   "cell_type": "code",
   "execution_count": 54,
   "id": "9be6a66a",
   "metadata": {},
   "outputs": [
    {
     "data": {
      "text/plain": [
       "'this is a string'"
      ]
     },
     "execution_count": 54,
     "metadata": {},
     "output_type": "execute_result"
    }
   ],
   "source": [
    "'this is a string'"
   ]
  },
  {
   "cell_type": "code",
   "execution_count": 55,
   "id": "bb8f9a4f",
   "metadata": {},
   "outputs": [
    {
     "data": {
      "text/plain": [
       "'this is a string'"
      ]
     },
     "execution_count": 55,
     "metadata": {},
     "output_type": "execute_result"
    }
   ],
   "source": [
    "\"this is a string\""
   ]
  },
  {
   "cell_type": "markdown",
   "id": "064dd649-4328-41f4-8ce9-160a8a804350",
   "metadata": {},
   "source": [
    "'MCI' stands for"
   ]
  },
  {
   "cell_type": "code",
   "execution_count": 56,
   "id": "b55a897b-27c6-46ad-a1e9-bbb570df9032",
   "metadata": {},
   "outputs": [
    {
     "ename": "SyntaxError",
     "evalue": "invalid syntax (<ipython-input-56-7f9f1769b681>, line 1)",
     "output_type": "error",
     "traceback": [
      "\u001b[0;36m  File \u001b[0;32m\"<ipython-input-56-7f9f1769b681>\"\u001b[0;36m, line \u001b[0;32m1\u001b[0m\n\u001b[0;31m    ''MCI' stands for...'\u001b[0m\n\u001b[0m      ^\u001b[0m\n\u001b[0;31mSyntaxError\u001b[0m\u001b[0;31m:\u001b[0m invalid syntax\n"
     ]
    }
   ],
   "source": [
    "'' MCI ' stands for...'"
   ]
  },
  {
   "cell_type": "code",
   "execution_count": 57,
   "id": "ac19718b",
   "metadata": {},
   "outputs": [
    {
     "data": {
      "text/plain": [
       "\"'MCI' stands for...\""
      ]
     },
     "execution_count": 57,
     "metadata": {},
     "output_type": "execute_result"
    }
   ],
   "source": [
    "'\\'MCI\\' stands for...'  # backslash \\, escape"
   ]
  },
  {
   "cell_type": "code",
   "execution_count": 58,
   "id": "bd2ef8cd",
   "metadata": {},
   "outputs": [
    {
     "data": {
      "text/plain": [
       "'\"MCI\" stands for...'"
      ]
     },
     "execution_count": 58,
     "metadata": {},
     "output_type": "execute_result"
    }
   ],
   "source": [
    "\"\\\"MCI\\\" stands for...\""
   ]
  },
  {
   "cell_type": "code",
   "execution_count": 64,
   "id": "85d809b0-1065-4f6a-be4e-538f6ef0ea1b",
   "metadata": {},
   "outputs": [
    {
     "name": "stdout",
     "output_type": "stream",
     "text": [
      "C:\\Program Files\\tailieu\\new\n"
     ]
    }
   ],
   "source": [
    "print(r'C:\\Program Files\\tailieu\\new')     # raw"
   ]
  },
  {
   "cell_type": "code",
   "execution_count": 65,
   "id": "63b52de9",
   "metadata": {},
   "outputs": [
    {
     "name": "stdout",
     "output_type": "stream",
     "text": [
      "C:\\Program Files\n"
     ]
    }
   ],
   "source": [
    "print(r'C:\\Program Files')  # raw-string"
   ]
  },
  {
   "cell_type": "code",
   "execution_count": 66,
   "id": "6756c4ed",
   "metadata": {},
   "outputs": [
    {
     "name": "stdout",
     "output_type": "stream",
     "text": [
      "C:\\new Folder\n"
     ]
    }
   ],
   "source": [
    "print(r'C:\\new Folder')"
   ]
  },
  {
   "cell_type": "code",
   "execution_count": null,
   "id": "94ebff7b",
   "metadata": {},
   "outputs": [],
   "source": [
    "print(r'C:\\tProgram \\nFiles')  # \\t = tab, \\n = newline, \\ = escape"
   ]
  },
  {
   "cell_type": "code",
   "execution_count": null,
   "id": "8a57e90d",
   "metadata": {},
   "outputs": [],
   "source": [
    "print('\\tABC')"
   ]
  },
  {
   "cell_type": "code",
   "execution_count": null,
   "id": "77ec332d",
   "metadata": {},
   "outputs": [],
   "source": [
    "print('C:\\\\Users/') \n",
    "print(r'C:\\Users/')  # raw-string"
   ]
  },
  {
   "cell_type": "code",
   "execution_count": 69,
   "id": "8dc909aa",
   "metadata": {},
   "outputs": [
    {
     "ename": "SyntaxError",
     "evalue": "(unicode error) 'unicodeescape' codec can't decode bytes in position 2-3: truncated \\UXXXXXXXX escape (<ipython-input-69-ea6be630ac35>, line 1)",
     "output_type": "error",
     "traceback": [
      "\u001b[0;36m  File \u001b[0;32m\"<ipython-input-69-ea6be630ac35>\"\u001b[0;36m, line \u001b[0;32m1\u001b[0m\n\u001b[0;31m    print('C:\\Users/')  # error!\u001b[0m\n\u001b[0m          ^\u001b[0m\n\u001b[0;31mSyntaxError\u001b[0m\u001b[0;31m:\u001b[0m (unicode error) 'unicodeescape' codec can't decode bytes in position 2-3: truncated \\UXXXXXXXX escape\n"
     ]
    }
   ],
   "source": [
    "print('C:\\Users/')  # error!"
   ]
  },
  {
   "cell_type": "markdown",
   "id": "ebaa46a6",
   "metadata": {},
   "source": [
    "#### In ra đường dẫn của thư mục đang làm việc (của Jupyter)"
   ]
  },
  {
   "cell_type": "code",
   "execution_count": 70,
   "id": "262e0a2f",
   "metadata": {},
   "outputs": [
    {
     "data": {
      "text/plain": [
       "'/media/vietspaceanh/Workspace/tmp/mci/lectures-35b/2-3--basic'"
      ]
     },
     "execution_count": 70,
     "metadata": {},
     "output_type": "execute_result"
    }
   ],
   "source": [
    "%pwd   # pwd = print working directory"
   ]
  },
  {
   "cell_type": "markdown",
   "id": "60a38d1c",
   "metadata": {
    "tags": []
   },
   "source": [
    "### `f-string`"
   ]
  },
  {
   "cell_type": "code",
   "execution_count": 71,
   "id": "b8f51faf",
   "metadata": {},
   "outputs": [
    {
     "data": {
      "text/plain": [
       "'1 + 1 = 2'"
      ]
     },
     "execution_count": 71,
     "metadata": {},
     "output_type": "execute_result"
    }
   ],
   "source": [
    "f'1 + 1 = {1 + 1}'"
   ]
  },
  {
   "cell_type": "code",
   "execution_count": 72,
   "id": "ec0723fe",
   "metadata": {},
   "outputs": [
    {
     "name": "stdout",
     "output_type": "stream",
     "text": [
      "A is 1\n"
     ]
    }
   ],
   "source": [
    "A = 1\n",
    "print(f'A is {A}')"
   ]
  },
  {
   "cell_type": "code",
   "execution_count": 73,
   "id": "287ec949",
   "metadata": {},
   "outputs": [
    {
     "data": {
      "text/plain": [
       "'sum of a=100 and b=2 is a+b=102'"
      ]
     },
     "execution_count": 73,
     "metadata": {},
     "output_type": "execute_result"
    }
   ],
   "source": [
    "a, b = 100, 2\n",
    "f'sum of {a=} and {b=} is {a+b=}'"
   ]
  },
  {
   "cell_type": "markdown",
   "id": "a67f993c",
   "metadata": {
    "tags": []
   },
   "source": [
    "### `doc-string`"
   ]
  },
  {
   "cell_type": "code",
   "execution_count": 75,
   "id": "74e2bdbf-a03b-4981-aa32-bc714e4cb2e2",
   "metadata": {},
   "outputs": [
    {
     "name": "stdout",
     "output_type": "stream",
     "text": [
      "a\n",
      "b\n",
      "c\n"
     ]
    }
   ],
   "source": [
    "print('a\\nb\\nc')"
   ]
  },
  {
   "cell_type": "code",
   "execution_count": 76,
   "id": "b85ebb6c",
   "metadata": {},
   "outputs": [
    {
     "name": "stdout",
     "output_type": "stream",
     "text": [
      "\n",
      "jfalskdj\tflasjdkf\n",
      "jfa;lsdjf;lasdkjfljfl;j\n",
      "fjalsdjflsdjfjf\n",
      "\n"
     ]
    }
   ],
   "source": [
    "s = '''\n",
    "jfalskdj\\tflasjdkf\n",
    "jfa;lsdjf;lasdkjfljfl;j\n",
    "fjalsdjflsdjfjf\n",
    "'''  # doc-string\n",
    "\n",
    "print(s)"
   ]
  },
  {
   "cell_type": "code",
   "execution_count": 80,
   "id": "f23b7909",
   "metadata": {},
   "outputs": [
    {
     "name": "stdout",
     "output_type": "stream",
     "text": [
      "\n",
      "Dear Nguyen Van A,\n",
      "ladsjflajs\n",
      "fajsl;fjsdf\n",
      "Best regards,\n",
      "\n"
     ]
    }
   ],
   "source": [
    "name = 'Nguyen Van A'\n",
    "\n",
    "email = f'''\n",
    "Dear {name},\n",
    "ladsjflajs\n",
    "fajsl;fjsdf\n",
    "Best regards,\n",
    "'''\n",
    "\n",
    "print(email)"
   ]
  },
  {
   "cell_type": "code",
   "execution_count": 78,
   "id": "677f6fa7-5bcc-4b89-9ac9-8a56c518d408",
   "metadata": {},
   "outputs": [
    {
     "name": "stdout",
     "output_type": "stream",
     "text": [
      "\n",
      "    Dear Nguyen Van A,\n",
      "    ladsjflajs\n",
      "    fajsl;fjsdf\n",
      "    Best regards,\n",
      "    \n",
      "\n",
      "    Dear Nguyen Van B,\n",
      "    ladsjflajs\n",
      "    fajsl;fjsdf\n",
      "    Best regards,\n",
      "    \n"
     ]
    }
   ],
   "source": [
    "names = ['Nguyen Van A', 'Nguyen Van B']\n",
    "\n",
    "for name in names:\n",
    "    email = f'''\n",
    "    Dear {name},\n",
    "    ladsjflajs\n",
    "    fajsl;fjsdf\n",
    "    Best regards,\n",
    "    '''\n",
    "    print(email)"
   ]
  },
  {
   "cell_type": "markdown",
   "id": "e9c88fea",
   "metadata": {},
   "source": [
    "## string methods\n",
    "\n",
    "`upper`, `lower`, `capitalize`, `split`, `replace`, `startswith`, `strip`, `find`, `join`"
   ]
  },
  {
   "cell_type": "code",
   "execution_count": 81,
   "id": "2b30c8fe",
   "metadata": {},
   "outputs": [
    {
     "name": "stdout",
     "output_type": "stream",
     "text": [
      "input string\n"
     ]
    }
   ],
   "source": [
    "print('input string')   # function"
   ]
  },
  {
   "cell_type": "code",
   "execution_count": 82,
   "id": "2df51880",
   "metadata": {},
   "outputs": [
    {
     "data": {
      "text/plain": [
       "'THIS IS A STRING'"
      ]
     },
     "execution_count": 82,
     "metadata": {},
     "output_type": "execute_result"
    }
   ],
   "source": [
    "'this is a string'.upper()  # method"
   ]
  },
  {
   "cell_type": "code",
   "execution_count": 84,
   "id": "85f0f72f",
   "metadata": {},
   "outputs": [
    {
     "data": {
      "text/plain": [
       "'THIS IS A STRING'"
      ]
     },
     "execution_count": 84,
     "metadata": {},
     "output_type": "execute_result"
    }
   ],
   "source": [
    "s = 'this is a string'\n",
    "\n",
    "s.upper()"
   ]
  },
  {
   "cell_type": "code",
   "execution_count": 92,
   "id": "b093350b",
   "metadata": {},
   "outputs": [
    {
     "data": {
      "text/plain": [
       "'aaaa'"
      ]
     },
     "execution_count": 92,
     "metadata": {},
     "output_type": "execute_result"
    }
   ],
   "source": [
    "'AaAa'.lower()"
   ]
  },
  {
   "cell_type": "code",
   "execution_count": 95,
   "id": "a9dc121d",
   "metadata": {},
   "outputs": [
    {
     "data": {
      "text/plain": [
       "'This is a string'"
      ]
     },
     "execution_count": 95,
     "metadata": {},
     "output_type": "execute_result"
    }
   ],
   "source": [
    "s = 'this iS a string'\n",
    "\n",
    "s.upper().lower().capitalize()"
   ]
  },
  {
   "cell_type": "code",
   "execution_count": 98,
   "id": "e5e7e063",
   "metadata": {},
   "outputs": [
    {
     "data": {
      "text/plain": [
       "False"
      ]
     },
     "execution_count": 98,
     "metadata": {},
     "output_type": "execute_result"
    }
   ],
   "source": [
    "'11a'.isnumeric()"
   ]
  },
  {
   "cell_type": "code",
   "execution_count": 99,
   "id": "b1dc60e3",
   "metadata": {},
   "outputs": [
    {
     "data": {
      "text/plain": [
       "True"
      ]
     },
     "execution_count": 99,
     "metadata": {},
     "output_type": "execute_result"
    }
   ],
   "source": [
    "'11'.isnumeric()"
   ]
  },
  {
   "cell_type": "code",
   "execution_count": 100,
   "id": "e779876f",
   "metadata": {},
   "outputs": [
    {
     "data": {
      "text/plain": [
       "True"
      ]
     },
     "execution_count": 100,
     "metadata": {},
     "output_type": "execute_result"
    }
   ],
   "source": [
    "'AAA'.isupper()"
   ]
  },
  {
   "cell_type": "code",
   "execution_count": 103,
   "id": "78a07018",
   "metadata": {},
   "outputs": [
    {
     "data": {
      "text/plain": [
       "'This is a string'"
      ]
     },
     "execution_count": 103,
     "metadata": {},
     "output_type": "execute_result"
    }
   ],
   "source": [
    "s.capitalize()"
   ]
  },
  {
   "cell_type": "markdown",
   "id": "7203c9b4",
   "metadata": {},
   "source": [
    "---"
   ]
  },
  {
   "cell_type": "code",
   "execution_count": 104,
   "id": "b495a511",
   "metadata": {},
   "outputs": [
    {
     "data": {
      "text/plain": [
       "'this-is-a-string'"
      ]
     },
     "execution_count": 104,
     "metadata": {},
     "output_type": "execute_result"
    }
   ],
   "source": [
    "s = 'this-is-a-string'\n",
    "s"
   ]
  },
  {
   "cell_type": "code",
   "execution_count": 106,
   "id": "2f477034",
   "metadata": {},
   "outputs": [
    {
     "data": {
      "text/plain": [
       "['this', 'is', 'a', 'string']"
      ]
     },
     "execution_count": 106,
     "metadata": {},
     "output_type": "execute_result"
    }
   ],
   "source": [
    "s.split('-')"
   ]
  },
  {
   "cell_type": "markdown",
   "id": "deabcd0d",
   "metadata": {},
   "source": [
    "### Custom delimiter splitting"
   ]
  },
  {
   "cell_type": "code",
   "execution_count": 107,
   "id": "9869d757",
   "metadata": {},
   "outputs": [
    {
     "data": {
      "text/plain": [
       "['this', 'is', 'a', 'string']"
      ]
     },
     "execution_count": 107,
     "metadata": {},
     "output_type": "execute_result"
    }
   ],
   "source": [
    "s = 'this@is@a@string'\n",
    "\n",
    "s.split('@')"
   ]
  },
  {
   "cell_type": "code",
   "execution_count": 113,
   "id": "572e6a97",
   "metadata": {},
   "outputs": [
    {
     "data": {
      "text/plain": [
       "['my name', 'A']"
      ]
     },
     "execution_count": 113,
     "metadata": {},
     "output_type": "execute_result"
    }
   ],
   "source": [
    "s = 'my name is A'\n",
    "s.split(' is ')"
   ]
  },
  {
   "cell_type": "markdown",
   "id": "0c2b4b24",
   "metadata": {},
   "source": [
    "---"
   ]
  },
  {
   "cell_type": "code",
   "execution_count": 114,
   "id": "fbb409a8",
   "metadata": {},
   "outputs": [
    {
     "data": {
      "text/plain": [
       "'my name is Amy name is A'"
      ]
     },
     "execution_count": 114,
     "metadata": {},
     "output_type": "execute_result"
    }
   ],
   "source": [
    "s + s"
   ]
  },
  {
   "cell_type": "code",
   "execution_count": 115,
   "id": "c8515d9e",
   "metadata": {},
   "outputs": [
    {
     "data": {
      "text/plain": [
       "'my name is A -- my name is A'"
      ]
     },
     "execution_count": 115,
     "metadata": {},
     "output_type": "execute_result"
    }
   ],
   "source": [
    "s + ' -- ' + s"
   ]
  },
  {
   "cell_type": "code",
   "execution_count": 116,
   "id": "3d0ddead",
   "metadata": {},
   "outputs": [
    {
     "data": {
      "text/plain": [
       "'my name is Amy name is Amy name is Amy name is A'"
      ]
     },
     "execution_count": 116,
     "metadata": {},
     "output_type": "execute_result"
    }
   ],
   "source": [
    "s*4"
   ]
  },
  {
   "cell_type": "code",
   "execution_count": 117,
   "id": "6be148d5",
   "metadata": {},
   "outputs": [
    {
     "data": {
      "text/plain": [
       "'------------------------------------------------------------------------------------------'"
      ]
     },
     "execution_count": 117,
     "metadata": {},
     "output_type": "execute_result"
    }
   ],
   "source": [
    "'---'*30"
   ]
  },
  {
   "cell_type": "code",
   "execution_count": 118,
   "id": "797a41b9",
   "metadata": {},
   "outputs": [
    {
     "data": {
      "text/plain": [
       "'this is a StRiNg and StRiNg'"
      ]
     },
     "execution_count": 118,
     "metadata": {},
     "output_type": "execute_result"
    }
   ],
   "source": [
    "s = 'this is a string and string'\n",
    "s.replace('string', 'StRiNg')"
   ]
  },
  {
   "cell_type": "code",
   "execution_count": 119,
   "id": "77b1fdf0",
   "metadata": {},
   "outputs": [
    {
     "data": {
      "text/plain": [
       "True"
      ]
     },
     "execution_count": 119,
     "metadata": {},
     "output_type": "execute_result"
    }
   ],
   "source": [
    "s.startswith('this')"
   ]
  },
  {
   "cell_type": "code",
   "execution_count": 120,
   "id": "f65f8b0c",
   "metadata": {},
   "outputs": [
    {
     "data": {
      "text/plain": [
       "False"
      ]
     },
     "execution_count": 120,
     "metadata": {},
     "output_type": "execute_result"
    }
   ],
   "source": [
    "s.startswith('that')"
   ]
  },
  {
   "cell_type": "code",
   "execution_count": 121,
   "id": "cd80ae9d",
   "metadata": {},
   "outputs": [
    {
     "data": {
      "text/plain": [
       "True"
      ]
     },
     "execution_count": 121,
     "metadata": {},
     "output_type": "execute_result"
    }
   ],
   "source": [
    "s.endswith('ing')"
   ]
  },
  {
   "cell_type": "code",
   "execution_count": 122,
   "id": "b8d52b70",
   "metadata": {},
   "outputs": [
    {
     "data": {
      "text/plain": [
       "True"
      ]
     },
     "execution_count": 122,
     "metadata": {},
     "output_type": "execute_result"
    }
   ],
   "source": [
    "'a' in s"
   ]
  },
  {
   "cell_type": "code",
   "execution_count": 123,
   "id": "75dd0636",
   "metadata": {},
   "outputs": [
    {
     "data": {
      "text/plain": [
       "False"
      ]
     },
     "execution_count": 123,
     "metadata": {},
     "output_type": "execute_result"
    }
   ],
   "source": [
    "'z' in s"
   ]
  },
  {
   "cell_type": "code",
   "execution_count": 124,
   "id": "08545d67",
   "metadata": {},
   "outputs": [
    {
     "data": {
      "text/plain": [
       "('  this is a string     ',\n",
       " 'this is a string',\n",
       " 'this is a string     ',\n",
       " '  this is a string')"
      ]
     },
     "execution_count": 124,
     "metadata": {},
     "output_type": "execute_result"
    }
   ],
   "source": [
    "s = '  this is a string     '\n",
    "s, s.strip(), s.lstrip(), s.rstrip()"
   ]
  },
  {
   "cell_type": "code",
   "execution_count": 125,
   "id": "33a5096e",
   "metadata": {},
   "outputs": [
    {
     "data": {
      "text/plain": [
       "7"
      ]
     },
     "execution_count": 125,
     "metadata": {},
     "output_type": "execute_result"
    }
   ],
   "source": [
    "s.strip().find(' a ')"
   ]
  },
  {
   "cell_type": "code",
   "execution_count": 127,
   "id": "57222c52",
   "metadata": {},
   "outputs": [
    {
     "data": {
      "text/plain": [
       "'cd'"
      ]
     },
     "execution_count": 127,
     "metadata": {},
     "output_type": "execute_result"
    }
   ],
   "source": [
    "s = 'abcd'\n",
    "\n",
    "s[2:2+2]  # [2:2+2]  [2:4]   [a, b)"
   ]
  },
  {
   "cell_type": "code",
   "execution_count": 128,
   "id": "3595b6ff-8498-4b9d-b4f9-78936783b3ec",
   "metadata": {},
   "outputs": [
    {
     "data": {
      "text/plain": [
       "('c', 'd')"
      ]
     },
     "execution_count": 128,
     "metadata": {},
     "output_type": "execute_result"
    }
   ],
   "source": [
    "s[2], s[3]"
   ]
  },
  {
   "cell_type": "code",
   "execution_count": 129,
   "id": "252865cb",
   "metadata": {},
   "outputs": [
    {
     "data": {
      "text/plain": [
       "(' a ', ' a ', ' a st')"
      ]
     },
     "execution_count": 129,
     "metadata": {},
     "output_type": "execute_result"
    }
   ],
   "source": [
    "s = 'this is a string'\n",
    "s[7:7+3], s[7:10], s[7:7+5]"
   ]
  },
  {
   "cell_type": "code",
   "execution_count": 130,
   "id": "2b3cf219",
   "metadata": {},
   "outputs": [
    {
     "data": {
      "text/plain": [
       "('ABCDEFGHIJKLMNOPQRSTUVWXYZ',\n",
       " ['A',\n",
       "  'B',\n",
       "  'C',\n",
       "  'D',\n",
       "  'E',\n",
       "  'F',\n",
       "  'G',\n",
       "  'H',\n",
       "  'I',\n",
       "  'J',\n",
       "  'K',\n",
       "  'L',\n",
       "  'M',\n",
       "  'N',\n",
       "  'O',\n",
       "  'P',\n",
       "  'Q',\n",
       "  'R',\n",
       "  'S',\n",
       "  'T',\n",
       "  'U',\n",
       "  'V',\n",
       "  'W',\n",
       "  'X',\n",
       "  'Y',\n",
       "  'Z'])"
      ]
     },
     "execution_count": 130,
     "metadata": {},
     "output_type": "execute_result"
    }
   ],
   "source": [
    "from string import ascii_uppercase\n",
    "\n",
    "ascii_uppercase, list(ascii_uppercase)"
   ]
  },
  {
   "cell_type": "markdown",
   "id": "f0d3764c-f65e-4454-a896-4c4a56353f60",
   "metadata": {},
   "source": [
    "'ABCD' -> ['A', 'B', 'C', 'D']"
   ]
  },
  {
   "cell_type": "code",
   "execution_count": 131,
   "id": "b69cec80-947f-4778-8871-02d4331e0a51",
   "metadata": {},
   "outputs": [
    {
     "data": {
      "text/plain": [
       "['A', 'B', 'C', 'D']"
      ]
     },
     "execution_count": 131,
     "metadata": {},
     "output_type": "execute_result"
    }
   ],
   "source": [
    "list('ABCD')"
   ]
  },
  {
   "cell_type": "code",
   "execution_count": 132,
   "id": "66526ef4",
   "metadata": {},
   "outputs": [
    {
     "data": {
      "text/plain": [
       "'A --- B --- C --- D --- E --- F --- G --- H --- I --- J --- K --- L --- M --- N --- O --- P --- Q --- R --- S --- T --- U --- V --- W --- X --- Y --- Z'"
      ]
     },
     "execution_count": 132,
     "metadata": {},
     "output_type": "execute_result"
    }
   ],
   "source": [
    "' --- '.join(list(ascii_uppercase))   # delimiter"
   ]
  },
  {
   "cell_type": "code",
   "execution_count": 133,
   "id": "9ef964dd",
   "metadata": {},
   "outputs": [
    {
     "data": {
      "text/plain": [
       "'A\\tB\\tC\\tD\\tE\\tF\\tG\\tH\\tI\\tJ\\tK\\tL\\tM\\tN\\tO\\tP\\tQ\\tR\\tS\\tT\\tU\\tV\\tW\\tX\\tY\\tZ'"
      ]
     },
     "execution_count": 133,
     "metadata": {},
     "output_type": "execute_result"
    }
   ],
   "source": [
    "'\\t'.join(list(ascii_uppercase))"
   ]
  },
  {
   "cell_type": "code",
   "execution_count": 134,
   "id": "20ae343f",
   "metadata": {},
   "outputs": [
    {
     "name": "stdout",
     "output_type": "stream",
     "text": [
      "A\tB\tC\tD\tE\tF\tG\tH\tI\tJ\tK\tL\tM\tN\tO\tP\tQ\tR\tS\tT\tU\tV\tW\tX\tY\tZ\n"
     ]
    }
   ],
   "source": [
    "print('\\t'.join(list(ascii_uppercase)))"
   ]
  },
  {
   "cell_type": "code",
   "execution_count": 138,
   "id": "b1d80327-ac52-4537-b19b-4feb0ce6a0b5",
   "metadata": {},
   "outputs": [
    {
     "data": {
      "text/plain": [
       "'A\\nB\\nC\\nD\\nE\\nF\\nG\\nH\\nI\\nJ\\nK\\nL\\nM\\nN\\nO\\nP\\nQ\\nR\\nS\\nT\\nU\\nV\\nW\\nX\\nY\\nZ'"
      ]
     },
     "execution_count": 138,
     "metadata": {},
     "output_type": "execute_result"
    }
   ],
   "source": [
    "'\\n'.join(list(ascii_uppercase))"
   ]
  },
  {
   "cell_type": "code",
   "execution_count": 139,
   "id": "c67af556-f7aa-463b-8d1e-67406c603123",
   "metadata": {},
   "outputs": [
    {
     "name": "stdout",
     "output_type": "stream",
     "text": [
      "A\n",
      "B\n",
      "C\n",
      "D\n",
      "E\n",
      "F\n",
      "G\n",
      "H\n",
      "I\n",
      "J\n",
      "K\n",
      "L\n",
      "M\n",
      "N\n",
      "O\n",
      "P\n",
      "Q\n",
      "R\n",
      "S\n",
      "T\n",
      "U\n",
      "V\n",
      "W\n",
      "X\n",
      "Y\n",
      "Z\n"
     ]
    }
   ],
   "source": [
    "print('\\n'.join(list(ascii_uppercase)))"
   ]
  },
  {
   "cell_type": "markdown",
   "id": "04d1132e",
   "metadata": {},
   "source": [
    "## slicing"
   ]
  },
  {
   "cell_type": "code",
   "execution_count": 140,
   "id": "b3df5c6e",
   "metadata": {},
   "outputs": [
    {
     "data": {
      "text/plain": [
       "'this is a string'"
      ]
     },
     "execution_count": 140,
     "metadata": {},
     "output_type": "execute_result"
    }
   ],
   "source": [
    "s = 'this is a string'\n",
    "s"
   ]
  },
  {
   "cell_type": "code",
   "execution_count": 141,
   "id": "553fc260",
   "metadata": {},
   "outputs": [
    {
     "data": {
      "text/plain": [
       "('t', 'g')"
      ]
     },
     "execution_count": 141,
     "metadata": {},
     "output_type": "execute_result"
    }
   ],
   "source": [
    "s[0], s[-1]"
   ]
  },
  {
   "cell_type": "code",
   "execution_count": 142,
   "id": "90517b6f",
   "metadata": {},
   "outputs": [
    {
     "data": {
      "text/plain": [
       "'this'"
      ]
     },
     "execution_count": 142,
     "metadata": {},
     "output_type": "execute_result"
    }
   ],
   "source": [
    "s[:4]  # 0, 1, 2, 3"
   ]
  },
  {
   "cell_type": "code",
   "execution_count": 143,
   "id": "7d36eedf",
   "metadata": {},
   "outputs": [
    {
     "data": {
      "text/plain": [
       "'string'"
      ]
     },
     "execution_count": 143,
     "metadata": {},
     "output_type": "execute_result"
    }
   ],
   "source": [
    "s[-6:]"
   ]
  },
  {
   "cell_type": "code",
   "execution_count": 144,
   "id": "8836129a",
   "metadata": {},
   "outputs": [
    {
     "data": {
      "text/plain": [
       "'is'"
      ]
     },
     "execution_count": 144,
     "metadata": {},
     "output_type": "execute_result"
    }
   ],
   "source": [
    "s[5:5+2]"
   ]
  },
  {
   "cell_type": "code",
   "execution_count": 145,
   "id": "b8b22734",
   "metadata": {},
   "outputs": [
    {
     "data": {
      "text/plain": [
       "True"
      ]
     },
     "execution_count": 145,
     "metadata": {},
     "output_type": "execute_result"
    }
   ],
   "source": [
    "s[6:6+5] == 's a s'"
   ]
  },
  {
   "cell_type": "markdown",
   "id": "d099070e",
   "metadata": {},
   "source": [
    "---"
   ]
  },
  {
   "cell_type": "code",
   "execution_count": 147,
   "id": "9e1aeede",
   "metadata": {},
   "outputs": [
    {
     "data": {
      "text/plain": [
       "'ti sasrn'"
      ]
     },
     "execution_count": 147,
     "metadata": {},
     "output_type": "execute_result"
    }
   ],
   "source": [
    "s = 'this is a string'\n",
    "s[::2]"
   ]
  },
  {
   "cell_type": "code",
   "execution_count": 152,
   "id": "8c3bd20a-c0ff-4303-9519-65c0833a4fca",
   "metadata": {},
   "outputs": [
    {
     "data": {
      "text/plain": [
       "'ti sasrn'"
      ]
     },
     "execution_count": 152,
     "metadata": {},
     "output_type": "execute_result"
    }
   ],
   "source": [
    "step = 2\n",
    "s[::step]"
   ]
  },
  {
   "cell_type": "code",
   "execution_count": 157,
   "id": "46fe5373-6733-43a0-9e75-541cc5a476f2",
   "metadata": {},
   "outputs": [
    {
     "name": "stdout",
     "output_type": "stream",
     "text": [
      "[0, 1, 2, 3, 4, 5, 6]\n"
     ]
    },
    {
     "data": {
      "text/plain": [
       "[1, 3]"
      ]
     },
     "execution_count": 157,
     "metadata": {},
     "output_type": "execute_result"
    }
   ],
   "source": [
    "a = list(range(7))\n",
    "print(a)\n",
    "a[1:4:2]"
   ]
  },
  {
   "cell_type": "code",
   "execution_count": 150,
   "id": "7d2d696c",
   "metadata": {},
   "outputs": [
    {
     "data": {
      "text/plain": [
       "'gnirts a si siht'"
      ]
     },
     "execution_count": 150,
     "metadata": {},
     "output_type": "execute_result"
    }
   ],
   "source": [
    "s[::-1]"
   ]
  },
  {
   "cell_type": "markdown",
   "id": "03261d94",
   "metadata": {},
   "source": [
    "### Lấy tên trường ra khỏi string bằng 2 cách"
   ]
  },
  {
   "cell_type": "code",
   "execution_count": 159,
   "id": "a7ae4d1b",
   "metadata": {
    "tags": []
   },
   "outputs": [],
   "source": [
    "s = 'School = Riverdale High'"
   ]
  },
  {
   "cell_type": "code",
   "execution_count": 160,
   "id": "18e30729",
   "metadata": {},
   "outputs": [
    {
     "data": {
      "text/plain": [
       "True"
      ]
     },
     "execution_count": 160,
     "metadata": {},
     "output_type": "execute_result"
    }
   ],
   "source": [
    "# use indices\n",
    "s[9:] == 'Riverdale High'"
   ]
  },
  {
   "cell_type": "code",
   "execution_count": 163,
   "id": "bd0fd96d",
   "metadata": {},
   "outputs": [
    {
     "data": {
      "text/plain": [
       "'Riverdale High'"
      ]
     },
     "execution_count": 163,
     "metadata": {},
     "output_type": "execute_result"
    }
   ],
   "source": [
    "# use .find()\n",
    "start = s.find('Riverdale High')\n",
    "length = len('Riverdale High')\n",
    "s[start:start+length]"
   ]
  },
  {
   "cell_type": "markdown",
   "id": "faab952d",
   "metadata": {},
   "source": [
    "### Lấy thông tin \"review/text\" bằng 2 cách"
   ]
  },
  {
   "cell_type": "code",
   "execution_count": null,
   "id": "136d6fd8",
   "metadata": {},
   "outputs": [],
   "source": [
    "s = '''\n",
    "product/productId: B003AI2VGA\n",
    "review/userId: AQJVNDW6YZFQS\n",
    "review/profileName: Charles R. Williams\n",
    "review/helpfulness: 3/11\n",
    "review/score: 1.0\n",
    "review/time: 1164153600\n",
    "review/summary: This is junk, stay away\n",
    "review/text: Mexican men are macho rapists, gangsters or ineffective bureaucrats. Mexican women are semi-pagan, pious fools. There are self-serving corporate types and even a pushy, culturally-insensitive liberal female reporter.<br /><br />The story is absurd, the characters are unbelievable, the stereotypes are offensive.\n",
    "'''"
   ]
  },
  {
   "cell_type": "code",
   "execution_count": null,
   "id": "a8219ba3",
   "metadata": {},
   "outputs": [],
   "source": [
    "# use .find()"
   ]
  },
  {
   "cell_type": "markdown",
   "id": "1b905c6e",
   "metadata": {},
   "source": [
    "---"
   ]
  },
  {
   "cell_type": "code",
   "execution_count": null,
   "id": "5eedf569",
   "metadata": {},
   "outputs": [],
   "source": [
    "# use .split()"
   ]
  },
  {
   "cell_type": "markdown",
   "id": "bb86d755",
   "metadata": {},
   "source": [
    "---"
   ]
  },
  {
   "cell_type": "markdown",
   "id": "c5c4f77e",
   "metadata": {},
   "source": [
    "## list"
   ]
  },
  {
   "cell_type": "code",
   "execution_count": null,
   "id": "8a51d5c1",
   "metadata": {},
   "outputs": [],
   "source": [
    "a = [1,2,3]\n",
    "b = [4,5,6]"
   ]
  },
  {
   "cell_type": "code",
   "execution_count": null,
   "id": "35e7243c",
   "metadata": {},
   "outputs": [],
   "source": [
    "b"
   ]
  },
  {
   "cell_type": "code",
   "execution_count": null,
   "id": "a078ec94",
   "metadata": {},
   "outputs": [],
   "source": [
    "a + b"
   ]
  },
  {
   "cell_type": "code",
   "execution_count": null,
   "id": "fd90b9de",
   "metadata": {},
   "outputs": [],
   "source": [
    "A = a + b\n",
    "A.append(123)\n",
    "A"
   ]
  },
  {
   "cell_type": "code",
   "execution_count": null,
   "id": "5d51de5e",
   "metadata": {},
   "outputs": [],
   "source": [
    "A.append('aaabbb')\n",
    "A"
   ]
  },
  {
   "cell_type": "code",
   "execution_count": null,
   "id": "070e6399",
   "metadata": {},
   "outputs": [],
   "source": [
    "A[0]"
   ]
  },
  {
   "cell_type": "code",
   "execution_count": null,
   "id": "c193a57e",
   "metadata": {},
   "outputs": [],
   "source": [
    "A[:4]"
   ]
  },
  {
   "cell_type": "code",
   "execution_count": null,
   "id": "bb75cc40",
   "metadata": {},
   "outputs": [],
   "source": [
    "A[-3:]"
   ]
  },
  {
   "cell_type": "code",
   "execution_count": null,
   "id": "b4a0a252",
   "metadata": {},
   "outputs": [],
   "source": [
    "A.pop()\n",
    "A"
   ]
  },
  {
   "cell_type": "code",
   "execution_count": null,
   "id": "4cf514cd",
   "metadata": {},
   "outputs": [],
   "source": [
    "A, sorted(A, reverse=True)"
   ]
  },
  {
   "cell_type": "code",
   "execution_count": null,
   "id": "ccf2759c",
   "metadata": {},
   "outputs": [],
   "source": [
    "A[::-1]"
   ]
  },
  {
   "cell_type": "code",
   "execution_count": null,
   "id": "658bdbec",
   "metadata": {},
   "outputs": [],
   "source": [
    "A[::2]"
   ]
  },
  {
   "cell_type": "code",
   "execution_count": null,
   "id": "e10f8181",
   "metadata": {},
   "outputs": [],
   "source": [
    "A[1::2]"
   ]
  },
  {
   "cell_type": "code",
   "execution_count": null,
   "id": "a4c15642",
   "metadata": {},
   "outputs": [],
   "source": [
    "A"
   ]
  },
  {
   "cell_type": "code",
   "execution_count": null,
   "id": "0648cc09",
   "metadata": {},
   "outputs": [],
   "source": [
    "del A[1]\n",
    "A"
   ]
  },
  {
   "cell_type": "code",
   "execution_count": null,
   "id": "d9763f89",
   "metadata": {},
   "outputs": [],
   "source": [
    "A.remove(4)\n",
    "A"
   ]
  },
  {
   "cell_type": "code",
   "execution_count": null,
   "id": "71da461a",
   "metadata": {},
   "outputs": [],
   "source": [
    "A.insert(0, 'new')\n",
    "A"
   ]
  },
  {
   "cell_type": "markdown",
   "id": "7cab1cbb",
   "metadata": {},
   "source": [
    "## set"
   ]
  },
  {
   "cell_type": "code",
   "execution_count": null,
   "id": "fa9f87d1",
   "metadata": {},
   "outputs": [],
   "source": [
    "a = [1,1,2,2,3,3,4,4,4]\n",
    "a"
   ]
  },
  {
   "cell_type": "code",
   "execution_count": null,
   "id": "c4d06829",
   "metadata": {},
   "outputs": [],
   "source": [
    "a = [1,1,2,2,3,3,4,4,4]\n",
    "S = set(a)\n",
    "S"
   ]
  },
  {
   "cell_type": "code",
   "execution_count": null,
   "id": "066b5cab",
   "metadata": {},
   "outputs": [],
   "source": [
    "list(set(a))"
   ]
  },
  {
   "cell_type": "markdown",
   "id": "96a67270",
   "metadata": {},
   "source": [
    "## loop"
   ]
  },
  {
   "cell_type": "code",
   "execution_count": null,
   "id": "226d609f",
   "metadata": {},
   "outputs": [],
   "source": [
    "range(10)"
   ]
  },
  {
   "cell_type": "code",
   "execution_count": null,
   "id": "9a422ad4",
   "metadata": {},
   "outputs": [],
   "source": [
    "list(range(0, 10))"
   ]
  },
  {
   "cell_type": "code",
   "execution_count": null,
   "id": "7604283e",
   "metadata": {},
   "outputs": [],
   "source": [
    "for ... in ...:\n",
    "    print(f'{...} + 1 = {... + 1}')"
   ]
  },
  {
   "cell_type": "code",
   "execution_count": null,
   "id": "625ed87a",
   "metadata": {},
   "outputs": [],
   "source": [
    "a = [3,4,6,1,5,6]\n",
    "\n",
    "for ... in ...:\n",
    "    print(i**2)\n",
    "    print('--'*10)"
   ]
  },
  {
   "cell_type": "code",
   "execution_count": null,
   "id": "163e7aef",
   "metadata": {},
   "outputs": [],
   "source": [
    "for ... in range(20):\n",
    "    if not i % 2 == 0:    # i % 2 != 0\n",
    "        print(i)"
   ]
  },
  {
   "cell_type": "code",
   "execution_count": null,
   "id": "a6ec66c3",
   "metadata": {},
   "outputs": [],
   "source": [
    "a = [3,4,6,1,5,6]\n",
    "\n",
    "for ... in ...:\n",
    "    if i % 2 == 0:\n",
    "        print(i)"
   ]
  },
  {
   "cell_type": "markdown",
   "id": "e36dc4d4",
   "metadata": {},
   "source": [
    "## list comprehension"
   ]
  },
  {
   "cell_type": "code",
   "execution_count": null,
   "id": "c8965b5b",
   "metadata": {},
   "outputs": [],
   "source": [
    "a = [1,2,3,4]\n",
    "[... for ... in ...]"
   ]
  },
  {
   "cell_type": "code",
   "execution_count": null,
   "id": "91c2a0c3",
   "metadata": {},
   "outputs": [],
   "source": [
    "[... for ... in range(5)]"
   ]
  },
  {
   "cell_type": "code",
   "execution_count": null,
   "id": "e249a71a",
   "metadata": {},
   "outputs": [],
   "source": [
    "a = [1,2,3,4,5]\n",
    "\n",
    "[i for i in ... if ...]   # even numbers only"
   ]
  },
  {
   "cell_type": "markdown",
   "id": "59ed857c",
   "metadata": {},
   "source": [
    "---"
   ]
  },
  {
   "cell_type": "code",
   "execution_count": null,
   "id": "7109a6e3",
   "metadata": {},
   "outputs": [],
   "source": [
    "a = [2,4,67,6,3,5]\n",
    "\n",
    "[str(i) for i in a if ...]  # > 5 only"
   ]
  },
  {
   "cell_type": "code",
   "execution_count": null,
   "id": "d44809d6",
   "metadata": {},
   "outputs": [],
   "source": [
    "[... for i in a if ...]  # apply a calculation on i"
   ]
  },
  {
   "cell_type": "code",
   "execution_count": null,
   "id": "b9a68dcb",
   "metadata": {},
   "outputs": [],
   "source": [
    "A = []\n",
    "\n",
    "for i in a:\n",
    "    if i > 5:\n",
    "        A.append(i % 2)\n",
    "A        "
   ]
  },
  {
   "cell_type": "markdown",
   "id": "52e95529",
   "metadata": {},
   "source": [
    "## dict (dictionary)\n",
    "`keys`, `values`, `items`, `update`"
   ]
  },
  {
   "cell_type": "code",
   "execution_count": null,
   "id": "677f6a9e",
   "metadata": {},
   "outputs": [],
   "source": [
    "d = {'a': 'this is a', \n",
    "     'b': 'this is b'}  # key - value // hashmap"
   ]
  },
  {
   "cell_type": "code",
   "execution_count": null,
   "id": "c7a85da9",
   "metadata": {},
   "outputs": [],
   "source": [
    "d['a']"
   ]
  },
  {
   "cell_type": "code",
   "execution_count": null,
   "id": "d1013e87",
   "metadata": {},
   "outputs": [],
   "source": [
    "d['b']"
   ]
  },
  {
   "cell_type": "code",
   "execution_count": null,
   "id": "321fa02d",
   "metadata": {},
   "outputs": [],
   "source": [
    "d = {\n",
    "    'a': 1, \n",
    "    'b': 2,\n",
    "    (1,2,3): 'my tuple',\n",
    "    2: [1,2,3,4,5]\n",
    "}\n",
    "\n",
    "d... == 5"
   ]
  },
  {
   "cell_type": "code",
   "execution_count": null,
   "id": "516695f9",
   "metadata": {},
   "outputs": [],
   "source": [
    "d... == 'my tuple'"
   ]
  },
  {
   "cell_type": "code",
   "execution_count": null,
   "id": "6f69ea19",
   "metadata": {},
   "outputs": [],
   "source": [
    "d... == 'tuple'"
   ]
  },
  {
   "cell_type": "code",
   "execution_count": null,
   "id": "92bd200e",
   "metadata": {},
   "outputs": [],
   "source": [
    "# Example 1\n",
    "d = {\n",
    "    'id': [1,2,3,4],\n",
    "    'name': ['a', 'b', 'c', 'null']\n",
    "}"
   ]
  },
  {
   "cell_type": "code",
   "execution_count": null,
   "id": "c0908d55",
   "metadata": {},
   "outputs": [],
   "source": [
    "# Example 2\n",
    "student = {\n",
    "    'a': {\n",
    "        'name': ...,\n",
    "        'age': ...,\n",
    "    },\n",
    "    'b': {\n",
    "        'address': {\n",
    "            'city': ...,\n",
    "            'country': ...,\n",
    "        },\n",
    "    }\n",
    "}"
   ]
  },
  {
   "cell_type": "code",
   "execution_count": null,
   "id": "0f5cd21b",
   "metadata": {},
   "outputs": [],
   "source": [
    "# Example 3\n",
    "clients = {\n",
    "    '123bcd91': [...]\n",
    "}"
   ]
  },
  {
   "cell_type": "code",
   "execution_count": null,
   "id": "84c78374",
   "metadata": {},
   "outputs": [],
   "source": [
    "d.keys()"
   ]
  },
  {
   "cell_type": "code",
   "execution_count": null,
   "id": "881cdd76",
   "metadata": {},
   "outputs": [],
   "source": [
    "d.values()"
   ]
  },
  {
   "cell_type": "code",
   "execution_count": null,
   "id": "f9f7d884",
   "metadata": {},
   "outputs": [],
   "source": [
    "for ..., ... in d.items():\n",
    "    print(f\"{key} -- {value}\")"
   ]
  },
  {
   "cell_type": "code",
   "execution_count": null,
   "id": "ba264475",
   "metadata": {},
   "outputs": [],
   "source": [
    "for ..., ... in d.items():\n",
    "    print(f\"{k} -- {v}\")"
   ]
  },
  {
   "cell_type": "code",
   "execution_count": null,
   "id": "c086d1e5",
   "metadata": {},
   "outputs": [],
   "source": [
    "d_1 = {'a': 1, 'b': 2}\n",
    "d_2 = {'c': 3, 'd': 4}\n",
    "\n",
    "d_1.update(d_2)\n",
    "d_1"
   ]
  },
  {
   "cell_type": "code",
   "execution_count": null,
   "id": "0339d755",
   "metadata": {},
   "outputs": [],
   "source": [
    "'a' in d_1"
   ]
  },
  {
   "cell_type": "code",
   "execution_count": null,
   "id": "8c7a8e24",
   "metadata": {},
   "outputs": [],
   "source": [
    "d_1['a']"
   ]
  },
  {
   "cell_type": "code",
   "execution_count": null,
   "id": "be1adaea",
   "metadata": {},
   "outputs": [],
   "source": [
    "'z' in d_1"
   ]
  },
  {
   "cell_type": "code",
   "execution_count": null,
   "id": "f33a1169",
   "metadata": {},
   "outputs": [],
   "source": [
    "d_1['z']  # 'z' is not in d_1"
   ]
  },
  {
   "cell_type": "markdown",
   "id": "b5837643",
   "metadata": {},
   "source": [
    "### Tách string thành dictionary chứa các thông tin tương ứng."
   ]
  },
  {
   "cell_type": "code",
   "execution_count": null,
   "id": "60ef332f",
   "metadata": {},
   "outputs": [],
   "source": [
    "s = '''\n",
    "product/productId: B003AI2VGA\n",
    "review/userId: AQJVNDW6YZFQS\n",
    "review/profileName: Charles R. Williams\n",
    "review/helpfulness: 3/11\n",
    "review/score: 1.0\n",
    "review/time: 1164153600\n",
    "review/summary: This is junk, stay away\n",
    "review/text: Mexican men are macho rapists, gangsters or ineffective bureaucrats. Mexican women are semi-pagan, pious fools. There are self-serving corporate types and even a pushy, culturally-insensitive liberal female reporter.<br /><br />The story is absurd, the characters are unbelievable, the stereotypes are offensive.\n",
    "'''"
   ]
  },
  {
   "cell_type": "code",
   "execution_count": null,
   "id": "9fa7cb6d",
   "metadata": {},
   "outputs": [],
   "source": [
    "lines = [line for line in ... if line.strip()]\n",
    "lines"
   ]
  },
  {
   "cell_type": "code",
   "execution_count": null,
   "id": "1ed964a4",
   "metadata": {},
   "outputs": [],
   "source": [
    "line = lines[0]\n",
    "line"
   ]
  },
  {
   "cell_type": "code",
   "execution_count": null,
   "id": "559cfe82",
   "metadata": {},
   "outputs": [],
   "source": [
    "lines = [line for line in ... if ...]\n",
    "\n",
    "d = {}\n",
    "\n",
    "for line in lines:\n",
    "    line = line.split(': ')\n",
    "    d.update({...: ...})\n",
    "    \n",
    "d "
   ]
  },
  {
   "cell_type": "code",
   "execution_count": null,
   "id": "71493896",
   "metadata": {},
   "outputs": [],
   "source": [
    "d['review/time']"
   ]
  },
  {
   "cell_type": "markdown",
   "id": "52345129",
   "metadata": {
    "tags": []
   },
   "source": [
    "# Conditional"
   ]
  },
  {
   "cell_type": "markdown",
   "id": "07f5742f",
   "metadata": {
    "tags": []
   },
   "source": [
    "### Phân loại học sinh\n",
    "- Nếu điểm dưới 5 => trung bình.\n",
    "- Nếu từ 5 đến dưới 8 => khá.\n",
    "- Nếu từ 8 đến dưới 9 => giỏi.\n",
    "- Nếu trên 9 => xuất sắc."
   ]
  },
  {
   "cell_type": "code",
   "execution_count": null,
   "id": "45ffcce8",
   "metadata": {},
   "outputs": [],
   "source": [
    "score = 11.5\n",
    "\n",
    "if ...:\n",
    "    print('trung binh')\n",
    "elif ...:\n",
    "    print('kha')\n",
    "elif ...:\n",
    "    print('gioi')\n",
    "elif ...:\n",
    "    print('xuat sac')\n",
    "else:\n",
    "    print('diem sai')"
   ]
  },
  {
   "cell_type": "markdown",
   "id": "1199c1aa",
   "metadata": {
    "tags": []
   },
   "source": [
    "### Một game đơn giản với \"if - else\"\n",
    "- Chọn một cửa trong ba cửa.\n",
    "- Nếu chọn cửa 1 => cửa may mắn. Chọn thêm phần quà 1 hoặc 2. Nếu chọn 1 => xe hơi, nếu chọn 2 => xe đồ chơi.\n",
    "- Nếu chọn cửa 2 hoặc 3 => thua trò chơi."
   ]
  },
  {
   "cell_type": "code",
   "execution_count": null,
   "id": "306ba864",
   "metadata": {},
   "outputs": [],
   "source": []
  },
  {
   "cell_type": "markdown",
   "id": "0d011501",
   "metadata": {},
   "source": [
    "### Full program"
   ]
  },
  {
   "cell_type": "code",
   "execution_count": null,
   "id": "97aedfa5",
   "metadata": {
    "jupyter": {
     "source_hidden": true
    },
    "tags": []
   },
   "outputs": [],
   "source": [
    "choice = input('Let me know your choice:')\n",
    "choice = int(choice)\n",
    "\n",
    "if choice not in [1, 2, 3]:\n",
    "    print('Hey, there are only door 1, 2 or 3!')\n",
    "\n",
    "if choice == 1:\n",
    "    print('Hey, you\\'re lucky!')\n",
    "    print(\"Let's choose the prize.\")\n",
    "    prize_choice = int(input('Which one would you want? 1 or 2?'))\n",
    "\n",
    "    if prize_choice == 1:\n",
    "        print('Wow, you got a car!')\n",
    "    elif prize_choice == 2:\n",
    "        print('Wow, you got a toy car!')\n",
    "    else:\n",
    "        print('Hey, choose 1 or 2 only!')\n",
    "if choice == 2:\n",
    "    print(\"Hehe, bad luck! I'll take all your money!\")\n",
    "if choice == 3:\n",
    "    print(\"Hehe, bad luck! I'll take all your money and your soul!\")"
   ]
  },
  {
   "cell_type": "markdown",
   "id": "2358e42a",
   "metadata": {},
   "source": [
    "### Randomness!"
   ]
  },
  {
   "cell_type": "code",
   "execution_count": null,
   "id": "32d4381c",
   "metadata": {
    "jupyter": {
     "source_hidden": true
    },
    "tags": []
   },
   "outputs": [],
   "source": [
    "import random\n",
    "\n",
    "choice = random.randint(1, 3)   # <-- changed here!\n",
    "\n",
    "if choice not in [1, 2, 3]:\n",
    "    print('Hey, there are only door 1, 2 or 3!')\n",
    "\n",
    "if choice == 1:\n",
    "    print('Hey, you\\'re lucky!')\n",
    "    print(\"Let's choose the prize.\")\n",
    "    prize_choice = int(input('Which one would you want? 1 or 2?'))\n",
    "\n",
    "    if prize_choice == 1:\n",
    "        print('Wow, you got a car!')\n",
    "    elif prize_choice == 2:\n",
    "        print('Wow, you got a toy car!')\n",
    "    else:\n",
    "        print('Hey, choose 1 or 2 only!')\n",
    "if choice == 2:\n",
    "    print(\"Hehe, bad luck! I'll take all your money!\")\n",
    "if choice == 3:\n",
    "    print(\"Hehe, bad luck! I'll take all your money and your soul!\")"
   ]
  },
  {
   "cell_type": "markdown",
   "id": "8a42e0b3",
   "metadata": {
    "tags": []
   },
   "source": [
    "# Loop"
   ]
  },
  {
   "cell_type": "markdown",
   "id": "6fd20f31",
   "metadata": {
    "tags": []
   },
   "source": [
    "## The gambler\n",
    "- Chọn một số.\n",
    "- Nếu số đó nằm trong 1 list 10 số (ngẫu nhiên cho trước) => thắng, nếu không thì thua."
   ]
  },
  {
   "cell_type": "code",
   "execution_count": null,
   "id": "c761a7b5",
   "metadata": {},
   "outputs": [],
   "source": []
  },
  {
   "cell_type": "markdown",
   "id": "5d957c0b",
   "metadata": {
    "tags": []
   },
   "source": [
    "## Full program"
   ]
  },
  {
   "cell_type": "code",
   "execution_count": null,
   "id": "075938ea",
   "metadata": {
    "jupyter": {
     "source_hidden": true
    },
    "tags": []
   },
   "outputs": [],
   "source": [
    "from random import randint\n",
    "\n",
    "n = 10\n",
    "numbers = [randint(1, 10) for _ in range(n)]\n",
    "choice = int(input('Show me your choice:'))\n",
    "\n",
    "if choice in numbers:\n",
    "    print('Lucky you!')\n",
    "else:\n",
    "    print('Not this time buddy.')"
   ]
  },
  {
   "cell_type": "markdown",
   "id": "585b9b84",
   "metadata": {
    "tags": []
   },
   "source": [
    "## The gambler 2.0\n",
    "- Chọn một số và 1 cửa, mỗi cửa sẽ là một list chứa các số ngẫu nhiên.\n",
    "- Nếu số nằm trong cửa đã chọn => thắng."
   ]
  },
  {
   "cell_type": "code",
   "execution_count": null,
   "id": "033f176d",
   "metadata": {},
   "outputs": [],
   "source": []
  },
  {
   "cell_type": "code",
   "execution_count": null,
   "id": "684820e8",
   "metadata": {
    "jupyter": {
     "source_hidden": true
    },
    "tags": []
   },
   "outputs": [],
   "source": [
    "from random import randint\n",
    "\n",
    "n = 10\n",
    "numbers_1 = \n",
    "numbers_2 = [randint(1, 10) for _ in range(n)]\n",
    "numbers_3 = [randint(1, 10) for _ in range(n)]"
   ]
  },
  {
   "cell_type": "code",
   "execution_count": null,
   "id": "03e64e06",
   "metadata": {
    "jupyter": {
     "source_hidden": true
    },
    "tags": []
   },
   "outputs": [],
   "source": [
    "numbers = []\n",
    "\n",
    "for i in range(3):\n",
    "    numbers.append([randint(1, 10) for _ in range(n)])\n",
    "\n",
    "numbers"
   ]
  },
  {
   "cell_type": "code",
   "execution_count": null,
   "id": "e6ba3d5e",
   "metadata": {
    "jupyter": {
     "source_hidden": true
    },
    "tags": []
   },
   "outputs": [],
   "source": [
    "choice = int(input('Let me know your choice:'))\n",
    "door = int(input('Which door?')) - 1"
   ]
  },
  {
   "cell_type": "code",
   "execution_count": null,
   "id": "26011853",
   "metadata": {
    "jupyter": {
     "source_hidden": true
    },
    "tags": []
   },
   "outputs": [],
   "source": [
    "if door not in [0, 1, 2]:\n",
    "    print('Door should be 1, 2 or 3!')"
   ]
  },
  {
   "cell_type": "code",
   "execution_count": null,
   "id": "9b32bb3c",
   "metadata": {
    "jupyter": {
     "source_hidden": true
    },
    "tags": []
   },
   "outputs": [],
   "source": [
    "if choice in numbers[door]:\n",
    "    print('Congrats! You won!')\n",
    "else:\n",
    "    print('Hmm... You lost.')"
   ]
  },
  {
   "cell_type": "markdown",
   "id": "9be20f23",
   "metadata": {
    "heading_collapsed": "true",
    "tags": []
   },
   "source": [
    "## Full program"
   ]
  },
  {
   "cell_type": "code",
   "execution_count": null,
   "id": "dc068a9a",
   "metadata": {
    "jupyter": {
     "source_hidden": true
    },
    "tags": []
   },
   "outputs": [],
   "source": [
    "from random import randint\n",
    "\n",
    "n = 10\n",
    "numbers = []\n",
    "\n",
    "for i in range(3):\n",
    "    numbers.append([randint(1, 10) for _ in range(n)])\n",
    "\n",
    "choice = int(input('Let me know your choice:'))\n",
    "door = int(input('Which door?'))\n",
    "\n",
    "if door not in [1, 2, 3]:\n",
    "    print('Door should be 1, 2 or 3!')\n",
    "\n",
    "if choice in numbers[door - 1]:\n",
    "    print('Congrats! You won!')\n",
    "else:\n",
    "    print('Hmm... You lost.')"
   ]
  },
  {
   "cell_type": "markdown",
   "id": "51c35707",
   "metadata": {
    "tags": []
   },
   "source": [
    "# User defined functions (UDF)"
   ]
  },
  {
   "cell_type": "markdown",
   "id": "8943d747",
   "metadata": {},
   "source": [
    "## Syntax"
   ]
  },
  {
   "cell_type": "markdown",
   "id": "07a0febc",
   "metadata": {},
   "source": [
    "### Define functions with `def`"
   ]
  },
  {
   "cell_type": "code",
   "execution_count": null,
   "id": "4877465e",
   "metadata": {},
   "outputs": [],
   "source": [
    "def ...(...):\n",
    "    ...\n",
    "    return ..."
   ]
  },
  {
   "cell_type": "code",
   "execution_count": null,
   "id": "0ded36e6",
   "metadata": {},
   "outputs": [],
   "source": [
    "def square(...):\n",
    "    out = ...**2\n",
    "    return out"
   ]
  },
  {
   "cell_type": "code",
   "execution_count": null,
   "id": "b10cdc3c",
   "metadata": {},
   "outputs": [],
   "source": [
    "def square(...):\n",
    "    return ..."
   ]
  },
  {
   "cell_type": "code",
   "execution_count": null,
   "id": "9bfb9187",
   "metadata": {},
   "outputs": [],
   "source": [
    "# Compute sum of multiple items\n",
    "def sum_func(...):\n",
    "    return ..."
   ]
  },
  {
   "cell_type": "code",
   "execution_count": null,
   "id": "ad9c3c2a",
   "metadata": {},
   "outputs": [],
   "source": [
    "# Compute sum of n random items of a list\n",
    "def sum_random(..., n=...):\n",
    "    return ..."
   ]
  },
  {
   "cell_type": "markdown",
   "id": "29bd9cb9",
   "metadata": {},
   "source": [
    "### Define functions with `lambda`"
   ]
  },
  {
   "cell_type": "code",
   "execution_count": null,
   "id": "5542c7c8",
   "metadata": {},
   "outputs": [],
   "source": [
    "square = lambda x: x**2\n",
    "square(5)"
   ]
  },
  {
   "cell_type": "code",
   "execution_count": null,
   "id": "7d93cea5",
   "metadata": {},
   "outputs": [],
   "source": [
    "f = lambda x: 2*x \n",
    "f(5)"
   ]
  },
  {
   "cell_type": "code",
   "execution_count": null,
   "id": "43a5ee5e",
   "metadata": {},
   "outputs": [],
   "source": [
    "f = lambda x,y: 2*x*y\n",
    "f(10,5)"
   ]
  },
  {
   "cell_type": "code",
   "execution_count": null,
   "id": "6cfbe87c",
   "metadata": {},
   "outputs": [],
   "source": [
    "(lambda x: x**2)(2)"
   ]
  },
  {
   "cell_type": "code",
   "execution_count": null,
   "id": "8ce654c1",
   "metadata": {},
   "outputs": [],
   "source": [
    "(lambda x: x**2)(3)"
   ]
  },
  {
   "cell_type": "code",
   "execution_count": null,
   "id": "9812fd83",
   "metadata": {},
   "outputs": [],
   "source": [
    "def apply(f, a):\n",
    "    return [...(n) for n in ...]\n",
    "\n",
    "apply(lambda x: x**2, [1,2,3,10])"
   ]
  },
  {
   "cell_type": "code",
   "execution_count": null,
   "id": "faa5827f",
   "metadata": {},
   "outputs": [],
   "source": [
    "out = map(lambda x: ..., [...])\n",
    "out"
   ]
  },
  {
   "cell_type": "code",
   "execution_count": null,
   "id": "d15823cd",
   "metadata": {},
   "outputs": [],
   "source": [
    "list(out)"
   ]
  },
  {
   "cell_type": "markdown",
   "id": "907d89c0",
   "metadata": {},
   "source": [
    "## keyword argument"
   ]
  },
  {
   "cell_type": "code",
   "execution_count": null,
   "id": "e054accb",
   "metadata": {},
   "outputs": [],
   "source": [
    "def f(x):\n",
    "    a = ...\n",
    "    return a*x\n",
    "\n",
    "f(...)"
   ]
  },
  {
   "cell_type": "code",
   "execution_count": null,
   "id": "bac1df29",
   "metadata": {},
   "outputs": [],
   "source": [
    "def f(x, a=...):\n",
    "    return a*x\n",
    "\n",
    "f(..., a=...)"
   ]
  },
  {
   "cell_type": "code",
   "execution_count": null,
   "id": "284da07a",
   "metadata": {},
   "outputs": [],
   "source": [
    "x = 5\n",
    "f(..., a=...)"
   ]
  },
  {
   "cell_type": "code",
   "execution_count": null,
   "id": "2e6ea268",
   "metadata": {},
   "outputs": [],
   "source": [
    "a = [5,4,3,3,6,7]\n",
    "sorted(a, reverse=True)"
   ]
  },
  {
   "cell_type": "code",
   "execution_count": null,
   "id": "50c7e557",
   "metadata": {},
   "outputs": [],
   "source": [
    "print('some random string', end='.')"
   ]
  },
  {
   "cell_type": "markdown",
   "id": "36b3cfdf",
   "metadata": {},
   "source": [
    "## Examples"
   ]
  },
  {
   "cell_type": "code",
   "execution_count": null,
   "id": "4aa47117",
   "metadata": {},
   "outputs": [],
   "source": [
    "def classify_student(score):  # define\n",
    "    if ...:\n",
    "        print('trung binh')\n",
    "    elif ...:\n",
    "        print('kha')\n",
    "    elif ...:\n",
    "        print('gioi')\n",
    "    elif ...:\n",
    "        print('xuat sac')\n",
    "    else:\n",
    "        print('diem sai')\n",
    "    \n",
    "\n",
    "classify_student(10)"
   ]
  },
  {
   "cell_type": "code",
   "execution_count": null,
   "id": "5acbffb0",
   "metadata": {},
   "outputs": [],
   "source": [
    "classify_student(5)"
   ]
  },
  {
   "cell_type": "code",
   "execution_count": null,
   "id": "e490bc80",
   "metadata": {
    "tags": []
   },
   "outputs": [],
   "source": [
    "mark = 6.5\n",
    "classify_student(mark)"
   ]
  },
  {
   "cell_type": "code",
   "execution_count": null,
   "id": "db981e88",
   "metadata": {
    "tags": []
   },
   "outputs": [],
   "source": [
    "a = [7, 9, 10, 3, 5]\n",
    "\n",
    "for score in a:\n",
    "    classify_student(score)"
   ]
  },
  {
   "cell_type": "code",
   "execution_count": null,
   "id": "d1f0c04d",
   "metadata": {
    "tags": []
   },
   "outputs": [],
   "source": [
    "[classify_student(score) for score in a]"
   ]
  },
  {
   "cell_type": "code",
   "execution_count": null,
   "id": "b189cc98",
   "metadata": {},
   "outputs": [],
   "source": [
    "def if_else_game(door):\n",
    "    ..."
   ]
  },
  {
   "cell_type": "code",
   "execution_count": null,
   "id": "9b871127",
   "metadata": {
    "tags": []
   },
   "outputs": [],
   "source": [
    "door = 1\n",
    "if_else_game(door)"
   ]
  },
  {
   "cell_type": "code",
   "execution_count": null,
   "id": "ab2c68a9",
   "metadata": {},
   "outputs": [],
   "source": [
    "from random import randint\n",
    "\n",
    "def gamble(n, num_doors=3):  # num_doors: keyword argument; n: positional\n",
    "    ..."
   ]
  },
  {
   "cell_type": "markdown",
   "id": "32636cb5",
   "metadata": {
    "tags": []
   },
   "source": [
    "# Builtin functions"
   ]
  },
  {
   "cell_type": "markdown",
   "id": "2aed7eb4",
   "metadata": {},
   "source": [
    "## Numerical"
   ]
  },
  {
   "cell_type": "code",
   "execution_count": null,
   "id": "45e1cd98",
   "metadata": {},
   "outputs": [],
   "source": [
    "sum"
   ]
  },
  {
   "cell_type": "code",
   "execution_count": null,
   "id": "74b21c15",
   "metadata": {},
   "outputs": [],
   "source": [
    "sum([1,2,3])"
   ]
  },
  {
   "cell_type": "code",
   "execution_count": null,
   "id": "682fa73b",
   "metadata": {},
   "outputs": [],
   "source": [
    "min"
   ]
  },
  {
   "cell_type": "code",
   "execution_count": null,
   "id": "3c88d92c",
   "metadata": {},
   "outputs": [],
   "source": [
    "min([1,2,3])"
   ]
  },
  {
   "cell_type": "code",
   "execution_count": null,
   "id": "9c93d9f7",
   "metadata": {},
   "outputs": [],
   "source": [
    "max"
   ]
  },
  {
   "cell_type": "code",
   "execution_count": null,
   "id": "bea9287e",
   "metadata": {},
   "outputs": [],
   "source": [
    "max([1,2,3])"
   ]
  },
  {
   "cell_type": "code",
   "execution_count": null,
   "id": "e80157dd",
   "metadata": {},
   "outputs": [],
   "source": [
    "a = [3, 2, 5, 1, 9, 11]\n",
    "min(a), max(a)"
   ]
  },
  {
   "cell_type": "code",
   "execution_count": null,
   "id": "cbd8fc0e",
   "metadata": {},
   "outputs": [],
   "source": [
    "from math import floor, ceil\n",
    "\n",
    "# round\n",
    "floor(2.2), ceil(2.2)\n",
    "\n",
    "n = 22900\n",
    "ceil(n/1000)*1000"
   ]
  },
  {
   "cell_type": "code",
   "execution_count": null,
   "id": "f94b20f7",
   "metadata": {},
   "outputs": [],
   "source": [
    "# sorted\n",
    "a = [3, 2, 5, 1, 9, 11]\n",
    "sorted(a, reverse=True)  # cach 1\n",
    "sorted(a)[::-1]  # cach 2"
   ]
  },
  {
   "cell_type": "markdown",
   "id": "9d2eedae",
   "metadata": {},
   "source": [
    "## Read and write"
   ]
  },
  {
   "cell_type": "code",
   "execution_count": null,
   "id": "432af140",
   "metadata": {},
   "outputs": [],
   "source": [
    "f = open(...)\n",
    "f.read()\n",
    "f.close()"
   ]
  },
  {
   "cell_type": "code",
   "execution_count": null,
   "id": "58b54653",
   "metadata": {},
   "outputs": [],
   "source": [
    "with open(...) as f:   # context manager\n",
    "    content = f.read()\n",
    "\n",
    "content"
   ]
  },
  {
   "cell_type": "code",
   "execution_count": null,
   "id": "7ea45a99",
   "metadata": {},
   "outputs": [],
   "source": [
    "with open(..., 'w') as f:   # w <=> write\n",
    "    f.write(...)"
   ]
  },
  {
   "cell_type": "code",
   "execution_count": null,
   "id": "b26c4d90",
   "metadata": {},
   "outputs": [],
   "source": [
    "with open(..., 'a') as f:   # a <=> append\n",
    "    f.write(...)"
   ]
  },
  {
   "cell_type": "code",
   "execution_count": null,
   "id": "0cf268b4",
   "metadata": {},
   "outputs": [],
   "source": [
    "with open(..., 'a') as f:   # a <=> append\n",
    "    for line in f:\n",
    "        ..."
   ]
  },
  {
   "cell_type": "markdown",
   "id": "434f2809",
   "metadata": {},
   "source": [
    "## Check types and methods"
   ]
  },
  {
   "cell_type": "code",
   "execution_count": null,
   "id": "0c4621c6",
   "metadata": {},
   "outputs": [],
   "source": [
    "type(...)"
   ]
  },
  {
   "cell_type": "code",
   "execution_count": null,
   "id": "f276ec69",
   "metadata": {},
   "outputs": [],
   "source": [
    "a = ...\n",
    "dir(a)"
   ]
  },
  {
   "cell_type": "code",
   "execution_count": null,
   "id": "6bdd54d9",
   "metadata": {},
   "outputs": [],
   "source": [
    "help(...)"
   ]
  },
  {
   "cell_type": "code",
   "execution_count": null,
   "id": "60684e78",
   "metadata": {},
   "outputs": [],
   "source": [
    "?..."
   ]
  },
  {
   "cell_type": "markdown",
   "id": "80472c1d",
   "metadata": {},
   "source": [
    "## Custom print delimiter"
   ]
  },
  {
   "cell_type": "code",
   "execution_count": null,
   "id": "b6fa6310",
   "metadata": {},
   "outputs": [],
   "source": [
    "a = ['a', 'b', 'c']\n",
    "print(*a, sep='\\t')"
   ]
  },
  {
   "cell_type": "code",
   "execution_count": null,
   "id": "2577d5da",
   "metadata": {},
   "outputs": [],
   "source": [
    "print(*a, sep=' --- ')"
   ]
  },
  {
   "cell_type": "markdown",
   "id": "3806b244",
   "metadata": {
    "tags": []
   },
   "source": [
    "# Libraries"
   ]
  },
  {
   "cell_type": "markdown",
   "id": "dc57fb08",
   "metadata": {},
   "source": [
    "## math"
   ]
  },
  {
   "cell_type": "code",
   "execution_count": null,
   "id": "6c5e4391",
   "metadata": {},
   "outputs": [],
   "source": [
    "import math"
   ]
  },
  {
   "cell_type": "markdown",
   "id": "99adffb2",
   "metadata": {},
   "source": [
    "## os"
   ]
  },
  {
   "cell_type": "code",
   "execution_count": null,
   "id": "ed7fcd8e",
   "metadata": {},
   "outputs": [],
   "source": [
    "import os\n",
    "\n",
    "print(*dir(os), sep=' | ')"
   ]
  },
  {
   "cell_type": "code",
   "execution_count": null,
   "id": "7485d00e",
   "metadata": {},
   "outputs": [],
   "source": [
    "os.environ['PATH']"
   ]
  },
  {
   "cell_type": "markdown",
   "id": "e8b760b4",
   "metadata": {},
   "source": [
    "## random"
   ]
  },
  {
   "cell_type": "code",
   "execution_count": null,
   "id": "17048c8c",
   "metadata": {},
   "outputs": [],
   "source": [
    "import random"
   ]
  },
  {
   "cell_type": "markdown",
   "id": "65fc1654",
   "metadata": {},
   "source": [
    "## requests"
   ]
  },
  {
   "cell_type": "code",
   "execution_count": null,
   "id": "05704343",
   "metadata": {},
   "outputs": [],
   "source": [
    "import requests\n",
    "\n",
    "page = requests.get('https://news.ycombinator.com/news')\n",
    "page.content"
   ]
  },
  {
   "cell_type": "markdown",
   "id": "dc001453",
   "metadata": {},
   "source": [
    "## bs4"
   ]
  },
  {
   "cell_type": "code",
   "execution_count": null,
   "id": "4841bfaf",
   "metadata": {},
   "outputs": [],
   "source": [
    "from bs4 import BeautifulSoup\n",
    "\n",
    "soup = BeautifulSoup(page.content)\n",
    "titles = soup.select('a.storylink')\n",
    "titles[0].text"
   ]
  },
  {
   "cell_type": "markdown",
   "id": "7c02441d",
   "metadata": {},
   "source": [
    "## numpy"
   ]
  },
  {
   "cell_type": "code",
   "execution_count": null,
   "id": "8f0a426c",
   "metadata": {},
   "outputs": [],
   "source": [
    "import numpy as np\n",
    "\n",
    "a_array = np.array([1,2,3,4])\n",
    "a_list = [1,2,3,4]"
   ]
  },
  {
   "cell_type": "code",
   "execution_count": null,
   "id": "66fc913e",
   "metadata": {},
   "outputs": [],
   "source": [
    "a_array.sum()"
   ]
  },
  {
   "cell_type": "code",
   "execution_count": null,
   "id": "8e4d05c3",
   "metadata": {},
   "outputs": [],
   "source": [
    "a_list.sum()"
   ]
  },
  {
   "cell_type": "code",
   "execution_count": null,
   "id": "0d579549",
   "metadata": {},
   "outputs": [],
   "source": [
    "a = np.array([1,2,3,4])\n",
    "b = np.array([1,1,1,1])\n",
    "\n",
    "a + b"
   ]
  },
  {
   "cell_type": "code",
   "execution_count": null,
   "id": "1fdd0440",
   "metadata": {},
   "outputs": [],
   "source": [
    "a = [1,2,3,4]\n",
    "b = [1,1,1,1]\n",
    "n = 4\n",
    "\n",
    "for i in range(4):\n",
    "    print(a[i] + b[i])"
   ]
  },
  {
   "cell_type": "code",
   "execution_count": null,
   "id": "6dd75480",
   "metadata": {},
   "outputs": [],
   "source": [
    "a = np.array([1,2,3,4])\n",
    "[np.sin(i) for i in a]\n",
    "np.sin(a)"
   ]
  }
 ],
 "metadata": {
  "interpreter": {
   "hash": "1468a58c3a7b2a29ea27cc814e39aad725289df0de9a34481ce3ba03a92d3788"
  },
  "kernelspec": {
   "display_name": "Python 3",
   "language": "python",
   "name": "python3"
  },
  "language_info": {
   "codemirror_mode": {
    "name": "ipython",
    "version": 3
   },
   "file_extension": ".py",
   "mimetype": "text/x-python",
   "name": "python",
   "nbconvert_exporter": "python",
   "pygments_lexer": "ipython3",
   "version": "3.8.10"
  }
 },
 "nbformat": 4,
 "nbformat_minor": 5
}
