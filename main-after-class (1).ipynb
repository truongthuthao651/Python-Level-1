{
 "cells": [
  {
   "cell_type": "markdown",
   "source": [
    "# int, float"
   ],
   "metadata": {
    "tags": []
   }
  },
  {
   "cell_type": "code",
   "execution_count": null,
   "source": [
    "x = 2\n",
    "...**0.5"
   ],
   "outputs": [],
   "metadata": {}
  },
  {
   "cell_type": "code",
   "execution_count": null,
   "source": [
    "from math import sqrt\n",
    "\n",
    "sqrt(...)"
   ],
   "outputs": [],
   "metadata": {}
  },
  {
   "cell_type": "code",
   "execution_count": null,
   "source": [
    "import math\n",
    "\n",
    "math.exp(...), math.log(...)"
   ],
   "outputs": [],
   "metadata": {}
  },
  {
   "cell_type": "code",
   "execution_count": null,
   "source": [
    "dir(...)"
   ],
   "outputs": [],
   "metadata": {}
  },
  {
   "cell_type": "code",
   "execution_count": null,
   "source": [
    "math.ceil(...)"
   ],
   "outputs": [],
   "metadata": {}
  },
  {
   "cell_type": "code",
   "execution_count": null,
   "source": [
    "help(math.ceil)"
   ],
   "outputs": [],
   "metadata": {}
  },
  {
   "cell_type": "code",
   "execution_count": null,
   "source": [
    "?math.ceil"
   ],
   "outputs": [],
   "metadata": {}
  },
  {
   "cell_type": "code",
   "execution_count": null,
   "source": [
    "5 % 2  # modulo"
   ],
   "outputs": [],
   "metadata": {}
  },
  {
   "cell_type": "code",
   "execution_count": null,
   "source": [
    "10 % 2"
   ],
   "outputs": [],
   "metadata": {}
  },
  {
   "cell_type": "code",
   "execution_count": null,
   "source": [
    "5 // 2"
   ],
   "outputs": [],
   "metadata": {}
  },
  {
   "cell_type": "code",
   "execution_count": null,
   "source": [
    "5 // 2, 5 % 2"
   ],
   "outputs": [],
   "metadata": {}
  },
  {
   "cell_type": "markdown",
   "source": [
    "## Kiểm tra một số là số lẻ"
   ],
   "metadata": {
    "tags": []
   }
  },
  {
   "cell_type": "code",
   "execution_count": null,
   "source": [],
   "outputs": [],
   "metadata": {}
  },
  {
   "cell_type": "markdown",
   "source": [
    "## Kiểm tra một số là lẻ và lớn hơn 5"
   ],
   "metadata": {}
  },
  {
   "cell_type": "code",
   "execution_count": null,
   "source": [],
   "outputs": [],
   "metadata": {}
  },
  {
   "cell_type": "markdown",
   "source": [
    "# boolean "
   ],
   "metadata": {
    "tags": []
   }
  },
  {
   "cell_type": "code",
   "execution_count": null,
   "source": [
    "True"
   ],
   "outputs": [],
   "metadata": {}
  },
  {
   "cell_type": "code",
   "execution_count": null,
   "source": [
    "False"
   ],
   "outputs": [],
   "metadata": {}
  },
  {
   "cell_type": "code",
   "execution_count": null,
   "source": [
    "True and True"
   ],
   "outputs": [],
   "metadata": {}
  },
  {
   "cell_type": "code",
   "execution_count": null,
   "source": [
    "True and False"
   ],
   "outputs": [],
   "metadata": {}
  },
  {
   "cell_type": "code",
   "execution_count": null,
   "source": [
    "True or False"
   ],
   "outputs": [],
   "metadata": {}
  },
  {
   "cell_type": "code",
   "execution_count": null,
   "source": [
    "1 == 1"
   ],
   "outputs": [],
   "metadata": {}
  },
  {
   "cell_type": "code",
   "execution_count": null,
   "source": [
    "# True or False\n",
    "1 == 1 or False"
   ],
   "outputs": [],
   "metadata": {}
  },
  {
   "cell_type": "code",
   "execution_count": null,
   "source": [
    "1 == 1 or 1 == 0"
   ],
   "outputs": [],
   "metadata": {}
  },
  {
   "cell_type": "code",
   "execution_count": null,
   "source": [
    "1 < 2 and 3 < 4  # True and True"
   ],
   "outputs": [],
   "metadata": {}
  },
  {
   "cell_type": "code",
   "execution_count": null,
   "source": [
    "1 < 2 and 3 < 4 or 1 == 0  # True and True or False"
   ],
   "outputs": [],
   "metadata": {}
  },
  {
   "cell_type": "markdown",
   "source": [
    "## Cấu trúc rẽ nhánh (conditional)"
   ],
   "metadata": {}
  },
  {
   "cell_type": "code",
   "execution_count": null,
   "source": [
    "x = ...\n",
    "\n",
    "if ...:\n",
    "    print('Gia tri cua x la:', x)\n",
    "    print('Gia tri cua x la:', x)\n",
    "    print('Gia tri cua x la:', x)"
   ],
   "outputs": [],
   "metadata": {}
  },
  {
   "cell_type": "code",
   "execution_count": null,
   "source": [
    "x = ...\n",
    "\n",
    "if ... < x < ...:\n",
    "    print('Gia tri cua x la:', x)\n",
    "print('Gia tri cua x la (ngoai if):', x)"
   ],
   "outputs": [],
   "metadata": {}
  },
  {
   "cell_type": "code",
   "execution_count": null,
   "source": [
    "x = ...\n",
    "\n",
    "if ... < x < ...:\n",
    "    print(f'{x} is in (0, 10)   (1)')      # (1)\n",
    "else:\n",
    "    print(f'{x} is not in (0, 10)   (2)')  # (2)"
   ],
   "outputs": [],
   "metadata": {}
  },
  {
   "cell_type": "code",
   "execution_count": null,
   "source": [
    "x = ...\n",
    "\n",
    "if ...:\n",
    "    print(f'{x} in (0, 10)')\n",
    "elif ...:  # else if\n",
    "    print(x)\n",
    "...:\n",
    "    print(f'{x} is not in (0, 10)')"
   ],
   "outputs": [],
   "metadata": {}
  },
  {
   "cell_type": "markdown",
   "source": [
    "### Cho một số, nếu số đó chẵn thì in ra \"chẵn\", nếu số đó lẻ thì in ra \"lẻ\"."
   ],
   "metadata": {}
  },
  {
   "cell_type": "code",
   "execution_count": null,
   "source": [
    "x = False\n",
    "\n",
    "if ...:\n",
    "    ...\n",
    "else:\n",
    "    ..."
   ],
   "outputs": [],
   "metadata": {}
  },
  {
   "cell_type": "markdown",
   "source": [
    "### Cho 3 cạnh của một tam giác, nếu tam giác vuông thì in ra \"vuông\", nếu không thì in ra \"không vuông\"."
   ],
   "metadata": {}
  },
  {
   "cell_type": "code",
   "execution_count": null,
   "source": [
    "a, b, c = ..., ..., ...\n",
    "\n",
    "if ...:\n",
    "    ...\n",
    "else:\n",
    "    ..."
   ],
   "outputs": [],
   "metadata": {}
  },
  {
   "cell_type": "markdown",
   "source": [
    "## string"
   ],
   "metadata": {
    "tags": []
   }
  },
  {
   "cell_type": "code",
   "execution_count": null,
   "source": [
    "'this is a string'"
   ],
   "outputs": [],
   "metadata": {}
  },
  {
   "cell_type": "code",
   "execution_count": null,
   "source": [
    "\"this is a string\""
   ],
   "outputs": [],
   "metadata": {}
  },
  {
   "cell_type": "code",
   "execution_count": null,
   "source": [
    "'\\'MCI\\' stands for...'"
   ],
   "outputs": [],
   "metadata": {}
  },
  {
   "cell_type": "code",
   "execution_count": null,
   "source": [
    "\"\\\"MCI\\\" stands for...\""
   ],
   "outputs": [],
   "metadata": {}
  },
  {
   "cell_type": "code",
   "execution_count": null,
   "source": [
    "print(r'C:\\Program Files')  # raw-string"
   ],
   "outputs": [],
   "metadata": {}
  },
  {
   "cell_type": "code",
   "execution_count": null,
   "source": [
    "print(r'C:\\new Folder')"
   ],
   "outputs": [],
   "metadata": {}
  },
  {
   "cell_type": "code",
   "execution_count": null,
   "source": [
    "print(r'C:\\tProgram \\nFiles')  # \\t = tab, \\n = newline, \\ = escape"
   ],
   "outputs": [],
   "metadata": {}
  },
  {
   "cell_type": "code",
   "execution_count": null,
   "source": [
    "print('\\tABC')"
   ],
   "outputs": [],
   "metadata": {}
  },
  {
   "cell_type": "code",
   "execution_count": null,
   "source": [
    "print('C:\\\\Users/') \n",
    "print(r'C:\\Users/')  # raw-string"
   ],
   "outputs": [],
   "metadata": {}
  },
  {
   "cell_type": "code",
   "execution_count": null,
   "source": [
    "print('C:\\Users/')  # error!"
   ],
   "outputs": [],
   "metadata": {}
  },
  {
   "cell_type": "markdown",
   "source": [
    "#### In ra đường dẫn của thư mục đang làm việc (của Jupyter)"
   ],
   "metadata": {}
  },
  {
   "cell_type": "code",
   "execution_count": null,
   "source": [
    "%pwd   # pwd = print working directory"
   ],
   "outputs": [],
   "metadata": {}
  },
  {
   "cell_type": "markdown",
   "source": [
    "### `f-string`"
   ],
   "metadata": {
    "tags": []
   }
  },
  {
   "cell_type": "code",
   "execution_count": null,
   "source": [
    "f'1 + 1 = {...}'"
   ],
   "outputs": [],
   "metadata": {}
  },
  {
   "cell_type": "code",
   "execution_count": null,
   "source": [
    "A = 1\n",
    "print(f'A is {...}')"
   ],
   "outputs": [],
   "metadata": {}
  },
  {
   "cell_type": "code",
   "execution_count": null,
   "source": [
    "a, b = 100, 2\n",
    "f'sum of {...=} and {...=} is {...=}'"
   ],
   "outputs": [],
   "metadata": {}
  },
  {
   "cell_type": "markdown",
   "source": [
    "### `doc-string`"
   ],
   "metadata": {
    "tags": []
   }
  },
  {
   "cell_type": "code",
   "execution_count": null,
   "source": [
    "s = '''\n",
    "jfalskdj\\tflasjdkf\n",
    "jfa;lsdjf;lasdkjfljfl;j\n",
    "fjalsdjflsdjfjf\n",
    "'''  # doc-string\n",
    "\n",
    "print(s)"
   ],
   "outputs": [],
   "metadata": {}
  },
  {
   "cell_type": "code",
   "execution_count": null,
   "source": [
    "name = 'Nguyen Van A'\n",
    "\n",
    "email = f'''\n",
    "Dear {...},\n",
    "ladsjflajs\n",
    "fajsl;fjsdf\n",
    "Best regards,\n",
    "'''\n",
    "\n",
    "print(email)"
   ],
   "outputs": [],
   "metadata": {}
  },
  {
   "cell_type": "markdown",
   "source": [
    "## string methods\n",
    "\n",
    "`upper`, `lower`, `capitalize`, `split`, `replace`, `startswith`, `strip`, `find`, `join`"
   ],
   "metadata": {}
  },
  {
   "cell_type": "code",
   "execution_count": null,
   "source": [
    "print('input string')   # function"
   ],
   "outputs": [],
   "metadata": {}
  },
  {
   "cell_type": "code",
   "execution_count": null,
   "source": [
    "'this is a string'.upper()  # method"
   ],
   "outputs": [],
   "metadata": {}
  },
  {
   "cell_type": "code",
   "execution_count": null,
   "source": [
    "s = 'this is a string'\n",
    "\n",
    "s.upper()"
   ],
   "outputs": [],
   "metadata": {}
  },
  {
   "cell_type": "code",
   "execution_count": null,
   "source": [
    "'AaAa'.lower()"
   ],
   "outputs": [],
   "metadata": {}
  },
  {
   "cell_type": "code",
   "execution_count": null,
   "source": [
    "s = 'this iS a string'\n",
    "\n",
    "s.upper().lower().capitalize()"
   ],
   "outputs": [],
   "metadata": {}
  },
  {
   "cell_type": "code",
   "execution_count": null,
   "source": [
    "'11a'.isnumeric()"
   ],
   "outputs": [],
   "metadata": {}
  },
  {
   "cell_type": "code",
   "execution_count": null,
   "source": [
    "'11'.isnumeric()"
   ],
   "outputs": [],
   "metadata": {}
  },
  {
   "cell_type": "code",
   "execution_count": null,
   "source": [
    "'AAA'.isupper()"
   ],
   "outputs": [],
   "metadata": {}
  },
  {
   "cell_type": "code",
   "execution_count": null,
   "source": [
    "s.capitalize()"
   ],
   "outputs": [],
   "metadata": {}
  },
  {
   "cell_type": "markdown",
   "source": [
    "---"
   ],
   "metadata": {}
  },
  {
   "cell_type": "code",
   "execution_count": null,
   "source": [
    "s = 'this-is-a-string'"
   ],
   "outputs": [],
   "metadata": {}
  },
  {
   "cell_type": "code",
   "execution_count": null,
   "source": [
    "s.split('-')"
   ],
   "outputs": [],
   "metadata": {}
  },
  {
   "cell_type": "markdown",
   "source": [
    "### Custom delimiter splitting"
   ],
   "metadata": {}
  },
  {
   "cell_type": "code",
   "execution_count": null,
   "source": [
    "s = 'this@is@a@string'\n",
    "\n",
    "s.split('@')"
   ],
   "outputs": [],
   "metadata": {}
  },
  {
   "cell_type": "code",
   "execution_count": null,
   "source": [
    "s = 'my name is A'\n",
    "s.split(' is ')"
   ],
   "outputs": [],
   "metadata": {}
  },
  {
   "cell_type": "markdown",
   "source": [
    "---"
   ],
   "metadata": {}
  },
  {
   "cell_type": "code",
   "execution_count": null,
   "source": [
    "s + s"
   ],
   "outputs": [],
   "metadata": {}
  },
  {
   "cell_type": "code",
   "execution_count": null,
   "source": [
    "s + ' -- ' + s"
   ],
   "outputs": [],
   "metadata": {}
  },
  {
   "cell_type": "code",
   "execution_count": null,
   "source": [
    "s*4"
   ],
   "outputs": [],
   "metadata": {}
  },
  {
   "cell_type": "code",
   "execution_count": null,
   "source": [
    "'---'*30"
   ],
   "outputs": [],
   "metadata": {}
  },
  {
   "cell_type": "code",
   "execution_count": null,
   "source": [
    "s = 'this is a string and string'\n",
    "s.replace('string', 'StRiNg')"
   ],
   "outputs": [],
   "metadata": {}
  },
  {
   "cell_type": "code",
   "execution_count": null,
   "source": [
    "s.startswith('this')"
   ],
   "outputs": [],
   "metadata": {}
  },
  {
   "cell_type": "code",
   "execution_count": null,
   "source": [
    "s.startswith('that')"
   ],
   "outputs": [],
   "metadata": {}
  },
  {
   "cell_type": "code",
   "execution_count": null,
   "source": [
    "s.endswith('ing')"
   ],
   "outputs": [],
   "metadata": {}
  },
  {
   "cell_type": "code",
   "execution_count": null,
   "source": [
    "'a' in s"
   ],
   "outputs": [],
   "metadata": {}
  },
  {
   "cell_type": "code",
   "execution_count": null,
   "source": [
    "'z' in s"
   ],
   "outputs": [],
   "metadata": {}
  },
  {
   "cell_type": "code",
   "execution_count": null,
   "source": [
    "s = '  this is a string     '\n",
    "s, s.strip(), s.lstrip(), s.rstrip()"
   ],
   "outputs": [],
   "metadata": {}
  },
  {
   "cell_type": "code",
   "execution_count": null,
   "source": [
    "s.strip().find(' a ')"
   ],
   "outputs": [],
   "metadata": {}
  },
  {
   "cell_type": "code",
   "execution_count": null,
   "source": [
    "s = 'abcd'\n",
    "s[2:2+2]  # [2:2+2]  [2:4]   [a, b)"
   ],
   "outputs": [],
   "metadata": {}
  },
  {
   "cell_type": "code",
   "execution_count": null,
   "source": [
    "s = 'this is a string'\n",
    "s[7:7+3], s[7:10], s[7:7+5]"
   ],
   "outputs": [],
   "metadata": {}
  },
  {
   "cell_type": "code",
   "execution_count": null,
   "source": [
    "from string import ascii_uppercase\n",
    "\n",
    "ascii_uppercase, list(ascii_uppercase)"
   ],
   "outputs": [],
   "metadata": {}
  },
  {
   "cell_type": "code",
   "execution_count": null,
   "source": [
    "' --- '.join(list(ascii_uppercase))"
   ],
   "outputs": [],
   "metadata": {}
  },
  {
   "cell_type": "code",
   "execution_count": null,
   "source": [
    "'\\t'.join(list(ascii_uppercase))"
   ],
   "outputs": [],
   "metadata": {}
  },
  {
   "cell_type": "code",
   "execution_count": null,
   "source": [
    "print('\\t'.join(list(ascii_uppercase)))"
   ],
   "outputs": [],
   "metadata": {}
  },
  {
   "cell_type": "code",
   "execution_count": null,
   "source": [
    "len(s)"
   ],
   "outputs": [],
   "metadata": {}
  },
  {
   "cell_type": "markdown",
   "source": [
    "## slicing"
   ],
   "metadata": {}
  },
  {
   "cell_type": "code",
   "execution_count": null,
   "source": [
    "s = 'this is a string'\n",
    "s"
   ],
   "outputs": [],
   "metadata": {}
  },
  {
   "cell_type": "code",
   "execution_count": null,
   "source": [
    "s[0], s[-1]"
   ],
   "outputs": [],
   "metadata": {}
  },
  {
   "cell_type": "code",
   "execution_count": null,
   "source": [
    "s[:4]"
   ],
   "outputs": [],
   "metadata": {}
  },
  {
   "cell_type": "code",
   "execution_count": null,
   "source": [
    "s[-6:]"
   ],
   "outputs": [],
   "metadata": {}
  },
  {
   "cell_type": "code",
   "execution_count": null,
   "source": [
    "s[5:5+2]"
   ],
   "outputs": [],
   "metadata": {}
  },
  {
   "cell_type": "code",
   "execution_count": null,
   "source": [
    "s[6:6+5] == 's a s'"
   ],
   "outputs": [],
   "metadata": {}
  },
  {
   "cell_type": "markdown",
   "source": [
    "---"
   ],
   "metadata": {}
  },
  {
   "cell_type": "code",
   "execution_count": null,
   "source": [
    "s = 'this is a string'\n",
    "s[::2]"
   ],
   "outputs": [],
   "metadata": {}
  },
  {
   "cell_type": "code",
   "execution_count": null,
   "source": [
    "s[::-1]"
   ],
   "outputs": [],
   "metadata": {}
  },
  {
   "cell_type": "markdown",
   "source": [
    "### Lấy tên trường ra khỏi string bằng 2 cách"
   ],
   "metadata": {}
  },
  {
   "cell_type": "code",
   "execution_count": null,
   "source": [
    "s = 'School = Riverdale High'"
   ],
   "outputs": [],
   "metadata": {
    "tags": []
   }
  },
  {
   "cell_type": "code",
   "execution_count": null,
   "source": [
    "# use indices\n",
    "s[...:...] == 'Riverdale High'"
   ],
   "outputs": [],
   "metadata": {}
  },
  {
   "cell_type": "code",
   "execution_count": null,
   "source": [
    "# use .find()\n",
    "start = ...\n",
    "length = ...\n",
    "s[start:start+length]"
   ],
   "outputs": [],
   "metadata": {}
  },
  {
   "cell_type": "markdown",
   "source": [
    "### Lấy thông tin \"review/text\" bằng 2 cách"
   ],
   "metadata": {}
  },
  {
   "cell_type": "code",
   "execution_count": null,
   "source": [
    "s = '''\n",
    "product/productId: B003AI2VGA\n",
    "review/userId: AQJVNDW6YZFQS\n",
    "review/profileName: Charles R. Williams\n",
    "review/helpfulness: 3/11\n",
    "review/score: 1.0\n",
    "review/time: 1164153600\n",
    "review/summary: This is junk, stay away\n",
    "review/text: Mexican men are macho rapists, gangsters or ineffective bureaucrats. Mexican women are semi-pagan, pious fools. There are self-serving corporate types and even a pushy, culturally-insensitive liberal female reporter.<br /><br />The story is absurd, the characters are unbelievable, the stereotypes are offensive.\n",
    "'''"
   ],
   "outputs": [],
   "metadata": {}
  },
  {
   "cell_type": "code",
   "execution_count": null,
   "source": [
    "# use .find()"
   ],
   "outputs": [],
   "metadata": {}
  },
  {
   "cell_type": "markdown",
   "source": [
    "---"
   ],
   "metadata": {}
  },
  {
   "cell_type": "code",
   "execution_count": null,
   "source": [
    "# use .split()"
   ],
   "outputs": [],
   "metadata": {}
  },
  {
   "cell_type": "markdown",
   "source": [
    "---"
   ],
   "metadata": {}
  },
  {
   "cell_type": "markdown",
   "source": [
    "## list"
   ],
   "metadata": {}
  },
  {
   "cell_type": "code",
   "execution_count": null,
   "source": [
    "a = [1,2,3]\n",
    "b = [4,5,6]"
   ],
   "outputs": [],
   "metadata": {}
  },
  {
   "cell_type": "code",
   "execution_count": null,
   "source": [
    "b"
   ],
   "outputs": [],
   "metadata": {}
  },
  {
   "cell_type": "code",
   "execution_count": null,
   "source": [
    "a + b"
   ],
   "outputs": [],
   "metadata": {}
  },
  {
   "cell_type": "code",
   "execution_count": null,
   "source": [
    "A = a + b\n",
    "A.append(123)\n",
    "A"
   ],
   "outputs": [],
   "metadata": {}
  },
  {
   "cell_type": "code",
   "execution_count": null,
   "source": [
    "A.append('aaabbb')\n",
    "A"
   ],
   "outputs": [],
   "metadata": {}
  },
  {
   "cell_type": "code",
   "execution_count": null,
   "source": [
    "A[0]"
   ],
   "outputs": [],
   "metadata": {}
  },
  {
   "cell_type": "code",
   "execution_count": null,
   "source": [
    "A[:4]"
   ],
   "outputs": [],
   "metadata": {}
  },
  {
   "cell_type": "code",
   "execution_count": null,
   "source": [
    "A[-3:]"
   ],
   "outputs": [],
   "metadata": {}
  },
  {
   "cell_type": "code",
   "execution_count": null,
   "source": [
    "A.pop()\n",
    "A"
   ],
   "outputs": [],
   "metadata": {}
  },
  {
   "cell_type": "code",
   "execution_count": null,
   "source": [
    "A, sorted(A, reverse=True)"
   ],
   "outputs": [],
   "metadata": {}
  },
  {
   "cell_type": "code",
   "execution_count": null,
   "source": [
    "A[::-1]"
   ],
   "outputs": [],
   "metadata": {}
  },
  {
   "cell_type": "code",
   "execution_count": null,
   "source": [
    "A[::2]"
   ],
   "outputs": [],
   "metadata": {}
  },
  {
   "cell_type": "code",
   "execution_count": null,
   "source": [
    "A[1::2]"
   ],
   "outputs": [],
   "metadata": {}
  },
  {
   "cell_type": "code",
   "execution_count": null,
   "source": [
    "A"
   ],
   "outputs": [],
   "metadata": {}
  },
  {
   "cell_type": "code",
   "execution_count": null,
   "source": [
    "del A[1]\n",
    "A"
   ],
   "outputs": [],
   "metadata": {}
  },
  {
   "cell_type": "code",
   "execution_count": null,
   "source": [
    "A.remove(4)\n",
    "A"
   ],
   "outputs": [],
   "metadata": {}
  },
  {
   "cell_type": "code",
   "execution_count": null,
   "source": [
    "A.insert(0, 'new')\n",
    "A"
   ],
   "outputs": [],
   "metadata": {}
  },
  {
   "cell_type": "markdown",
   "source": [
    "## set"
   ],
   "metadata": {}
  },
  {
   "cell_type": "code",
   "execution_count": null,
   "source": [
    "a = [1,1,2,2,3,3,4,4,4]\n",
    "a"
   ],
   "outputs": [],
   "metadata": {}
  },
  {
   "cell_type": "code",
   "execution_count": null,
   "source": [
    "a = [1,1,2,2,3,3,4,4,4]\n",
    "S = set(a)\n",
    "S"
   ],
   "outputs": [],
   "metadata": {}
  },
  {
   "cell_type": "code",
   "execution_count": null,
   "source": [
    "list(set(a))"
   ],
   "outputs": [],
   "metadata": {}
  },
  {
   "cell_type": "markdown",
   "source": [
    "## loop"
   ],
   "metadata": {}
  },
  {
   "cell_type": "code",
   "execution_count": null,
   "source": [
    "range(10)"
   ],
   "outputs": [],
   "metadata": {}
  },
  {
   "cell_type": "code",
   "execution_count": null,
   "source": [
    "list(range(0, 10))"
   ],
   "outputs": [],
   "metadata": {}
  },
  {
   "cell_type": "code",
   "execution_count": null,
   "source": [
    "for ... in ...:\n",
    "    print(f'{...} + 1 = {... + 1}')"
   ],
   "outputs": [],
   "metadata": {}
  },
  {
   "cell_type": "code",
   "execution_count": null,
   "source": [
    "a = [3,4,6,1,5,6]\n",
    "\n",
    "for ... in ...:\n",
    "    print(i**2)\n",
    "    print('--'*10)"
   ],
   "outputs": [],
   "metadata": {}
  },
  {
   "cell_type": "code",
   "execution_count": null,
   "source": [
    "for ... in range(20):\n",
    "    if not i % 2 == 0:    # i % 2 != 0\n",
    "        print(i)"
   ],
   "outputs": [],
   "metadata": {}
  },
  {
   "cell_type": "code",
   "execution_count": null,
   "source": [
    "a = [3,4,6,1,5,6]\n",
    "\n",
    "for ... in ...:\n",
    "    if i % 2 == 0:\n",
    "        print(i)"
   ],
   "outputs": [],
   "metadata": {}
  },
  {
   "cell_type": "markdown",
   "source": [
    "## list comprehension"
   ],
   "metadata": {}
  },
  {
   "cell_type": "code",
   "execution_count": null,
   "source": [
    "a = [1,2,3,4]\n",
    "[... for ... in ...]"
   ],
   "outputs": [],
   "metadata": {}
  },
  {
   "cell_type": "code",
   "execution_count": null,
   "source": [
    "[... for ... in range(5)]"
   ],
   "outputs": [],
   "metadata": {}
  },
  {
   "cell_type": "code",
   "execution_count": null,
   "source": [
    "a = [1,2,3,4,5]\n",
    "\n",
    "[i for i in ... if ...]   # even numbers only"
   ],
   "outputs": [],
   "metadata": {}
  },
  {
   "cell_type": "markdown",
   "source": [
    "---"
   ],
   "metadata": {}
  },
  {
   "cell_type": "code",
   "execution_count": null,
   "source": [
    "a = [2,4,67,6,3,5]\n",
    "\n",
    "[str(i) for i in a if ...]  # > 5 only"
   ],
   "outputs": [],
   "metadata": {}
  },
  {
   "cell_type": "code",
   "execution_count": null,
   "source": [
    "[... for i in a if ...]  # apply a calculation on i"
   ],
   "outputs": [],
   "metadata": {}
  },
  {
   "cell_type": "code",
   "execution_count": null,
   "source": [
    "A = []\n",
    "\n",
    "for i in a:\n",
    "    if i > 5:\n",
    "        A.append(i % 2)\n",
    "A        "
   ],
   "outputs": [],
   "metadata": {}
  },
  {
   "cell_type": "markdown",
   "source": [
    "## dict (dictionary)\n",
    "`keys`, `values`, `items`, `update`"
   ],
   "metadata": {}
  },
  {
   "cell_type": "code",
   "execution_count": null,
   "source": [
    "d = {'a': 'this is a', \n",
    "     'b': 'this is b'}  # key - value // hashmap"
   ],
   "outputs": [],
   "metadata": {}
  },
  {
   "cell_type": "code",
   "execution_count": null,
   "source": [
    "d['a']"
   ],
   "outputs": [],
   "metadata": {}
  },
  {
   "cell_type": "code",
   "execution_count": null,
   "source": [
    "d['b']"
   ],
   "outputs": [],
   "metadata": {}
  },
  {
   "cell_type": "code",
   "execution_count": null,
   "source": [
    "d = {\n",
    "    'a': 1, \n",
    "    'b': 2,\n",
    "    (1,2,3): 'my tuple',\n",
    "    2: [1,2,3,4,5]\n",
    "}\n",
    "\n",
    "d... == 5"
   ],
   "outputs": [],
   "metadata": {}
  },
  {
   "cell_type": "code",
   "execution_count": null,
   "source": [
    "d... == 'my tuple'"
   ],
   "outputs": [],
   "metadata": {}
  },
  {
   "cell_type": "code",
   "execution_count": null,
   "source": [
    "d... == 'tuple'"
   ],
   "outputs": [],
   "metadata": {}
  },
  {
   "cell_type": "code",
   "execution_count": null,
   "source": [
    "# Example 1\n",
    "d = {\n",
    "    'id': [1,2,3,4],\n",
    "    'name': ['a', 'b', 'c', 'null']\n",
    "}"
   ],
   "outputs": [],
   "metadata": {}
  },
  {
   "cell_type": "code",
   "execution_count": null,
   "source": [
    "# Example 2\n",
    "student = {\n",
    "    'a': {\n",
    "        'name': ...,\n",
    "        'age': ...,\n",
    "    },\n",
    "    'b': {\n",
    "        'address': {\n",
    "            'city': ...,\n",
    "            'country': ...,\n",
    "        },\n",
    "    }\n",
    "}"
   ],
   "outputs": [],
   "metadata": {}
  },
  {
   "cell_type": "code",
   "execution_count": null,
   "source": [
    "# Example 3\n",
    "clients = {\n",
    "    '123bcd91': [...]\n",
    "}"
   ],
   "outputs": [],
   "metadata": {}
  },
  {
   "cell_type": "code",
   "execution_count": null,
   "source": [
    "d.keys()"
   ],
   "outputs": [],
   "metadata": {}
  },
  {
   "cell_type": "code",
   "execution_count": null,
   "source": [
    "d.values()"
   ],
   "outputs": [],
   "metadata": {}
  },
  {
   "cell_type": "code",
   "execution_count": null,
   "source": [
    "for ..., ... in d.items():\n",
    "    print(f\"{key} -- {value}\")"
   ],
   "outputs": [],
   "metadata": {}
  },
  {
   "cell_type": "code",
   "execution_count": null,
   "source": [
    "for ..., ... in d.items():\n",
    "    print(f\"{k} -- {v}\")"
   ],
   "outputs": [],
   "metadata": {}
  },
  {
   "cell_type": "code",
   "execution_count": null,
   "source": [
    "d_1 = {'a': 1, 'b': 2}\n",
    "d_2 = {'c': 3, 'd': 4}\n",
    "\n",
    "d_1.update(d_2)\n",
    "d_1"
   ],
   "outputs": [],
   "metadata": {}
  },
  {
   "cell_type": "code",
   "execution_count": null,
   "source": [
    "'a' in d_1"
   ],
   "outputs": [],
   "metadata": {}
  },
  {
   "cell_type": "code",
   "execution_count": null,
   "source": [
    "d_1['a']"
   ],
   "outputs": [],
   "metadata": {}
  },
  {
   "cell_type": "code",
   "execution_count": null,
   "source": [
    "'z' in d_1"
   ],
   "outputs": [],
   "metadata": {}
  },
  {
   "cell_type": "code",
   "execution_count": null,
   "source": [
    "d_1['z']  # 'z' is not in d_1"
   ],
   "outputs": [],
   "metadata": {}
  },
  {
   "cell_type": "markdown",
   "source": [
    "### Tách string thành dictionary chứa các thông tin tương ứng."
   ],
   "metadata": {}
  },
  {
   "cell_type": "code",
   "execution_count": null,
   "source": [
    "s = '''\n",
    "product/productId: B003AI2VGA\n",
    "review/userId: AQJVNDW6YZFQS\n",
    "review/profileName: Charles R. Williams\n",
    "review/helpfulness: 3/11\n",
    "review/score: 1.0\n",
    "review/time: 1164153600\n",
    "review/summary: This is junk, stay away\n",
    "review/text: Mexican men are macho rapists, gangsters or ineffective bureaucrats. Mexican women are semi-pagan, pious fools. There are self-serving corporate types and even a pushy, culturally-insensitive liberal female reporter.<br /><br />The story is absurd, the characters are unbelievable, the stereotypes are offensive.\n",
    "'''"
   ],
   "outputs": [],
   "metadata": {}
  },
  {
   "cell_type": "code",
   "execution_count": null,
   "source": [
    "lines = [line for line in ... if line.strip()]\n",
    "lines"
   ],
   "outputs": [],
   "metadata": {}
  },
  {
   "cell_type": "code",
   "execution_count": null,
   "source": [
    "line = lines[0]\n",
    "line"
   ],
   "outputs": [],
   "metadata": {}
  },
  {
   "cell_type": "code",
   "execution_count": null,
   "source": [
    "lines = [line for line in ... if ...]\n",
    "\n",
    "d = {}\n",
    "\n",
    "for line in lines:\n",
    "    line = line.split(': ')\n",
    "    d.update({...: ...})\n",
    "    \n",
    "d "
   ],
   "outputs": [],
   "metadata": {}
  },
  {
   "cell_type": "code",
   "execution_count": null,
   "source": [
    "d['review/time']"
   ],
   "outputs": [],
   "metadata": {}
  },
  {
   "cell_type": "markdown",
   "source": [
    "# Conditional"
   ],
   "metadata": {
    "tags": []
   }
  },
  {
   "cell_type": "markdown",
   "source": [
    "### Phân loại học sinh\n",
    "- Nếu điểm dưới 5 => trung bình.\n",
    "- Nếu từ 5 đến dưới 8 => khá.\n",
    "- Nếu từ 8 đến dưới 9 => giỏi.\n",
    "- Nếu trên 9 => xuất sắc."
   ],
   "metadata": {
    "tags": []
   }
  },
  {
   "cell_type": "code",
   "execution_count": null,
   "source": [
    "score = 11.5\n",
    "\n",
    "if ...:\n",
    "    print('trung binh')\n",
    "elif ...:\n",
    "    print('kha')\n",
    "elif ...:\n",
    "    print('gioi')\n",
    "elif ...:\n",
    "    print('xuat sac')\n",
    "else:\n",
    "    print('diem sai')"
   ],
   "outputs": [],
   "metadata": {}
  },
  {
   "cell_type": "markdown",
   "source": [
    "### Một game đơn giản với \"if - else\"\n",
    "- Chọn một cửa trong ba cửa.\n",
    "- Nếu chọn cửa 1 => cửa may mắn. Chọn thêm phần quà 1 hoặc 2. Nếu chọn 1 => xe hơi, nếu chọn 2 => xe đồ chơi.\n",
    "- Nếu chọn cửa 2 hoặc 3 => thua trò chơi."
   ],
   "metadata": {
    "tags": []
   }
  },
  {
   "cell_type": "code",
   "execution_count": null,
   "source": [],
   "outputs": [],
   "metadata": {}
  },
  {
   "cell_type": "markdown",
   "source": [
    "### Full program"
   ],
   "metadata": {}
  },
  {
   "cell_type": "code",
   "execution_count": null,
   "source": [
    "choice = input('Let me know your choice:')\n",
    "choice = int(choice)\n",
    "\n",
    "if choice not in [1, 2, 3]:\n",
    "    print('Hey, there are only door 1, 2 or 3!')\n",
    "\n",
    "if choice == 1:\n",
    "    print('Hey, you\\'re lucky!')\n",
    "    print(\"Let's choose the prize.\")\n",
    "    prize_choice = int(input('Which one would you want? 1 or 2?'))\n",
    "\n",
    "    if prize_choice == 1:\n",
    "        print('Wow, you got a car!')\n",
    "    elif prize_choice == 2:\n",
    "        print('Wow, you got a toy car!')\n",
    "    else:\n",
    "        print('Hey, choose 1 or 2 only!')\n",
    "if choice == 2:\n",
    "    print(\"Hehe, bad luck! I'll take all your money!\")\n",
    "if choice == 3:\n",
    "    print(\"Hehe, bad luck! I'll take all your money and your soul!\")"
   ],
   "outputs": [],
   "metadata": {
    "jupyter": {
     "source_hidden": true
    },
    "tags": []
   }
  },
  {
   "cell_type": "markdown",
   "source": [
    "### Randomness!"
   ],
   "metadata": {}
  },
  {
   "cell_type": "code",
   "execution_count": null,
   "source": [
    "import random\n",
    "\n",
    "choice = random.randint(1, 3)   # <-- changed here!\n",
    "\n",
    "if choice not in [1, 2, 3]:\n",
    "    print('Hey, there are only door 1, 2 or 3!')\n",
    "\n",
    "if choice == 1:\n",
    "    print('Hey, you\\'re lucky!')\n",
    "    print(\"Let's choose the prize.\")\n",
    "    prize_choice = int(input('Which one would you want? 1 or 2?'))\n",
    "\n",
    "    if prize_choice == 1:\n",
    "        print('Wow, you got a car!')\n",
    "    elif prize_choice == 2:\n",
    "        print('Wow, you got a toy car!')\n",
    "    else:\n",
    "        print('Hey, choose 1 or 2 only!')\n",
    "if choice == 2:\n",
    "    print(\"Hehe, bad luck! I'll take all your money!\")\n",
    "if choice == 3:\n",
    "    print(\"Hehe, bad luck! I'll take all your money and your soul!\")"
   ],
   "outputs": [],
   "metadata": {
    "jupyter": {
     "source_hidden": true
    },
    "tags": []
   }
  },
  {
   "cell_type": "markdown",
   "source": [
    "# Loop"
   ],
   "metadata": {
    "tags": []
   }
  },
  {
   "cell_type": "markdown",
   "source": [
    "## The gambler\n",
    "- Chọn một số.\n",
    "- Nếu số đó nằm trong 1 list 10 số (ngẫu nhiên cho trước) => thắng, nếu không thì thua."
   ],
   "metadata": {
    "tags": []
   }
  },
  {
   "cell_type": "code",
   "execution_count": null,
   "source": [],
   "outputs": [],
   "metadata": {}
  },
  {
   "cell_type": "markdown",
   "source": [
    "## Full program"
   ],
   "metadata": {
    "tags": []
   }
  },
  {
   "cell_type": "code",
   "execution_count": null,
   "source": [
    "from random import randint\n",
    "\n",
    "n = 10\n",
    "numbers = [randint(1, 10) for _ in range(n)]\n",
    "choice = int(input('Show me your choice:'))\n",
    "\n",
    "if choice in numbers:\n",
    "    print('Lucky you!')\n",
    "else:\n",
    "    print('Not this time buddy.')"
   ],
   "outputs": [],
   "metadata": {
    "jupyter": {
     "source_hidden": true
    },
    "tags": []
   }
  },
  {
   "cell_type": "markdown",
   "source": [
    "## The gambler 2.0\n",
    "- Chọn một số và 1 cửa, mỗi cửa sẽ là một list chứa các số ngẫu nhiên.\n",
    "- Nếu số nằm trong cửa đã chọn => thắng."
   ],
   "metadata": {
    "tags": []
   }
  },
  {
   "cell_type": "code",
   "execution_count": null,
   "source": [],
   "outputs": [],
   "metadata": {}
  },
  {
   "cell_type": "code",
   "execution_count": null,
   "source": [
    "from random import randint\n",
    "\n",
    "n = 10\n",
    "numbers_1 = \n",
    "numbers_2 = [randint(1, 10) for _ in range(n)]\n",
    "numbers_3 = [randint(1, 10) for _ in range(n)]"
   ],
   "outputs": [],
   "metadata": {
    "jupyter": {
     "source_hidden": true
    },
    "tags": []
   }
  },
  {
   "cell_type": "code",
   "execution_count": null,
   "source": [
    "numbers = []\n",
    "\n",
    "for i in range(3):\n",
    "    numbers.append([randint(1, 10) for _ in range(n)])\n",
    "\n",
    "numbers"
   ],
   "outputs": [],
   "metadata": {
    "jupyter": {
     "source_hidden": true
    },
    "tags": []
   }
  },
  {
   "cell_type": "code",
   "execution_count": null,
   "source": [
    "choice = int(input('Let me know your choice:'))\n",
    "door = int(input('Which door?')) - 1"
   ],
   "outputs": [],
   "metadata": {
    "jupyter": {
     "source_hidden": true
    },
    "tags": []
   }
  },
  {
   "cell_type": "code",
   "execution_count": null,
   "source": [
    "if door not in [0, 1, 2]:\n",
    "    print('Door should be 1, 2 or 3!')"
   ],
   "outputs": [],
   "metadata": {
    "jupyter": {
     "source_hidden": true
    },
    "tags": []
   }
  },
  {
   "cell_type": "code",
   "execution_count": null,
   "source": [
    "if choice in numbers[door]:\n",
    "    print('Congrats! You won!')\n",
    "else:\n",
    "    print('Hmm... You lost.')"
   ],
   "outputs": [],
   "metadata": {
    "jupyter": {
     "source_hidden": true
    },
    "tags": []
   }
  },
  {
   "cell_type": "markdown",
   "source": [
    "## Full program"
   ],
   "metadata": {
    "heading_collapsed": "true",
    "tags": []
   }
  },
  {
   "cell_type": "code",
   "execution_count": null,
   "source": [
    "from random import randint\n",
    "\n",
    "n = 10\n",
    "numbers = []\n",
    "\n",
    "for i in range(3):\n",
    "    numbers.append([randint(1, 10) for _ in range(n)])\n",
    "\n",
    "choice = int(input('Let me know your choice:'))\n",
    "door = int(input('Which door?'))\n",
    "\n",
    "if door not in [1, 2, 3]:\n",
    "    print('Door should be 1, 2 or 3!')\n",
    "\n",
    "if choice in numbers[door - 1]:\n",
    "    print('Congrats! You won!')\n",
    "else:\n",
    "    print('Hmm... You lost.')"
   ],
   "outputs": [],
   "metadata": {
    "jupyter": {
     "source_hidden": true
    },
    "tags": []
   }
  },
  {
   "cell_type": "markdown",
   "source": [
    "# User defined functions (UDF)"
   ],
   "metadata": {
    "tags": []
   }
  },
  {
   "cell_type": "markdown",
   "source": [
    "## Syntax"
   ],
   "metadata": {}
  },
  {
   "cell_type": "markdown",
   "source": [
    "### Define functions with `def`"
   ],
   "metadata": {}
  },
  {
   "cell_type": "code",
   "execution_count": null,
   "source": [
    "def ...(...):\n",
    "    ...\n",
    "    return ..."
   ],
   "outputs": [],
   "metadata": {}
  },
  {
   "cell_type": "code",
   "execution_count": null,
   "source": [
    "def square(...):\n",
    "    out = ...**2\n",
    "    return out"
   ],
   "outputs": [],
   "metadata": {}
  },
  {
   "cell_type": "code",
   "execution_count": null,
   "source": [
    "def square(...):\n",
    "    return ..."
   ],
   "outputs": [],
   "metadata": {}
  },
  {
   "cell_type": "code",
   "execution_count": null,
   "source": [
    "# Compute sum of multiple items\n",
    "def sum_func(...):\n",
    "    return ..."
   ],
   "outputs": [],
   "metadata": {}
  },
  {
   "cell_type": "code",
   "execution_count": null,
   "source": [
    "# Compute sum of n random items of a list\n",
    "def sum_random(..., n=...):\n",
    "    return ..."
   ],
   "outputs": [],
   "metadata": {}
  },
  {
   "cell_type": "markdown",
   "source": [
    "### Define functions with `lambda`"
   ],
   "metadata": {}
  },
  {
   "cell_type": "code",
   "execution_count": null,
   "source": [
    "square = lambda x: x**2\n",
    "square(5)"
   ],
   "outputs": [],
   "metadata": {}
  },
  {
   "cell_type": "code",
   "execution_count": null,
   "source": [
    "f = lambda x: 2*x \n",
    "f(5)"
   ],
   "outputs": [],
   "metadata": {}
  },
  {
   "cell_type": "code",
   "execution_count": null,
   "source": [
    "f = lambda x,y: 2*x*y\n",
    "f(10,5)"
   ],
   "outputs": [],
   "metadata": {}
  },
  {
   "cell_type": "code",
   "execution_count": null,
   "source": [
    "(lambda x: x**2)(2)"
   ],
   "outputs": [],
   "metadata": {}
  },
  {
   "cell_type": "code",
   "execution_count": null,
   "source": [
    "(lambda x: x**2)(3)"
   ],
   "outputs": [],
   "metadata": {}
  },
  {
   "cell_type": "code",
   "execution_count": null,
   "source": [
    "def apply(f, a):\n",
    "    return [...(n) for n in ...]\n",
    "\n",
    "apply(lambda x: x**2, [1,2,3,10])"
   ],
   "outputs": [],
   "metadata": {}
  },
  {
   "cell_type": "code",
   "execution_count": null,
   "source": [
    "out = map(lambda x: ..., [...])\n",
    "out"
   ],
   "outputs": [],
   "metadata": {}
  },
  {
   "cell_type": "code",
   "execution_count": null,
   "source": [
    "list(out)"
   ],
   "outputs": [],
   "metadata": {}
  },
  {
   "cell_type": "markdown",
   "source": [
    "## keyword argument"
   ],
   "metadata": {}
  },
  {
   "cell_type": "code",
   "execution_count": null,
   "source": [
    "def f(x):\n",
    "    a = ...\n",
    "    return a*x\n",
    "\n",
    "f(...)"
   ],
   "outputs": [],
   "metadata": {}
  },
  {
   "cell_type": "code",
   "execution_count": null,
   "source": [
    "def f(x, a=...):\n",
    "    return a*x\n",
    "\n",
    "f(..., a=...)"
   ],
   "outputs": [],
   "metadata": {}
  },
  {
   "cell_type": "code",
   "execution_count": null,
   "source": [
    "x = 5\n",
    "f(..., a=...)"
   ],
   "outputs": [],
   "metadata": {}
  },
  {
   "cell_type": "code",
   "execution_count": null,
   "source": [
    "a = [5,4,3,3,6,7]\n",
    "sorted(a, reverse=True)"
   ],
   "outputs": [],
   "metadata": {}
  },
  {
   "cell_type": "code",
   "execution_count": null,
   "source": [
    "print('some random string', end='.')"
   ],
   "outputs": [],
   "metadata": {}
  },
  {
   "cell_type": "markdown",
   "source": [
    "## Examples"
   ],
   "metadata": {}
  },
  {
   "cell_type": "code",
   "execution_count": null,
   "source": [
    "def classify_student(score):  # define\n",
    "    if ...:\n",
    "        print('trung binh')\n",
    "    elif ...:\n",
    "        print('kha')\n",
    "    elif ...:\n",
    "        print('gioi')\n",
    "    elif ...:\n",
    "        print('xuat sac')\n",
    "    else:\n",
    "        print('diem sai')\n",
    "    \n",
    "\n",
    "classify_student(10)"
   ],
   "outputs": [],
   "metadata": {}
  },
  {
   "cell_type": "code",
   "execution_count": null,
   "source": [
    "classify_student(5)"
   ],
   "outputs": [],
   "metadata": {}
  },
  {
   "cell_type": "code",
   "execution_count": null,
   "source": [
    "mark = 6.5\n",
    "classify_student(mark)"
   ],
   "outputs": [],
   "metadata": {
    "tags": []
   }
  },
  {
   "cell_type": "code",
   "execution_count": null,
   "source": [
    "a = [7, 9, 10, 3, 5]\n",
    "\n",
    "for score in a:\n",
    "    classify_student(score)"
   ],
   "outputs": [],
   "metadata": {
    "tags": []
   }
  },
  {
   "cell_type": "code",
   "execution_count": null,
   "source": [
    "[classify_student(score) for score in a]"
   ],
   "outputs": [],
   "metadata": {
    "tags": []
   }
  },
  {
   "cell_type": "code",
   "execution_count": null,
   "source": [
    "def if_else_game(door):\n",
    "    ..."
   ],
   "outputs": [],
   "metadata": {}
  },
  {
   "cell_type": "code",
   "execution_count": null,
   "source": [
    "door = 1\n",
    "if_else_game(door)"
   ],
   "outputs": [],
   "metadata": {
    "tags": []
   }
  },
  {
   "cell_type": "code",
   "execution_count": null,
   "source": [
    "from random import randint\n",
    "\n",
    "def gamble(n, num_doors=3):  # num_doors: keyword argument; n: positional\n",
    "    ..."
   ],
   "outputs": [],
   "metadata": {}
  },
  {
   "cell_type": "markdown",
   "source": [
    "# Builtin functions"
   ],
   "metadata": {
    "tags": []
   }
  },
  {
   "cell_type": "markdown",
   "source": [
    "## Numerical"
   ],
   "metadata": {}
  },
  {
   "cell_type": "code",
   "execution_count": null,
   "source": [
    "sum"
   ],
   "outputs": [],
   "metadata": {}
  },
  {
   "cell_type": "code",
   "execution_count": null,
   "source": [
    "sum([1,2,3])"
   ],
   "outputs": [],
   "metadata": {}
  },
  {
   "cell_type": "code",
   "execution_count": null,
   "source": [
    "min"
   ],
   "outputs": [],
   "metadata": {}
  },
  {
   "cell_type": "code",
   "execution_count": null,
   "source": [
    "min([1,2,3])"
   ],
   "outputs": [],
   "metadata": {}
  },
  {
   "cell_type": "code",
   "execution_count": null,
   "source": [
    "max"
   ],
   "outputs": [],
   "metadata": {}
  },
  {
   "cell_type": "code",
   "execution_count": null,
   "source": [
    "max([1,2,3])"
   ],
   "outputs": [],
   "metadata": {}
  },
  {
   "cell_type": "code",
   "execution_count": null,
   "source": [
    "a = [3, 2, 5, 1, 9, 11]\n",
    "min(a), max(a)"
   ],
   "outputs": [],
   "metadata": {}
  },
  {
   "cell_type": "code",
   "execution_count": null,
   "source": [
    "from math import floor, ceil\n",
    "\n",
    "# round\n",
    "floor(2.2), ceil(2.2)\n",
    "\n",
    "n = 22900\n",
    "ceil(n/1000)*1000"
   ],
   "outputs": [],
   "metadata": {}
  },
  {
   "cell_type": "code",
   "execution_count": null,
   "source": [
    "# sorted\n",
    "a = [3, 2, 5, 1, 9, 11]\n",
    "sorted(a, reverse=True)  # cach 1\n",
    "sorted(a)[::-1]  # cach 2"
   ],
   "outputs": [],
   "metadata": {}
  },
  {
   "cell_type": "markdown",
   "source": [
    "## Read and write"
   ],
   "metadata": {}
  },
  {
   "cell_type": "code",
   "execution_count": null,
   "source": [
    "f = open(...)\n",
    "f.read()\n",
    "f.close()"
   ],
   "outputs": [],
   "metadata": {}
  },
  {
   "cell_type": "code",
   "execution_count": null,
   "source": [
    "with open(...) as f:   # context manager\n",
    "    content = f.read()\n",
    "\n",
    "content"
   ],
   "outputs": [],
   "metadata": {}
  },
  {
   "cell_type": "code",
   "execution_count": null,
   "source": [
    "with open(..., 'w') as f:   # w <=> write\n",
    "    f.write(...)"
   ],
   "outputs": [],
   "metadata": {}
  },
  {
   "cell_type": "code",
   "execution_count": null,
   "source": [
    "with open(..., 'a') as f:   # a <=> append\n",
    "    f.write(...)"
   ],
   "outputs": [],
   "metadata": {}
  },
  {
   "cell_type": "code",
   "execution_count": null,
   "source": [
    "with open(..., 'a') as f:   # a <=> append\n",
    "    for line in f:\n",
    "        ..."
   ],
   "outputs": [],
   "metadata": {}
  },
  {
   "cell_type": "markdown",
   "source": [
    "## Check types and methods"
   ],
   "metadata": {}
  },
  {
   "cell_type": "code",
   "execution_count": null,
   "source": [
    "type(...)"
   ],
   "outputs": [],
   "metadata": {}
  },
  {
   "cell_type": "code",
   "execution_count": null,
   "source": [
    "a = ...\n",
    "dir(a)"
   ],
   "outputs": [],
   "metadata": {}
  },
  {
   "cell_type": "code",
   "execution_count": null,
   "source": [
    "help(...)"
   ],
   "outputs": [],
   "metadata": {}
  },
  {
   "cell_type": "code",
   "execution_count": null,
   "source": [
    "?..."
   ],
   "outputs": [],
   "metadata": {}
  },
  {
   "cell_type": "markdown",
   "source": [
    "## Custom print delimiter"
   ],
   "metadata": {}
  },
  {
   "cell_type": "code",
   "execution_count": null,
   "source": [
    "a = ['a', 'b', 'c']\n",
    "print(*a, sep='\\t')"
   ],
   "outputs": [],
   "metadata": {}
  },
  {
   "cell_type": "code",
   "execution_count": null,
   "source": [
    "print(*a, sep=' --- ')"
   ],
   "outputs": [],
   "metadata": {}
  },
  {
   "cell_type": "markdown",
   "source": [
    "# Libraries"
   ],
   "metadata": {
    "tags": []
   }
  },
  {
   "cell_type": "markdown",
   "source": [
    "## math"
   ],
   "metadata": {}
  },
  {
   "cell_type": "code",
   "execution_count": null,
   "source": [
    "import math"
   ],
   "outputs": [],
   "metadata": {}
  },
  {
   "cell_type": "markdown",
   "source": [
    "## os"
   ],
   "metadata": {}
  },
  {
   "cell_type": "code",
   "execution_count": null,
   "source": [
    "import os\n",
    "\n",
    "print(*dir(os), sep=' | ')"
   ],
   "outputs": [],
   "metadata": {}
  },
  {
   "cell_type": "code",
   "execution_count": null,
   "source": [
    "os.environ['PATH']"
   ],
   "outputs": [],
   "metadata": {}
  },
  {
   "cell_type": "markdown",
   "source": [
    "## random"
   ],
   "metadata": {}
  },
  {
   "cell_type": "code",
   "execution_count": null,
   "source": [
    "import random"
   ],
   "outputs": [],
   "metadata": {}
  },
  {
   "cell_type": "markdown",
   "source": [
    "## requests"
   ],
   "metadata": {}
  },
  {
   "cell_type": "code",
   "execution_count": null,
   "source": [
    "import requests\n",
    "\n",
    "page = requests.get('https://news.ycombinator.com/news')\n",
    "page.content"
   ],
   "outputs": [],
   "metadata": {}
  },
  {
   "cell_type": "markdown",
   "source": [
    "## bs4"
   ],
   "metadata": {}
  },
  {
   "cell_type": "code",
   "execution_count": null,
   "source": [
    "from bs4 import BeautifulSoup\n",
    "\n",
    "soup = BeautifulSoup(page.content)\n",
    "titles = soup.select('a.storylink')\n",
    "titles[0].text"
   ],
   "outputs": [],
   "metadata": {}
  },
  {
   "cell_type": "markdown",
   "source": [
    "## numpy"
   ],
   "metadata": {}
  },
  {
   "cell_type": "code",
   "execution_count": null,
   "source": [
    "import numpy as np\n",
    "\n",
    "a_array = np.array([1,2,3,4])\n",
    "a_list = [1,2,3,4]"
   ],
   "outputs": [],
   "metadata": {}
  },
  {
   "cell_type": "code",
   "execution_count": null,
   "source": [
    "a_array.sum()"
   ],
   "outputs": [],
   "metadata": {}
  },
  {
   "cell_type": "code",
   "execution_count": null,
   "source": [
    "a_list.sum()"
   ],
   "outputs": [],
   "metadata": {}
  },
  {
   "cell_type": "code",
   "execution_count": null,
   "source": [
    "a = np.array([1,2,3,4])\n",
    "b = np.array([1,1,1,1])\n",
    "\n",
    "a + b"
   ],
   "outputs": [],
   "metadata": {}
  },
  {
   "cell_type": "code",
   "execution_count": null,
   "source": [
    "a = [1,2,3,4]\n",
    "b = [1,1,1,1]\n",
    "n = 4\n",
    "\n",
    "for i in range(4):\n",
    "    print(a[i] + b[i])"
   ],
   "outputs": [],
   "metadata": {}
  },
  {
   "cell_type": "code",
   "execution_count": null,
   "source": [
    "a = np.array([1,2,3,4])\n",
    "[np.sin(i) for i in a]\n",
    "np.sin(a)"
   ],
   "outputs": [],
   "metadata": {}
  }
 ],
 "metadata": {
  "interpreter": {
   "hash": "1468a58c3a7b2a29ea27cc814e39aad725289df0de9a34481ce3ba03a92d3788"
  },
  "kernelspec": {
   "display_name": "Python 3 (ipykernel)",
   "language": "python",
   "name": "python3"
  },
  "language_info": {
   "codemirror_mode": {
    "name": "ipython",
    "version": 3
   },
   "file_extension": ".py",
   "mimetype": "text/x-python",
   "name": "python",
   "nbconvert_exporter": "python",
   "pygments_lexer": "ipython3",
   "version": "3.8.10"
  }
 },
 "nbformat": 4,
 "nbformat_minor": 5
}