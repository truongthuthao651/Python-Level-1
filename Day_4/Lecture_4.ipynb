{
 "cells": [
  {
   "cell_type": "markdown",
   "metadata": {},
   "source": [
    "# Day_4"
   ]
  },
  {
   "cell_type": "markdown",
   "metadata": {},
   "source": [
    "# UDF"
   ]
  },
  {
   "cell_type": "code",
   "execution_count": 2,
   "metadata": {},
   "outputs": [
    {
     "data": {
      "text/plain": [
       "100"
      ]
     },
     "execution_count": 2,
     "metadata": {},
     "output_type": "execute_result"
    }
   ],
   "source": [
    "def square(x):\n",
    "    out = x**2\n",
    "    return out\n",
    "square(10)"
   ]
  },
  {
   "cell_type": "code",
   "execution_count": 3,
   "metadata": {},
   "outputs": [
    {
     "data": {
      "text/plain": [
       "13"
      ]
     },
     "execution_count": 3,
     "metadata": {},
     "output_type": "execute_result"
    }
   ],
   "source": [
    "def f(x,y,z):\n",
    "    return x+y+z\n",
    "f(2,5,6)"
   ]
  },
  {
   "cell_type": "code",
   "execution_count": 5,
   "metadata": {},
   "outputs": [
    {
     "data": {
      "text/plain": [
       "12"
      ]
     },
     "execution_count": 5,
     "metadata": {},
     "output_type": "execute_result"
    }
   ],
   "source": [
    "a = [1, 2, 3, 4, 5, 6]\n",
    "n = 3\n",
    "def s(a, n):                             # key bị gán gtri\n",
    "    m = [choice(a) for i in range(n)]\n",
    "    return sum(m)\n",
    "s(a, n)"
   ]
  },
  {
   "cell_type": "code",
   "execution_count": 4,
   "metadata": {},
   "outputs": [
    {
     "data": {
      "text/plain": [
       "15"
      ]
     },
     "execution_count": 4,
     "metadata": {},
     "output_type": "execute_result"
    }
   ],
   "source": [
    "from random import choice\n",
    "a = [1, 2, 3, 4, 5, 6]\n",
    "n = 3\n",
    "m = [choice(a) for i in range(n)]\n",
    "sum(m)"
   ]
  },
  {
   "cell_type": "code",
   "execution_count": 21,
   "metadata": {},
   "outputs": [
    {
     "data": {
      "text/plain": [
       "100"
      ]
     },
     "execution_count": 21,
     "metadata": {},
     "output_type": "execute_result"
    }
   ],
   "source": [
    "def p(x, n=2):\n",
    "    return x**2\n",
    "p(10)                                    # n=3 (có thể khai báo biến bki or k khai báo)"
   ]
  },
  {
   "cell_type": "code",
   "execution_count": 10,
   "metadata": {},
   "outputs": [
    {
     "data": {
      "text/plain": [
       "100"
      ]
     },
     "execution_count": 10,
     "metadata": {},
     "output_type": "execute_result"
    }
   ],
   "source": [
    "# ## với:\n",
    "def p(x, n):                             # khi n k khai báo 1 gtri trước -> khi in p phải khai báo\n",
    "    return x**2\n",
    "p(10, 3)                      "
   ]
  },
  {
   "cell_type": "markdown",
   "metadata": {},
   "source": [
    "# Def with Lambda"
   ]
  },
  {
   "cell_type": "code",
   "execution_count": 12,
   "metadata": {},
   "outputs": [
    {
     "data": {
      "text/plain": [
       "144"
      ]
     },
     "execution_count": 12,
     "metadata": {},
     "output_type": "execute_result"
    }
   ],
   "source": [
    "# C1:\n",
    "f = lambda x: x**2\n",
    "f(12)"
   ]
  },
  {
   "cell_type": "code",
   "execution_count": 13,
   "metadata": {},
   "outputs": [
    {
     "data": {
      "text/plain": [
       "144"
      ]
     },
     "execution_count": 13,
     "metadata": {},
     "output_type": "execute_result"
    }
   ],
   "source": [
    "# C2:\n",
    "(lambda x: x**2)(12)"
   ]
  },
  {
   "cell_type": "code",
   "execution_count": 2,
   "metadata": {},
   "outputs": [
    {
     "data": {
      "text/plain": [
       "40"
      ]
     },
     "execution_count": 2,
     "metadata": {},
     "output_type": "execute_result"
    }
   ],
   "source": [
    "f = lambda x,y=5: 2*x*y\n",
    "f(10, 2)"
   ]
  },
  {
   "cell_type": "code",
   "execution_count": 15,
   "metadata": {},
   "outputs": [
    {
     "data": {
      "text/plain": [
       "[1, 4, 9, 100]"
      ]
     },
     "execution_count": 15,
     "metadata": {},
     "output_type": "execute_result"
    }
   ],
   "source": [
    "def apply(f, a):\n",
    "    return [f(n) for n in a]\n",
    "apply(lambda x: x**2, [1, 2, 3, 10])"
   ]
  },
  {
   "cell_type": "markdown",
   "metadata": {},
   "source": [
    "# keyword argument"
   ]
  },
  {
   "cell_type": "code",
   "execution_count": 16,
   "metadata": {},
   "outputs": [
    {
     "data": {
      "text/plain": [
       "40"
      ]
     },
     "execution_count": 16,
     "metadata": {},
     "output_type": "execute_result"
    }
   ],
   "source": [
    "def d(x):\n",
    "    a = 20\n",
    "    return a*x\n",
    "d(2)"
   ]
  },
  {
   "cell_type": "code",
   "execution_count": 9,
   "metadata": {},
   "outputs": [
    {
     "data": {
      "text/plain": [
       "[1, 2, 3, 4, 1, 2, 3, 4]"
      ]
     },
     "execution_count": 9,
     "metadata": {},
     "output_type": "execute_result"
    }
   ],
   "source": [
    "def d(x, a=5):                          # khi khai báo a -> phần in ra có thể replace = 1 gtri #\n",
    "    return a*x\n",
    "b = [1, 2, 3, 4]\n",
    "d(b, a=2)"
   ]
  },
  {
   "cell_type": "code",
   "execution_count": 22,
   "metadata": {},
   "outputs": [
    {
     "data": {
      "text/plain": [
       "[7, 6, 5, 4, 3, 3]"
      ]
     },
     "execution_count": 22,
     "metadata": {},
     "output_type": "execute_result"
    }
   ],
   "source": [
    "a = [5, 4, 3, 3, 6, 7]\n",
    "sorted(a, reverse = True)"
   ]
  },
  {
   "cell_type": "code",
   "execution_count": 31,
   "metadata": {},
   "outputs": [
    {
     "name": "stdout",
     "output_type": "stream",
     "text": [
      "some random string!"
     ]
    }
   ],
   "source": [
    "print('some random string', end='!')"
   ]
  },
  {
   "cell_type": "code",
   "execution_count": 3,
   "metadata": {},
   "outputs": [
    {
     "name": "stdout",
     "output_type": "stream",
     "text": [
      "kha\n"
     ]
    }
   ],
   "source": [
    "def classify_student(score):\n",
    "    if 0 <= score < 5:\n",
    "        print('trung binh')\n",
    "    elif 5 <= score < 8:\n",
    "        print('kha')\n",
    "    elif 8 <= score < 9:\n",
    "        print('gioi')\n",
    "    elif 9 <= score <= 10:\n",
    "        print('xuat sac')\n",
    "    else:\n",
    "        print('diem sai')\n",
    "classify_student(5)"
   ]
  },
  {
   "cell_type": "code",
   "execution_count": 4,
   "metadata": {},
   "outputs": [
    {
     "name": "stdout",
     "output_type": "stream",
     "text": [
      "kha\n"
     ]
    }
   ],
   "source": [
    "mark = 6.5\n",
    "classify_student(mark)"
   ]
  },
  {
   "cell_type": "markdown",
   "metadata": {},
   "source": [
    "# builtin functions"
   ]
  },
  {
   "cell_type": "code",
   "execution_count": 34,
   "metadata": {},
   "outputs": [
    {
     "data": {
      "text/plain": [
       "6"
      ]
     },
     "execution_count": 34,
     "metadata": {},
     "output_type": "execute_result"
    }
   ],
   "source": [
    "sum([1, 2, 3])"
   ]
  },
  {
   "cell_type": "code",
   "execution_count": 35,
   "metadata": {},
   "outputs": [
    {
     "data": {
      "text/plain": [
       "1"
      ]
     },
     "execution_count": 35,
     "metadata": {},
     "output_type": "execute_result"
    }
   ],
   "source": [
    "min([1, 2, 3])"
   ]
  },
  {
   "cell_type": "code",
   "execution_count": 36,
   "metadata": {},
   "outputs": [
    {
     "data": {
      "text/plain": [
       "3"
      ]
     },
     "execution_count": 36,
     "metadata": {},
     "output_type": "execute_result"
    }
   ],
   "source": [
    "max([1, 2, 3])"
   ]
  },
  {
   "cell_type": "code",
   "execution_count": 10,
   "metadata": {},
   "outputs": [
    {
     "data": {
      "text/plain": [
       "(1, 8)"
      ]
     },
     "execution_count": 10,
     "metadata": {},
     "output_type": "execute_result"
    }
   ],
   "source": [
    "a = [1, 5, 8, 8, 5, 6, 8, 6, 5]\n",
    "min(a), max(a)"
   ]
  },
  {
   "cell_type": "code",
   "execution_count": 13,
   "metadata": {},
   "outputs": [
    {
     "data": {
      "text/plain": [
       "23000"
      ]
     },
     "execution_count": 13,
     "metadata": {},
     "output_type": "execute_result"
    }
   ],
   "source": [
    "from math import floor, ceil\n",
    "floor(2.2), ceil(2.2)\n",
    "n = 22900\n",
    "ceil(n/1000)*1000                          # ceil: làm tròn lên\n",
    "                                           # floor: làm tròn xuống"
   ]
  },
  {
   "cell_type": "code",
   "execution_count": 14,
   "metadata": {},
   "outputs": [
    {
     "data": {
      "text/plain": [
       "[11, 8, 5, 4, 3, 2]"
      ]
     },
     "execution_count": 14,
     "metadata": {},
     "output_type": "execute_result"
    }
   ],
   "source": [
    "a = [3, 2, 5, 8, 4, 11]\n",
    "sorted(a, reverse=True)                     # C1:\n",
    "sorted(a)[::-1]                             # C2:"
   ]
  },
  {
   "cell_type": "markdown",
   "metadata": {},
   "source": [
    "# read and write"
   ]
  },
  {
   "cell_type": "code",
   "execution_count": null,
   "metadata": {},
   "outputs": [],
   "source": [
    "f = open(...)\n",
    "f.read()\n",
    "f.close()"
   ]
  },
  {
   "cell_type": "markdown",
   "metadata": {},
   "source": [
    "# check types and methods"
   ]
  },
  {
   "cell_type": "code",
   "execution_count": 15,
   "metadata": {},
   "outputs": [
    {
     "data": {
      "text/plain": [
       "int"
      ]
     },
     "execution_count": 15,
     "metadata": {},
     "output_type": "execute_result"
    }
   ],
   "source": [
    "type(2)"
   ]
  },
  {
   "cell_type": "code",
   "execution_count": 16,
   "metadata": {},
   "outputs": [
    {
     "data": {
      "text/plain": [
       "['__add__',\n",
       " '__class__',\n",
       " '__contains__',\n",
       " '__delattr__',\n",
       " '__delitem__',\n",
       " '__dir__',\n",
       " '__doc__',\n",
       " '__eq__',\n",
       " '__format__',\n",
       " '__ge__',\n",
       " '__getattribute__',\n",
       " '__getitem__',\n",
       " '__gt__',\n",
       " '__hash__',\n",
       " '__iadd__',\n",
       " '__imul__',\n",
       " '__init__',\n",
       " '__init_subclass__',\n",
       " '__iter__',\n",
       " '__le__',\n",
       " '__len__',\n",
       " '__lt__',\n",
       " '__mul__',\n",
       " '__ne__',\n",
       " '__new__',\n",
       " '__reduce__',\n",
       " '__reduce_ex__',\n",
       " '__repr__',\n",
       " '__reversed__',\n",
       " '__rmul__',\n",
       " '__setattr__',\n",
       " '__setitem__',\n",
       " '__sizeof__',\n",
       " '__str__',\n",
       " '__subclasshook__',\n",
       " 'append',\n",
       " 'clear',\n",
       " 'copy',\n",
       " 'count',\n",
       " 'extend',\n",
       " 'index',\n",
       " 'insert',\n",
       " 'pop',\n",
       " 'remove',\n",
       " 'reverse',\n",
       " 'sort']"
      ]
     },
     "execution_count": 16,
     "metadata": {},
     "output_type": "execute_result"
    }
   ],
   "source": [
    "a = [1, 2, 3]\n",
    "dir(a)                                    # check methods của biến đó"
   ]
  },
  {
   "cell_type": "code",
   "execution_count": 18,
   "metadata": {},
   "outputs": [
    {
     "name": "stdout",
     "output_type": "stream",
     "text": [
      "Help on list object:\n",
      "\n",
      "class list(object)\n",
      " |  list(iterable=(), /)\n",
      " |  \n",
      " |  Built-in mutable sequence.\n",
      " |  \n",
      " |  If no argument is given, the constructor creates a new empty list.\n",
      " |  The argument must be an iterable if specified.\n",
      " |  \n",
      " |  Methods defined here:\n",
      " |  \n",
      " |  __add__(self, value, /)\n",
      " |      Return self+value.\n",
      " |  \n",
      " |  __contains__(self, key, /)\n",
      " |      Return key in self.\n",
      " |  \n",
      " |  __delitem__(self, key, /)\n",
      " |      Delete self[key].\n",
      " |  \n",
      " |  __eq__(self, value, /)\n",
      " |      Return self==value.\n",
      " |  \n",
      " |  __ge__(self, value, /)\n",
      " |      Return self>=value.\n",
      " |  \n",
      " |  __getattribute__(self, name, /)\n",
      " |      Return getattr(self, name).\n",
      " |  \n",
      " |  __getitem__(...)\n",
      " |      x.__getitem__(y) <==> x[y]\n",
      " |  \n",
      " |  __gt__(self, value, /)\n",
      " |      Return self>value.\n",
      " |  \n",
      " |  __iadd__(self, value, /)\n",
      " |      Implement self+=value.\n",
      " |  \n",
      " |  __imul__(self, value, /)\n",
      " |      Implement self*=value.\n",
      " |  \n",
      " |  __init__(self, /, *args, **kwargs)\n",
      " |      Initialize self.  See help(type(self)) for accurate signature.\n",
      " |  \n",
      " |  __iter__(self, /)\n",
      " |      Implement iter(self).\n",
      " |  \n",
      " |  __le__(self, value, /)\n",
      " |      Return self<=value.\n",
      " |  \n",
      " |  __len__(self, /)\n",
      " |      Return len(self).\n",
      " |  \n",
      " |  __lt__(self, value, /)\n",
      " |      Return self<value.\n",
      " |  \n",
      " |  __mul__(self, value, /)\n",
      " |      Return self*value.\n",
      " |  \n",
      " |  __ne__(self, value, /)\n",
      " |      Return self!=value.\n",
      " |  \n",
      " |  __repr__(self, /)\n",
      " |      Return repr(self).\n",
      " |  \n",
      " |  __reversed__(self, /)\n",
      " |      Return a reverse iterator over the list.\n",
      " |  \n",
      " |  __rmul__(self, value, /)\n",
      " |      Return value*self.\n",
      " |  \n",
      " |  __setitem__(self, key, value, /)\n",
      " |      Set self[key] to value.\n",
      " |  \n",
      " |  __sizeof__(self, /)\n",
      " |      Return the size of the list in memory, in bytes.\n",
      " |  \n",
      " |  append(self, object, /)\n",
      " |      Append object to the end of the list.\n",
      " |  \n",
      " |  clear(self, /)\n",
      " |      Remove all items from list.\n",
      " |  \n",
      " |  copy(self, /)\n",
      " |      Return a shallow copy of the list.\n",
      " |  \n",
      " |  count(self, value, /)\n",
      " |      Return number of occurrences of value.\n",
      " |  \n",
      " |  extend(self, iterable, /)\n",
      " |      Extend list by appending elements from the iterable.\n",
      " |  \n",
      " |  index(self, value, start=0, stop=9223372036854775807, /)\n",
      " |      Return first index of value.\n",
      " |      \n",
      " |      Raises ValueError if the value is not present.\n",
      " |  \n",
      " |  insert(self, index, object, /)\n",
      " |      Insert object before index.\n",
      " |  \n",
      " |  pop(self, index=-1, /)\n",
      " |      Remove and return item at index (default last).\n",
      " |      \n",
      " |      Raises IndexError if list is empty or index is out of range.\n",
      " |  \n",
      " |  remove(self, value, /)\n",
      " |      Remove first occurrence of value.\n",
      " |      \n",
      " |      Raises ValueError if the value is not present.\n",
      " |  \n",
      " |  reverse(self, /)\n",
      " |      Reverse *IN PLACE*.\n",
      " |  \n",
      " |  sort(self, /, *, key=None, reverse=False)\n",
      " |      Sort the list in ascending order and return None.\n",
      " |      \n",
      " |      The sort is in-place (i.e. the list itself is modified) and stable (i.e. the\n",
      " |      order of two equal elements is maintained).\n",
      " |      \n",
      " |      If a key function is given, apply it once to each list item and sort them,\n",
      " |      ascending or descending, according to their function values.\n",
      " |      \n",
      " |      The reverse flag can be set to sort in descending order.\n",
      " |  \n",
      " |  ----------------------------------------------------------------------\n",
      " |  Static methods defined here:\n",
      " |  \n",
      " |  __new__(*args, **kwargs) from builtins.type\n",
      " |      Create and return a new object.  See help(type) for accurate signature.\n",
      " |  \n",
      " |  ----------------------------------------------------------------------\n",
      " |  Data and other attributes defined here:\n",
      " |  \n",
      " |  __hash__ = None\n",
      "\n"
     ]
    }
   ],
   "source": [
    "help(a)"
   ]
  },
  {
   "cell_type": "code",
   "execution_count": 19,
   "metadata": {},
   "outputs": [],
   "source": [
    "?a"
   ]
  },
  {
   "cell_type": "markdown",
   "metadata": {},
   "source": [
    "# custom print"
   ]
  },
  {
   "cell_type": "code",
   "execution_count": 22,
   "metadata": {},
   "outputs": [
    {
     "name": "stdout",
     "output_type": "stream",
     "text": [
      "a\tb\tc\n"
     ]
    }
   ],
   "source": [
    "a = ['a', 'b', 'c']\n",
    "print(*a, sep='\\t')                       # * là tách thành các ptu riêng\n",
    "                                          # sep='\\t' ngăn cách các ptu =..."
   ]
  },
  {
   "cell_type": "code",
   "execution_count": 23,
   "metadata": {},
   "outputs": [
    {
     "name": "stdout",
     "output_type": "stream",
     "text": [
      "a\tb\tc\n"
     ]
    }
   ],
   "source": [
    "print('a', 'b', 'c', sep='\\t')"
   ]
  },
  {
   "cell_type": "markdown",
   "metadata": {},
   "source": [
    "# libraries"
   ]
  },
  {
   "cell_type": "code",
   "execution_count": 27,
   "metadata": {},
   "outputs": [
    {
     "data": {
      "text/plain": [
       "b'<html lang=\"en\" op=\"news\"><head><meta name=\"referrer\" content=\"origin\"><meta name=\"viewport\" content=\"width=device-width, initial-scale=1.0\"><link rel=\"stylesheet\" type=\"text/css\" href=\"news.css?kINVYarBkE7QJ6FelfS3\">\\n        <link rel=\"shortcut icon\" href=\"favicon.ico\">\\n          <link rel=\"alternate\" type=\"application/rss+xml\" title=\"RSS\" href=\"rss\">\\n        <title>Hacker News</title></head><body><center><table id=\"hnmain\" border=\"0\" cellpadding=\"0\" cellspacing=\"0\" width=\"85%\" bgcolor=\"#f6f6ef\">\\n        <tr><td bgcolor=\"#ff6600\"><table border=\"0\" cellpadding=\"0\" cellspacing=\"0\" width=\"100%\" style=\"padding:2px\"><tr><td style=\"width:18px;padding-right:4px\"><a href=\"https://news.ycombinator.com\"><img src=\"y18.gif\" width=\"18\" height=\"18\" style=\"border:1px white solid;\"></a></td>\\n                  <td style=\"line-height:12pt; height:10px;\"><span class=\"pagetop\"><b class=\"hnname\"><a href=\"news\">Hacker News</a></b>\\n              <a href=\"newest\">new</a> | <a href=\"front\">past</a> | <a href=\"newcomments\">comments</a> | <a href=\"ask\">ask</a> | <a href=\"show\">show</a> | <a href=\"jobs\">jobs</a> | <a href=\"submit\">submit</a>            </span></td><td style=\"text-align:right;padding-right:4px;\"><span class=\"pagetop\">\\n                              <a href=\"login?goto=news\">login</a>\\n                          </span></td>\\n              </tr></table></td></tr>\\n<tr id=\"pagespace\" title=\"\" style=\"height:10px\"></tr><tr><td><table border=\"0\" cellpadding=\"0\" cellspacing=\"0\" class=\"itemlist\">\\n              <tr class=\\'athing\\' id=\\'28926582\\'>\\n      <td align=\"right\" valign=\"top\" class=\"title\"><span class=\"rank\">1.</span></td>      <td valign=\"top\" class=\"votelinks\"><center><a id=\\'up_28926582\\' href=\\'vote?id=28926582&amp;how=up&amp;goto=news\\'><div class=\\'votearrow\\' title=\\'upvote\\'></div></a></center></td><td class=\"title\"><a href=\"https://brave.com/search-and-web-discovery/\" class=\"titlelink\">Brave Search replaces Google as default search engine in the Brave browser</a><span class=\"sitebit comhead\"> (<a href=\"from?site=brave.com\"><span class=\"sitestr\">brave.com</span></a>)</span></td></tr><tr><td colspan=\"2\"></td><td class=\"subtext\">\\n        <span class=\"score\" id=\"score_28926582\">233 points</span> by <a href=\"user?id=skellertor\" class=\"hnuser\">skellertor</a> <span class=\"age\" title=\"2021-10-20T03:56:51\"><a href=\"item?id=28926582\">3 hours ago</a></span> <span id=\"unv_28926582\"></span> | <a href=\"hide?id=28926582&amp;goto=news\">hide</a> | <a href=\"item?id=28926582\">148&nbsp;comments</a>              </td></tr>\\n      <tr class=\"spacer\" style=\"height:5px\"></tr>\\n                <tr class=\\'athing\\' id=\\'28927064\\'>\\n      <td align=\"right\" valign=\"top\" class=\"title\"><span class=\"rank\">2.</span></td>      <td valign=\"top\" class=\"votelinks\"><center><a id=\\'up_28927064\\' href=\\'vote?id=28927064&amp;how=up&amp;goto=news\\'><div class=\\'votearrow\\' title=\\'upvote\\'></div></a></center></td><td class=\"title\"><a href=\"https://kristerw.github.io/2021/10/19/fast-math/\" class=\"titlelink\">Optimizations Enabled by -ffast-Math</a><span class=\"sitebit comhead\"> (<a href=\"from?site=kristerw.github.io\"><span class=\"sitestr\">kristerw.github.io</span></a>)</span></td></tr><tr><td colspan=\"2\"></td><td class=\"subtext\">\\n        <span class=\"score\" id=\"score_28927064\">54 points</span> by <a href=\"user?id=bwidlar\" class=\"hnuser\">bwidlar</a> <span class=\"age\" title=\"2021-10-20T05:24:36\"><a href=\"item?id=28927064\">2 hours ago</a></span> <span id=\"unv_28927064\"></span> | <a href=\"hide?id=28927064&amp;goto=news\">hide</a> | <a href=\"item?id=28927064\">6&nbsp;comments</a>              </td></tr>\\n      <tr class=\"spacer\" style=\"height:5px\"></tr>\\n                <tr class=\\'athing\\' id=\\'28926741\\'>\\n      <td align=\"right\" valign=\"top\" class=\"title\"><span class=\"rank\">3.</span></td>      <td valign=\"top\" class=\"votelinks\"><center><a id=\\'up_28926741\\' href=\\'vote?id=28926741&amp;how=up&amp;goto=news\\'><div class=\\'votearrow\\' title=\\'upvote\\'></div></a></center></td><td class=\"title\"><a href=\"https://forum.kicad.info/t/warning-avoid-all-links-to-kicad-pcb-org-use-kicad-org/31521\" class=\"titlelink\">WARNING: Avoid all links to kicad-pcb.org \\xe2\\x80\\x93 Use kicad.org</a><span class=\"sitebit comhead\"> (<a href=\"from?site=kicad.info\"><span class=\"sitestr\">kicad.info</span></a>)</span></td></tr><tr><td colspan=\"2\"></td><td class=\"subtext\">\\n        <span class=\"score\" id=\"score_28926741\">75 points</span> by <a href=\"user?id=1MachineElf\" class=\"hnuser\">1MachineElf</a> <span class=\"age\" title=\"2021-10-20T04:24:42\"><a href=\"item?id=28926741\">3 hours ago</a></span> <span id=\"unv_28926741\"></span> | <a href=\"hide?id=28926741&amp;goto=news\">hide</a> | <a href=\"item?id=28926741\">7&nbsp;comments</a>              </td></tr>\\n      <tr class=\"spacer\" style=\"height:5px\"></tr>\\n                <tr class=\\'athing\\' id=\\'28921244\\'>\\n      <td align=\"right\" valign=\"top\" class=\"title\"><span class=\"rank\">4.</span></td>      <td valign=\"top\" class=\"votelinks\"><center><a id=\\'up_28921244\\' href=\\'vote?id=28921244&amp;how=up&amp;goto=news\\'><div class=\\'votearrow\\' title=\\'upvote\\'></div></a></center></td><td class=\"title\"><a href=\"https://www.npr.org/2021/10/19/1047303559/fda-hearing-aid-prescription-over-the-counter\" class=\"titlelink\">The FDA wants you to be able to buy a hearing aid without a prescription</a><span class=\"sitebit comhead\"> (<a href=\"from?site=npr.org\"><span class=\"sitestr\">npr.org</span></a>)</span></td></tr><tr><td colspan=\"2\"></td><td class=\"subtext\">\\n        <span class=\"score\" id=\"score_28921244\">636 points</span> by <a href=\"user?id=cf100clunk\" class=\"hnuser\">cf100clunk</a> <span class=\"age\" title=\"2021-10-19T17:58:42\"><a href=\"item?id=28921244\">13 hours ago</a></span> <span id=\"unv_28921244\"></span> | <a href=\"hide?id=28921244&amp;goto=news\">hide</a> | <a href=\"item?id=28921244\">394&nbsp;comments</a>              </td></tr>\\n      <tr class=\"spacer\" style=\"height:5px\"></tr>\\n                <tr class=\\'athing\\' id=\\'28926426\\'>\\n      <td align=\"right\" valign=\"top\" class=\"title\"><span class=\"rank\">5.</span></td>      <td valign=\"top\" class=\"votelinks\"><center><a id=\\'up_28926426\\' href=\\'vote?id=28926426&amp;how=up&amp;goto=news\\'><div class=\\'votearrow\\' title=\\'upvote\\'></div></a></center></td><td class=\"title\"><a href=\"https://googleprojectzero.blogspot.com/2021/10/how-simple-linux-kernel-memory.html\" class=\"titlelink\">Simple Linux kernel memory corruption bug can lead to complete system compromise</a><span class=\"sitebit comhead\"> (<a href=\"from?site=googleprojectzero.blogspot.com\"><span class=\"sitestr\">googleprojectzero.blogspot.com</span></a>)</span></td></tr><tr><td colspan=\"2\"></td><td class=\"subtext\">\\n        <span class=\"score\" id=\"score_28926426\">71 points</span> by <a href=\"user?id=pabs3\" class=\"hnuser\">pabs3</a> <span class=\"age\" title=\"2021-10-20T03:29:05\"><a href=\"item?id=28926426\">4 hours ago</a></span> <span id=\"unv_28926426\"></span> | <a href=\"hide?id=28926426&amp;goto=news\">hide</a> | <a href=\"item?id=28926426\">22&nbsp;comments</a>              </td></tr>\\n      <tr class=\"spacer\" style=\"height:5px\"></tr>\\n                <tr class=\\'athing\\' id=\\'28921083\\'>\\n      <td align=\"right\" valign=\"top\" class=\"title\"><span class=\"rank\">6.</span></td>      <td valign=\"top\" class=\"votelinks\"><center><a id=\\'up_28921083\\' href=\\'vote?id=28921083&amp;how=up&amp;goto=news\\'><div class=\\'votearrow\\' title=\\'upvote\\'></div></a></center></td><td class=\"title\"><a href=\"https://spectrum.ieee.org/recycled-batteries-good-as-newly-mined\" class=\"titlelink\">Study: Recycled Lithium Batteries as Good as Newly Mined</a><span class=\"sitebit comhead\"> (<a href=\"from?site=ieee.org\"><span class=\"sitestr\">ieee.org</span></a>)</span></td></tr><tr><td colspan=\"2\"></td><td class=\"subtext\">\\n        <span class=\"score\" id=\"score_28921083\">489 points</span> by <a href=\"user?id=mpweiher\" class=\"hnuser\">mpweiher</a> <span class=\"age\" title=\"2021-10-19T17:45:07\"><a href=\"item?id=28921083\">14 hours ago</a></span> <span id=\"unv_28921083\"></span> | <a href=\"hide?id=28921083&amp;goto=news\">hide</a> | <a href=\"item?id=28921083\">147&nbsp;comments</a>              </td></tr>\\n      <tr class=\"spacer\" style=\"height:5px\"></tr>\\n                <tr class=\\'athing\\' id=\\'28927643\\'>\\n      <td align=\"right\" valign=\"top\" class=\"title\"><span class=\"rank\">7.</span></td>      <td></td><td class=\"title\"><a href=\"https://jobs.lever.co/getjerry/8a65340f-f253-4da6-8259-ad1fe527a7e8\" class=\"titlelink\" rel=\"nofollow\">Jerry (YC S17) Is Hiring Senior Software Engineer</a><span class=\"sitebit comhead\"> (<a href=\"from?site=lever.co\"><span class=\"sitestr\">lever.co</span></a>)</span></td></tr><tr><td colspan=\"2\"></td><td class=\"subtext\">\\n        <span class=\"age\" title=\"2021-10-20T07:02:15\"><a href=\"item?id=28927643\">43 minutes ago</a></span> | <a href=\"hide?id=28927643&amp;goto=news\">hide</a>      </td></tr>\\n      <tr class=\"spacer\" style=\"height:5px\"></tr>\\n                <tr class=\\'athing\\' id=\\'28926825\\'>\\n      <td align=\"right\" valign=\"top\" class=\"title\"><span class=\"rank\">8.</span></td>      <td valign=\"top\" class=\"votelinks\"><center><a id=\\'up_28926825\\' href=\\'vote?id=28926825&amp;how=up&amp;goto=news\\'><div class=\\'votearrow\\' title=\\'upvote\\'></div></a></center></td><td class=\"title\"><a href=\"https://stackoverflow.blog/2021/10/18/code-quality-a-concern-for-businesses-bottom-lines-and-empathetic-programmers/\" class=\"titlelink\">Code quality: a concern for businesses, bottom lines, and empathetic programmers</a><span class=\"sitebit comhead\"> (<a href=\"from?site=stackoverflow.blog\"><span class=\"sitestr\">stackoverflow.blog</span></a>)</span></td></tr><tr><td colspan=\"2\"></td><td class=\"subtext\">\\n        <span class=\"score\" id=\"score_28926825\">46 points</span> by <a href=\"user?id=nsoonhui\" class=\"hnuser\">nsoonhui</a> <span class=\"age\" title=\"2021-10-20T04:38:53\"><a href=\"item?id=28926825\">3 hours ago</a></span> <span id=\"unv_28926825\"></span> | <a href=\"hide?id=28926825&amp;goto=news\">hide</a> | <a href=\"item?id=28926825\">23&nbsp;comments</a>              </td></tr>\\n      <tr class=\"spacer\" style=\"height:5px\"></tr>\\n                <tr class=\\'athing\\' id=\\'28905182\\'>\\n      <td align=\"right\" valign=\"top\" class=\"title\"><span class=\"rank\">9.</span></td>      <td valign=\"top\" class=\"votelinks\"><center><a id=\\'up_28905182\\' href=\\'vote?id=28905182&amp;how=up&amp;goto=news\\'><div class=\\'votearrow\\' title=\\'upvote\\'></div></a></center></td><td class=\"title\"><a href=\"https://www.wsj.com/articles/writer-liu-cixin-on-how-his-visions-of-the-future-collide-with-reality-11633446000\" class=\"titlelink\">Writer Liu Cixin on How His Visions of the Future Collide with Reality</a><span class=\"sitebit comhead\"> (<a href=\"from?site=wsj.com\"><span class=\"sitestr\">wsj.com</span></a>)</span></td></tr><tr><td colspan=\"2\"></td><td class=\"subtext\">\\n        <span class=\"score\" id=\"score_28905182\">15 points</span> by <a href=\"user?id=gumby\" class=\"hnuser\">gumby</a> <span class=\"age\" title=\"2021-10-18T13:24:13\"><a href=\"item?id=28905182\">1 hour ago</a></span> <span id=\"unv_28905182\"></span> | <a href=\"hide?id=28905182&amp;goto=news\">hide</a> | <a href=\"item?id=28905182\">9&nbsp;comments</a>              </td></tr>\\n      <tr class=\"spacer\" style=\"height:5px\"></tr>\\n                <tr class=\\'athing\\' id=\\'28921247\\'>\\n      <td align=\"right\" valign=\"top\" class=\"title\"><span class=\"rank\">10.</span></td>      <td valign=\"top\" class=\"votelinks\"><center><a id=\\'up_28921247\\' href=\\'vote?id=28921247&amp;how=up&amp;goto=news\\'><div class=\\'votearrow\\' title=\\'upvote\\'></div></a></center></td><td class=\"title\"><a href=\"https://store.google.com/category/phones?hl=en-US\" class=\"titlelink\">Google Pixel 6 and Pixel 6 Pro</a><span class=\"sitebit comhead\"> (<a href=\"from?site=store.google.com\"><span class=\"sitestr\">store.google.com</span></a>)</span></td></tr><tr><td colspan=\"2\"></td><td class=\"subtext\">\\n        <span class=\"score\" id=\"score_28921247\">469 points</span> by <a href=\"user?id=mikeevans\" class=\"hnuser\">mikeevans</a> <span class=\"age\" title=\"2021-10-19T17:59:01\"><a href=\"item?id=28921247\">13 hours ago</a></span> <span id=\"unv_28921247\"></span> | <a href=\"hide?id=28921247&amp;goto=news\">hide</a> | <a href=\"item?id=28921247\">608&nbsp;comments</a>              </td></tr>\\n      <tr class=\"spacer\" style=\"height:5px\"></tr>\\n                <tr class=\\'athing\\' id=\\'28925148\\'>\\n      <td align=\"right\" valign=\"top\" class=\"title\"><span class=\"rank\">11.</span></td>      <td valign=\"top\" class=\"votelinks\"><center><a id=\\'up_28925148\\' href=\\'vote?id=28925148&amp;how=up&amp;goto=news\\'><div class=\\'votearrow\\' title=\\'upvote\\'></div></a></center></td><td class=\"title\"><a href=\"https://spectrum.ieee.org/optical-switch-1000x-faster-transistors\" class=\"titlelink\">New Optical Switch Up to 1000x Faster Than Transistors</a><span class=\"sitebit comhead\"> (<a href=\"from?site=ieee.org\"><span class=\"sitestr\">ieee.org</span></a>)</span></td></tr><tr><td colspan=\"2\"></td><td class=\"subtext\">\\n        <span class=\"score\" id=\"score_28925148\">133 points</span> by <a href=\"user?id=ofou\" class=\"hnuser\">ofou</a> <span class=\"age\" title=\"2021-10-19T23:45:09\"><a href=\"item?id=28925148\">8 hours ago</a></span> <span id=\"unv_28925148\"></span> | <a href=\"hide?id=28925148&amp;goto=news\">hide</a> | <a href=\"item?id=28925148\">44&nbsp;comments</a>              </td></tr>\\n      <tr class=\"spacer\" style=\"height:5px\"></tr>\\n                <tr class=\\'athing\\' id=\\'28920095\\'>\\n      <td align=\"right\" valign=\"top\" class=\"title\"><span class=\"rank\">12.</span></td>      <td valign=\"top\" class=\"votelinks\"><center><a id=\\'up_28920095\\' href=\\'vote?id=28920095&amp;how=up&amp;goto=news\\'><div class=\\'votearrow\\' title=\\'upvote\\'></div></a></center></td><td class=\"title\"><a href=\"https://www.fredrikholmqvist.com/pages/why-i-hate-frameworks.html\" class=\"titlelink\">Why I Hate Frameworks (2005)</a><span class=\"sitebit comhead\"> (<a href=\"from?site=fredrikholmqvist.com\"><span class=\"sitestr\">fredrikholmqvist.com</span></a>)</span></td></tr><tr><td colspan=\"2\"></td><td class=\"subtext\">\\n        <span class=\"score\" id=\"score_28920095\">457 points</span> by <a href=\"user?id=zkldi\" class=\"hnuser\">zkldi</a> <span class=\"age\" title=\"2021-10-19T16:34:40\"><a href=\"item?id=28920095\">15 hours ago</a></span> <span id=\"unv_28920095\"></span> | <a href=\"hide?id=28920095&amp;goto=news\">hide</a> | <a href=\"item?id=28920095\">251&nbsp;comments</a>              </td></tr>\\n      <tr class=\"spacer\" style=\"height:5px\"></tr>\\n                <tr class=\\'athing\\' id=\\'28927203\\'>\\n      <td align=\"right\" valign=\"top\" class=\"title\"><span class=\"rank\">13.</span></td>      <td valign=\"top\" class=\"votelinks\"><center><a id=\\'up_28927203\\' href=\\'vote?id=28927203&amp;how=up&amp;goto=news\\'><div class=\\'votearrow\\' title=\\'upvote\\'></div></a></center></td><td class=\"title\"><a href=\"https://portswigger.net/daily-swig/google-mozilla-close-to-finalizing-sanitizer-api-for-chrome-and-firefox-browsers\" class=\"titlelink\">Google, Mozilla Close to Finalizing Sanitizer API for Chrome and Firefox Browse</a><span class=\"sitebit comhead\"> (<a href=\"from?site=portswigger.net\"><span class=\"sitestr\">portswigger.net</span></a>)</span></td></tr><tr><td colspan=\"2\"></td><td class=\"subtext\">\\n        <span class=\"score\" id=\"score_28927203\">14 points</span> by <a href=\"user?id=todsacerdoti\" class=\"hnuser\">todsacerdoti</a> <span class=\"age\" title=\"2021-10-20T05:47:33\"><a href=\"item?id=28927203\">1 hour ago</a></span> <span id=\"unv_28927203\"></span> | <a href=\"hide?id=28927203&amp;goto=news\">hide</a> | <a href=\"item?id=28927203\">1&nbsp;comment</a>              </td></tr>\\n      <tr class=\"spacer\" style=\"height:5px\"></tr>\\n                <tr class=\\'athing\\' id=\\'28924751\\'>\\n      <td align=\"right\" valign=\"top\" class=\"title\"><span class=\"rank\">14.</span></td>      <td valign=\"top\" class=\"votelinks\"><center><a id=\\'up_28924751\\' href=\\'vote?id=28924751&amp;how=up&amp;goto=news\\'><div class=\\'votearrow\\' title=\\'upvote\\'></div></a></center></td><td class=\"title\"><a href=\"https://knowingless.com/2021/10/19/becoming-a-whorelord-the-overly-analytical-guide-to-escorting/\" class=\"titlelink\">Overly analytical guide to escorting</a><span class=\"sitebit comhead\"> (<a href=\"from?site=knowingless.com\"><span class=\"sitestr\">knowingless.com</span></a>)</span></td></tr><tr><td colspan=\"2\"></td><td class=\"subtext\">\\n        <span class=\"score\" id=\"score_28924751\">378 points</span> by <a href=\"user?id=exolymph\" class=\"hnuser\">exolymph</a> <span class=\"age\" title=\"2021-10-19T22:53:12\"><a href=\"item?id=28924751\">8 hours ago</a></span> <span id=\"unv_28924751\"></span> | <a href=\"hide?id=28924751&amp;goto=news\">hide</a> | <a href=\"item?id=28924751\">165&nbsp;comments</a>              </td></tr>\\n      <tr class=\"spacer\" style=\"height:5px\"></tr>\\n                <tr class=\\'athing\\' id=\\'28920954\\'>\\n      <td align=\"right\" valign=\"top\" class=\"title\"><span class=\"rank\">15.</span></td>      <td valign=\"top\" class=\"votelinks\"><center><a id=\\'up_28920954\\' href=\\'vote?id=28920954&amp;how=up&amp;goto=news\\'><div class=\\'votearrow\\' title=\\'upvote\\'></div></a></center></td><td class=\"title\"><a href=\"https://sfconservancy.org/copyleft-compliance/vizio.html\" class=\"titlelink\">Software Freedom Conservancy files GPL lawsuit against Vizio</a><span class=\"sitebit comhead\"> (<a href=\"from?site=sfconservancy.org\"><span class=\"sitestr\">sfconservancy.org</span></a>)</span></td></tr><tr><td colspan=\"2\"></td><td class=\"subtext\">\\n        <span class=\"score\" id=\"score_28920954\">295 points</span> by <a href=\"user?id=jra_samba\" class=\"hnuser\">jra_samba</a> <span class=\"age\" title=\"2021-10-19T17:35:17\"><a href=\"item?id=28920954\">14 hours ago</a></span> <span id=\"unv_28920954\"></span> | <a href=\"hide?id=28920954&amp;goto=news\">hide</a> | <a href=\"item?id=28920954\">95&nbsp;comments</a>              </td></tr>\\n      <tr class=\"spacer\" style=\"height:5px\"></tr>\\n                <tr class=\\'athing\\' id=\\'28914986\\'>\\n      <td align=\"right\" valign=\"top\" class=\"title\"><span class=\"rank\">16.</span></td>      <td valign=\"top\" class=\"votelinks\"><center><a id=\\'up_28914986\\' href=\\'vote?id=28914986&amp;how=up&amp;goto=news\\'><div class=\\'votearrow\\' title=\\'upvote\\'></div></a></center></td><td class=\"title\"><a href=\"https://blogs.bl.uk/asian-and-african/2021/10/who-reads-digitised-malay-manuscripts.html\" class=\"titlelink\">Who reads digitised Malay manuscripts?</a><span class=\"sitebit comhead\"> (<a href=\"from?site=blogs.bl.uk\"><span class=\"sitestr\">blogs.bl.uk</span></a>)</span></td></tr><tr><td colspan=\"2\"></td><td class=\"subtext\">\\n        <span class=\"score\" id=\"score_28914986\">15 points</span> by <a href=\"user?id=diodorus\" class=\"hnuser\">diodorus</a> <span class=\"age\" title=\"2021-10-19T04:53:30\"><a href=\"item?id=28914986\">3 hours ago</a></span> <span id=\"unv_28914986\"></span> | <a href=\"hide?id=28914986&amp;goto=news\">hide</a> | <a href=\"item?id=28914986\">discuss</a>              </td></tr>\\n      <tr class=\"spacer\" style=\"height:5px\"></tr>\\n                <tr class=\\'athing\\' id=\\'28921543\\'>\\n      <td align=\"right\" valign=\"top\" class=\"title\"><span class=\"rank\">17.</span></td>      <td valign=\"top\" class=\"votelinks\"><center><a id=\\'up_28921543\\' href=\\'vote?id=28921543&amp;how=up&amp;goto=news\\'><div class=\\'votearrow\\' title=\\'upvote\\'></div></a></center></td><td class=\"title\"><a href=\"https://nautil.us/issue/25/water/five-things-we-still-dont-know-about-water\" class=\"titlelink\">Five things we still don\\xe2\\x80\\x99t know about water</a><span class=\"sitebit comhead\"> (<a href=\"from?site=nautil.us\"><span class=\"sitestr\">nautil.us</span></a>)</span></td></tr><tr><td colspan=\"2\"></td><td class=\"subtext\">\\n        <span class=\"score\" id=\"score_28921543\">249 points</span> by <a href=\"user?id=Anon84\" class=\"hnuser\">Anon84</a> <span class=\"age\" title=\"2021-10-19T18:23:13\"><a href=\"item?id=28921543\">13 hours ago</a></span> <span id=\"unv_28921543\"></span> | <a href=\"hide?id=28921543&amp;goto=news\">hide</a> | <a href=\"item?id=28921543\">72&nbsp;comments</a>              </td></tr>\\n      <tr class=\"spacer\" style=\"height:5px\"></tr>\\n                <tr class=\\'athing\\' id=\\'28924300\\'>\\n      <td align=\"right\" valign=\"top\" class=\"title\"><span class=\"rank\">18.</span></td>      <td valign=\"top\" class=\"votelinks\"><center><a id=\\'up_28924300\\' href=\\'vote?id=28924300&amp;how=up&amp;goto=news\\'><div class=\\'votearrow\\' title=\\'upvote\\'></div></a></center></td><td class=\"title\"><a href=\"https://gds.blog.gov.uk/2021/10/19/single-sign-on-what-we-learned-during-our-identity-alpha/\" class=\"titlelink\">Single sign-on: What we learned during our identity alpha</a><span class=\"sitebit comhead\"> (<a href=\"from?site=gds.blog.gov.uk\"><span class=\"sitestr\">gds.blog.gov.uk</span></a>)</span></td></tr><tr><td colspan=\"2\"></td><td class=\"subtext\">\\n        <span class=\"score\" id=\"score_28924300\">102 points</span> by <a href=\"user?id=open-source-ux\" class=\"hnuser\">open-source-ux</a> <span class=\"age\" title=\"2021-10-19T21:57:29\"><a href=\"item?id=28924300\">9 hours ago</a></span> <span id=\"unv_28924300\"></span> | <a href=\"hide?id=28924300&amp;goto=news\">hide</a> | <a href=\"item?id=28924300\">43&nbsp;comments</a>              </td></tr>\\n      <tr class=\"spacer\" style=\"height:5px\"></tr>\\n                <tr class=\\'athing\\' id=\\'28919205\\'>\\n      <td align=\"right\" valign=\"top\" class=\"title\"><span class=\"rank\">19.</span></td>      <td valign=\"top\" class=\"votelinks\"><center><a id=\\'up_28919205\\' href=\\'vote?id=28919205&amp;how=up&amp;goto=news\\'><div class=\\'votearrow\\' title=\\'upvote\\'></div></a></center></td><td class=\"title\"><a href=\"https://blog.timescale.com/blog/function-pipelines-building-functional-programming-into-postgresql-using-custom-operators/\" class=\"titlelink\">Function pipelines: Building functional programming into PostgreSQL</a><span class=\"sitebit comhead\"> (<a href=\"from?site=timescale.com\"><span class=\"sitestr\">timescale.com</span></a>)</span></td></tr><tr><td colspan=\"2\"></td><td class=\"subtext\">\\n        <span class=\"score\" id=\"score_28919205\">309 points</span> by <a href=\"user?id=oconnor663\" class=\"hnuser\">oconnor663</a> <span class=\"age\" title=\"2021-10-19T15:29:46\"><a href=\"item?id=28919205\">16 hours ago</a></span> <span id=\"unv_28919205\"></span> | <a href=\"hide?id=28919205&amp;goto=news\">hide</a> | <a href=\"item?id=28919205\">61&nbsp;comments</a>              </td></tr>\\n      <tr class=\"spacer\" style=\"height:5px\"></tr>\\n                <tr class=\\'athing\\' id=\\'28904252\\'>\\n      <td align=\"right\" valign=\"top\" class=\"title\"><span class=\"rank\">20.</span></td>      <td valign=\"top\" class=\"votelinks\"><center><a id=\\'up_28904252\\' href=\\'vote?id=28904252&amp;how=up&amp;goto=news\\'><div class=\\'votearrow\\' title=\\'upvote\\'></div></a></center></td><td class=\"title\"><a href=\"https://onezero.medium.com/the-largely-untold-story-of-how-one-guy-in-california-keeps-the-worlds-computers-on-the-right-time-a97a5493bf73\" class=\"titlelink\">The tight-knit time zone data maintenance community</a><span class=\"sitebit comhead\"> (<a href=\"from?site=onezero.medium.com\"><span class=\"sitestr\">onezero.medium.com</span></a>)</span></td></tr><tr><td colspan=\"2\"></td><td class=\"subtext\">\\n        <span class=\"score\" id=\"score_28904252\">157 points</span> by <a href=\"user?id=xrayarx\" class=\"hnuser\">xrayarx</a> <span class=\"age\" title=\"2021-10-18T11:16:22\"><a href=\"item?id=28904252\">14 hours ago</a></span> <span id=\"unv_28904252\"></span> | <a href=\"hide?id=28904252&amp;goto=news\">hide</a> | <a href=\"item?id=28904252\">109&nbsp;comments</a>              </td></tr>\\n      <tr class=\"spacer\" style=\"height:5px\"></tr>\\n                <tr class=\\'athing\\' id=\\'28920269\\'>\\n      <td align=\"right\" valign=\"top\" class=\"title\"><span class=\"rank\">21.</span></td>      <td valign=\"top\" class=\"votelinks\"><center><a id=\\'up_28920269\\' href=\\'vote?id=28920269&amp;how=up&amp;goto=news\\'><div class=\\'votearrow\\' title=\\'upvote\\'></div></a></center></td><td class=\"title\"><a href=\"https://fly.io/blog/32-bit-real-estate/\" class=\"titlelink\">32 Bit Real Estate</a><span class=\"sitebit comhead\"> (<a href=\"from?site=fly.io\"><span class=\"sitestr\">fly.io</span></a>)</span></td></tr><tr><td colspan=\"2\"></td><td class=\"subtext\">\\n        <span class=\"score\" id=\"score_28920269\">162 points</span> by <a href=\"user?id=craigkerstiens\" class=\"hnuser\">craigkerstiens</a> <span class=\"age\" title=\"2021-10-19T16:48:25\"><a href=\"item?id=28920269\">12 hours ago</a></span> <span id=\"unv_28920269\"></span> | <a href=\"hide?id=28920269&amp;goto=news\">hide</a> | <a href=\"item?id=28920269\">49&nbsp;comments</a>              </td></tr>\\n      <tr class=\"spacer\" style=\"height:5px\"></tr>\\n                <tr class=\\'athing\\' id=\\'28926555\\'>\\n      <td align=\"right\" valign=\"top\" class=\"title\"><span class=\"rank\">22.</span></td>      <td valign=\"top\" class=\"votelinks\"><center><a id=\\'up_28926555\\' href=\\'vote?id=28926555&amp;how=up&amp;goto=news\\'><div class=\\'votearrow\\' title=\\'upvote\\'></div></a></center></td><td class=\"title\"><a href=\"https://sec.report/Document/0001628280-21-020026/usertestingincs-1.htm\" class=\"titlelink\">UserTesting S-1</a><span class=\"sitebit comhead\"> (<a href=\"from?site=sec.report\"><span class=\"sitestr\">sec.report</span></a>)</span></td></tr><tr><td colspan=\"2\"></td><td class=\"subtext\">\\n        <span class=\"score\" id=\"score_28926555\">15 points</span> by <a href=\"user?id=mushufasa\" class=\"hnuser\">mushufasa</a> <span class=\"age\" title=\"2021-10-20T03:53:42\"><a href=\"item?id=28926555\">3 hours ago</a></span> <span id=\"unv_28926555\"></span> | <a href=\"hide?id=28926555&amp;goto=news\">hide</a> | <a href=\"item?id=28926555\">discuss</a>              </td></tr>\\n      <tr class=\"spacer\" style=\"height:5px\"></tr>\\n                <tr class=\\'athing\\' id=\\'28914927\\'>\\n      <td align=\"right\" valign=\"top\" class=\"title\"><span class=\"rank\">23.</span></td>      <td valign=\"top\" class=\"votelinks\"><center><a id=\\'up_28914927\\' href=\\'vote?id=28914927&amp;how=up&amp;goto=news\\'><div class=\\'votearrow\\' title=\\'upvote\\'></div></a></center></td><td class=\"title\"><a href=\"https://www.atlasobscura.com/articles/picnic-in-cemeteries-america\" class=\"titlelink\">When Americans picnicked in cemeteries</a><span class=\"sitebit comhead\"> (<a href=\"from?site=atlasobscura.com\"><span class=\"sitestr\">atlasobscura.com</span></a>)</span></td></tr><tr><td colspan=\"2\"></td><td class=\"subtext\">\\n        <span class=\"score\" id=\"score_28914927\">27 points</span> by <a href=\"user?id=samclemens\" class=\"hnuser\">samclemens</a> <span class=\"age\" title=\"2021-10-19T04:41:40\"><a href=\"item?id=28914927\">5 hours ago</a></span> <span id=\"unv_28914927\"></span> | <a href=\"hide?id=28914927&amp;goto=news\">hide</a> | <a href=\"item?id=28914927\">13&nbsp;comments</a>              </td></tr>\\n      <tr class=\"spacer\" style=\"height:5px\"></tr>\\n                <tr class=\\'athing\\' id=\\'28918454\\'>\\n      <td align=\"right\" valign=\"top\" class=\"title\"><span class=\"rank\">24.</span></td>      <td valign=\"top\" class=\"votelinks\"><center><a id=\\'up_28918454\\' href=\\'vote?id=28918454&amp;how=up&amp;goto=news\\'><div class=\\'votearrow\\' title=\\'upvote\\'></div></a></center></td><td class=\"title\"><a href=\"https://www.economist.com/leaders/2021/10/16/is-the-world-economy-entering-a-wage-price-spiral\" class=\"titlelink\">Is the world economy entering a wage-price spiral?</a><span class=\"sitebit comhead\"> (<a href=\"from?site=economist.com\"><span class=\"sitestr\">economist.com</span></a>)</span></td></tr><tr><td colspan=\"2\"></td><td class=\"subtext\">\\n        <span class=\"score\" id=\"score_28918454\">119 points</span> by <a href=\"user?id=paulpauper\" class=\"hnuser\">paulpauper</a> <span class=\"age\" title=\"2021-10-19T14:27:49\"><a href=\"item?id=28918454\">14 hours ago</a></span> <span id=\"unv_28918454\"></span> | <a href=\"hide?id=28918454&amp;goto=news\">hide</a> | <a href=\"item?id=28918454\">235&nbsp;comments</a>              </td></tr>\\n      <tr class=\"spacer\" style=\"height:5px\"></tr>\\n                <tr class=\\'athing\\' id=\\'28904476\\'>\\n      <td align=\"right\" valign=\"top\" class=\"title\"><span class=\"rank\">25.</span></td>      <td valign=\"top\" class=\"votelinks\"><center><a id=\\'up_28904476\\' href=\\'vote?id=28904476&amp;how=up&amp;goto=news\\'><div class=\\'votearrow\\' title=\\'upvote\\'></div></a></center></td><td class=\"title\"><a href=\"https://www.readthegeneralist.com/briefing/harvard\" class=\"titlelink\">Harvard, a Media Company</a><span class=\"sitebit comhead\"> (<a href=\"from?site=readthegeneralist.com\"><span class=\"sitestr\">readthegeneralist.com</span></a>)</span></td></tr><tr><td colspan=\"2\"></td><td class=\"subtext\">\\n        <span class=\"score\" id=\"score_28904476\">16 points</span> by <a href=\"user?id=yarapavan\" class=\"hnuser\">yarapavan</a> <span class=\"age\" title=\"2021-10-18T11:52:52\"><a href=\"item?id=28904476\">4 hours ago</a></span> <span id=\"unv_28904476\"></span> | <a href=\"hide?id=28904476&amp;goto=news\">hide</a> | <a href=\"item?id=28904476\">5&nbsp;comments</a>              </td></tr>\\n      <tr class=\"spacer\" style=\"height:5px\"></tr>\\n                <tr class=\\'athing\\' id=\\'28917033\\'>\\n      <td align=\"right\" valign=\"top\" class=\"title\"><span class=\"rank\">26.</span></td>      <td valign=\"top\" class=\"votelinks\"><center><a id=\\'up_28917033\\' href=\\'vote?id=28917033&amp;how=up&amp;goto=news\\'><div class=\\'votearrow\\' title=\\'upvote\\'></div></a></center></td><td class=\"title\"><a href=\"https://news.mit.edu/2021/how-brain-navigates-cities-1018\" class=\"titlelink\">How the brain navigates cities</a><span class=\"sitebit comhead\"> (<a href=\"from?site=news.mit.edu\"><span class=\"sitestr\">news.mit.edu</span></a>)</span></td></tr><tr><td colspan=\"2\"></td><td class=\"subtext\">\\n        <span class=\"score\" id=\"score_28917033\">91 points</span> by <a href=\"user?id=el_duderino\" class=\"hnuser\">el_duderino</a> <span class=\"age\" title=\"2021-10-19T11:41:02\"><a href=\"item?id=28917033\">15 hours ago</a></span> <span id=\"unv_28917033\"></span> | <a href=\"hide?id=28917033&amp;goto=news\">hide</a> | <a href=\"item?id=28917033\">47&nbsp;comments</a>              </td></tr>\\n      <tr class=\"spacer\" style=\"height:5px\"></tr>\\n                <tr class=\\'athing\\' id=\\'28917531\\'>\\n      <td align=\"right\" valign=\"top\" class=\"title\"><span class=\"rank\">27.</span></td>      <td valign=\"top\" class=\"votelinks\"><center><a id=\\'up_28917531\\' href=\\'vote?id=28917531&amp;how=up&amp;goto=news\\'><div class=\\'votearrow\\' title=\\'upvote\\'></div></a></center></td><td class=\"title\"><a href=\"https://new.pythonforengineers.com/blog/the-day-i/\" class=\"titlelink\">The day my script killed 10k phones in South America</a><span class=\"sitebit comhead\"> (<a href=\"from?site=pythonforengineers.com\"><span class=\"sitestr\">pythonforengineers.com</span></a>)</span></td></tr><tr><td colspan=\"2\"></td><td class=\"subtext\">\\n        <span class=\"score\" id=\"score_28917531\">167 points</span> by <a href=\"user?id=nixcraft\" class=\"hnuser\">nixcraft</a> <span class=\"age\" title=\"2021-10-19T12:52:25\"><a href=\"item?id=28917531\">15 hours ago</a></span> <span id=\"unv_28917531\"></span> | <a href=\"hide?id=28917531&amp;goto=news\">hide</a> | <a href=\"item?id=28917531\">117&nbsp;comments</a>              </td></tr>\\n      <tr class=\"spacer\" style=\"height:5px\"></tr>\\n                <tr class=\\'athing\\' id=\\'28917023\\'>\\n      <td align=\"right\" valign=\"top\" class=\"title\"><span class=\"rank\">28.</span></td>      <td valign=\"top\" class=\"votelinks\"><center><a id=\\'up_28917023\\' href=\\'vote?id=28917023&amp;how=up&amp;goto=news\\'><div class=\\'votearrow\\' title=\\'upvote\\'></div></a></center></td><td class=\"title\"><a href=\"https://www.the74million.org/article/naep-long-term-unprecedented-performance-drop-american-13-year-olds/\" class=\"titlelink\">Long-term NAEP scores for 13-year-olds drop for first time since testing began</a><span class=\"sitebit comhead\"> (<a href=\"from?site=the74million.org\"><span class=\"sitestr\">the74million.org</span></a>)</span></td></tr><tr><td colspan=\"2\"></td><td class=\"subtext\">\\n        <span class=\"score\" id=\"score_28917023\">75 points</span> by <a href=\"user?id=Bostonian\" class=\"hnuser\">Bostonian</a> <span class=\"age\" title=\"2021-10-19T11:40:02\"><a href=\"item?id=28917023\">11 hours ago</a></span> <span id=\"unv_28917023\"></span> | <a href=\"hide?id=28917023&amp;goto=news\">hide</a> | <a href=\"item?id=28917023\">111&nbsp;comments</a>              </td></tr>\\n      <tr class=\"spacer\" style=\"height:5px\"></tr>\\n                <tr class=\\'athing\\' id=\\'28920693\\'>\\n      <td align=\"right\" valign=\"top\" class=\"title\"><span class=\"rank\">29.</span></td>      <td valign=\"top\" class=\"votelinks\"><center><a id=\\'up_28920693\\' href=\\'vote?id=28920693&amp;how=up&amp;goto=news\\'><div class=\\'votearrow\\' title=\\'upvote\\'></div></a></center></td><td class=\"title\"><a href=\"https://www.reuters.com/world/europe/drone-operator-will-try-rescue-dogs-spanish-volcano-2021-10-19/\" class=\"titlelink\">Drone operator will try to rescue dogs from Spanish volcano</a><span class=\"sitebit comhead\"> (<a href=\"from?site=reuters.com\"><span class=\"sitestr\">reuters.com</span></a>)</span></td></tr><tr><td colspan=\"2\"></td><td class=\"subtext\">\\n        <span class=\"score\" id=\"score_28920693\">184 points</span> by <a href=\"user?id=ClosedPistachio\" class=\"hnuser\">ClosedPistachio</a> <span class=\"age\" title=\"2021-10-19T17:19:25\"><a href=\"item?id=28920693\">14 hours ago</a></span> <span id=\"unv_28920693\"></span> | <a href=\"hide?id=28920693&amp;goto=news\">hide</a> | <a href=\"item?id=28920693\">83&nbsp;comments</a>              </td></tr>\\n      <tr class=\"spacer\" style=\"height:5px\"></tr>\\n                <tr class=\\'athing\\' id=\\'28926222\\'>\\n      <td align=\"right\" valign=\"top\" class=\"title\"><span class=\"rank\">30.</span></td>      <td valign=\"top\" class=\"votelinks\"><center><a id=\\'up_28926222\\' href=\\'vote?id=28926222&amp;how=up&amp;goto=news\\'><div class=\\'votearrow\\' title=\\'upvote\\'></div></a></center></td><td class=\"title\"><a href=\"https://www.reuters.com/technology/five-us-lawmakers-accuse-amazon-possibly-lying-congress-following-reuters-report-2021-10-18/\" class=\"titlelink\">Five U.S. lawmakers accuse Amazon of possibly lying to Congress</a><span class=\"sitebit comhead\"> (<a href=\"from?site=reuters.com\"><span class=\"sitestr\">reuters.com</span></a>)</span></td></tr><tr><td colspan=\"2\"></td><td class=\"subtext\">\\n        <span class=\"score\" id=\"score_28926222\">100 points</span> by <a href=\"user?id=rrix2\" class=\"hnuser\">rrix2</a> <span class=\"age\" title=\"2021-10-20T02:52:17\"><a href=\"item?id=28926222\">4 hours ago</a></span> <span id=\"unv_28926222\"></span> | <a href=\"hide?id=28926222&amp;goto=news\">hide</a> | <a href=\"item?id=28926222\">89&nbsp;comments</a>              </td></tr>\\n      <tr class=\"spacer\" style=\"height:5px\"></tr>\\n            <tr class=\"morespace\" style=\"height:10px\"></tr><tr><td colspan=\"2\"></td><td class=\"title\"><a href=\"news?p=2\" class=\"morelink\" rel=\"next\">More</a></td></tr>\\n  </table>\\n</td></tr>\\n<tr><td><img src=\"s.gif\" height=\"10\" width=\"0\"><table width=\"100%\" cellspacing=\"0\" cellpadding=\"1\"><tr><td bgcolor=\"#ff6600\"></td></tr></table><br><center><span class=\"yclinks\"><a href=\"newsguidelines.html\">Guidelines</a>\\n        | <a href=\"newsfaq.html\">FAQ</a>\\n        | <a href=\"lists\">Lists</a>\\n        | <a href=\"https://github.com/HackerNews/API\">API</a>\\n        | <a href=\"security.html\">Security</a>\\n        | <a href=\"http://www.ycombinator.com/legal/\">Legal</a>\\n        | <a href=\"http://www.ycombinator.com/apply/\">Apply to YC</a>\\n        | <a href=\"mailto:hn@ycombinator.com\">Contact</a></span><br><br><form method=\"get\" action=\"//hn.algolia.com/\">Search:\\n          <input type=\"text\" name=\"q\" value=\"\" size=\"17\" autocorrect=\"off\" spellcheck=\"false\" autocapitalize=\"off\" autocomplete=\"false\"></form>\\n            </center></td></tr>\\n      </table></center></body><script type=\\'text/javascript\\' src=\\'hn.js?kINVYarBkE7QJ6FelfS3\\'></script></html>\\n'"
      ]
     },
     "execution_count": 27,
     "metadata": {},
     "output_type": "execute_result"
    }
   ],
   "source": [
    "# math\n",
    "# random\n",
    "# request: gửi y/c\n",
    "\n",
    "import requests\n",
    "page = requests.get('https://news.ycombinator.com/news')\n",
    "page.content"
   ]
  },
  {
   "cell_type": "markdown",
   "metadata": {},
   "source": [
    "# numpy"
   ]
  },
  {
   "cell_type": "code",
   "execution_count": 30,
   "metadata": {},
   "outputs": [
    {
     "data": {
      "text/plain": [
       "10"
      ]
     },
     "execution_count": 30,
     "metadata": {},
     "output_type": "execute_result"
    }
   ],
   "source": [
    "import numpy as np\n",
    "a = np.array([1, 2, 3, 4])\n",
    "a.sum()"
   ]
  },
  {
   "cell_type": "code",
   "execution_count": null,
   "metadata": {},
   "outputs": [],
   "source": [
    "# cộng 2 array = cộng 2 vecto, còn list là nối\n",
    "# array thì sum() được, list thì not"
   ]
  },
  {
   "cell_type": "code",
   "execution_count": 32,
   "metadata": {},
   "outputs": [
    {
     "data": {
      "text/plain": [
       "array([ 0.84147098,  0.90929743,  0.14112001, -0.7568025 ])"
      ]
     },
     "execution_count": 32,
     "metadata": {},
     "output_type": "execute_result"
    }
   ],
   "source": [
    "a = np.array([1, 2, 3, 4])\n",
    "[np.sin(i) for i in a]\n",
    "np.sin(a)"
   ]
  }
 ],
 "metadata": {
  "kernelspec": {
   "display_name": "Python 3",
   "language": "python",
   "name": "python3"
  },
  "language_info": {
   "codemirror_mode": {
    "name": "ipython",
    "version": 3
   },
   "file_extension": ".py",
   "mimetype": "text/x-python",
   "name": "python",
   "nbconvert_exporter": "python",
   "pygments_lexer": "ipython3",
   "version": "3.8.3"
  }
 },
 "nbformat": 4,
 "nbformat_minor": 4
}
