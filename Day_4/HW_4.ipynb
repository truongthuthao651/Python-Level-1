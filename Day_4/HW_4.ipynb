{
 "cells": [
  {
   "cell_type": "markdown",
   "metadata": {},
   "source": [
    "# HW_4"
   ]
  },
  {
   "cell_type": "markdown",
   "metadata": {},
   "source": [
    "### Write a function to check whether the given integer is a prime number or not"
   ]
  },
  {
   "cell_type": "code",
   "execution_count": 17,
   "metadata": {},
   "outputs": [
    {
     "data": {
      "text/plain": [
       "True"
      ]
     },
     "execution_count": 17,
     "metadata": {},
     "output_type": "execute_result"
    }
   ],
   "source": [
    "def check_prime(a): \n",
    "    if a < 2:\n",
    "        return False\n",
    "    for i in range(2, a):\n",
    "        if a % i == 0:\n",
    "            print('Not prime')\n",
    "            break\n",
    "    return True\n",
    "check_prime(7)"
   ]
  },
  {
   "cell_type": "markdown",
   "metadata": {
    "heading_collapsed": "true",
    "tags": []
   },
   "source": [
    "### Write a function to find the largest number in a list "
   ]
  },
  {
   "cell_type": "code",
   "execution_count": 1,
   "metadata": {},
   "outputs": [
    {
     "data": {
      "text/plain": [
       "36"
      ]
     },
     "execution_count": 1,
     "metadata": {},
     "output_type": "execute_result"
    }
   ],
   "source": [
    "a = [1, 6, 22, 3, 36]\n",
    "def dt(a):\n",
    "    return max(a)\n",
    "dt(a)"
   ]
  },
  {
   "cell_type": "markdown",
   "metadata": {
    "heading_collapsed": "true",
    "tags": []
   },
   "source": [
    "### Write a function to find the second largest number in a list "
   ]
  },
  {
   "cell_type": "code",
   "execution_count": 2,
   "metadata": {},
   "outputs": [
    {
     "data": {
      "text/plain": [
       "22"
      ]
     },
     "execution_count": 2,
     "metadata": {},
     "output_type": "execute_result"
    }
   ],
   "source": [
    "# C1:\n",
    "a = [1, 6, 22, 3, 36, 36]\n",
    "maxa = max(a)\n",
    "while maxa in a:\n",
    "    a.remove(maxa)\n",
    "max(a)"
   ]
  },
  {
   "cell_type": "code",
   "execution_count": 3,
   "metadata": {},
   "outputs": [
    {
     "data": {
      "text/plain": [
       "22"
      ]
     },
     "execution_count": 3,
     "metadata": {},
     "output_type": "execute_result"
    }
   ],
   "source": [
    "# C2:\n",
    "a = [1, 6, 22, 3, 36, 36]\n",
    "max([i for i in a if i < max(a)])"
   ]
  },
  {
   "cell_type": "code",
   "execution_count": 18,
   "metadata": {},
   "outputs": [
    {
     "data": {
      "text/plain": [
       "36"
      ]
     },
     "execution_count": 18,
     "metadata": {},
     "output_type": "execute_result"
    }
   ],
   "source": [
    "# C3:\n",
    "a = [1, 6, 22, 3, 36, 36, 36]\n",
    "list(set(a))                                 # list(set()): lấy ~ unique\n",
    "sorted(a)[-2]"
   ]
  },
  {
   "cell_type": "markdown",
   "metadata": {},
   "source": [
    "### Write a function to find the mode of a list (mode is the value that appears most often)"
   ]
  },
  {
   "cell_type": "code",
   "execution_count": 5,
   "metadata": {},
   "outputs": [
    {
     "data": {
      "text/plain": [
       "{1: 1, 5: 2, 6: 3, 4: 1, 7: 5, 3: 1}"
      ]
     },
     "execution_count": 5,
     "metadata": {},
     "output_type": "execute_result"
    }
   ],
   "source": [
    "a = [1, 5, 6, 6, 6, 4, 7, 7, 7, 7, 7, 5, 3]\n",
    "d = {}\n",
    "for num in a:\n",
    "    if num not in d:\n",
    "        d[num] = 1\n",
    "    else:\n",
    "        d[num] += 1\n",
    "d"
   ]
  },
  {
   "cell_type": "markdown",
   "metadata": {},
   "source": [
    "### Create a txt file (content of any kind, multiple lines). Write a function to read the txt file, then count the number of words on each line. For example:\n",
    "Input `content.txt`:\n",
    "```\n",
    "First line.\n",
    "Second line but with some more words.\n",
    "Third line and some random words.\n",
    "```\n",
    "\n",
    "Output:\n",
    "```\n",
    "2\n",
    "7\n",
    "6\n",
    "```"
   ]
  },
  {
   "cell_type": "code",
   "execution_count": 17,
   "metadata": {},
   "outputs": [
    {
     "data": {
      "text/plain": [
       "'dfdgsfhfdhf vfj jgkgk jmgkg\\nddhdhcbfsh\\nhfshvnd mhvh ugiu\\nhysrhff vjf kho xgs kll'"
      ]
     },
     "execution_count": 17,
     "metadata": {},
     "output_type": "execute_result"
    }
   ],
   "source": [
    "content = open('untitled.txt').read()\n",
    "content"
   ]
  },
  {
   "cell_type": "code",
   "execution_count": 18,
   "metadata": {},
   "outputs": [
    {
     "data": {
      "text/plain": [
       "['dfdgsfhfdhf vfj jgkgk jmgkg',\n",
       " 'ddhdhcbfsh',\n",
       " 'hfshvnd mhvh ugiu',\n",
       " 'hysrhff vjf kho xgs kll']"
      ]
     },
     "execution_count": 18,
     "metadata": {},
     "output_type": "execute_result"
    }
   ],
   "source": [
    "content.splitlines()                          # .splitlines() = .split('\\n')"
   ]
  },
  {
   "cell_type": "code",
   "execution_count": 24,
   "metadata": {},
   "outputs": [
    {
     "data": {
      "text/plain": [
       "[4, 1, 3, 5]"
      ]
     },
     "execution_count": 24,
     "metadata": {},
     "output_type": "execute_result"
    }
   ],
   "source": [
    "results = []\n",
    "for i in content.splitlines():\n",
    "    s = len(i.split(' '))\n",
    "    results.append(s)\n",
    "results"
   ]
  }
 ],
 "metadata": {
  "kernelspec": {
   "display_name": "Python 3",
   "language": "python",
   "name": "python3"
  },
  "language_info": {
   "codemirror_mode": {
    "name": "ipython",
    "version": 3
   },
   "file_extension": ".py",
   "mimetype": "text/x-python",
   "name": "python",
   "nbconvert_exporter": "python",
   "pygments_lexer": "ipython3",
   "version": "3.8.3"
  }
 },
 "nbformat": 4,
 "nbformat_minor": 5
}
